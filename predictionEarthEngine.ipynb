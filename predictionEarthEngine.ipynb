{
  "nbformat": 4,
  "nbformat_minor": 5,
  "metadata": {
    "kernelspec": {
      "name": "python3",
      "display_name": "Python 3"
    },
    "colab": {
      "name": "predictionEarthEngine3.ipynb",
      "provenance": []
    },
    "language_info": {
      "name": "python"
    }
  },
  "cells": [
    {
      "cell_type": "code",
      "metadata": {
        "colab": {
          "base_uri": "https://localhost:8080/"
        },
        "id": "comic-panel",
        "outputId": "fa74096b-41dd-4d46-cdf2-dccfca8c594d"
      },
      "source": [
        "# Import, authenticate and initialize the Earth Engine library.\n",
        "import ee\n",
        "ee.Authenticate()\n",
        "ee.Initialize()"
      ],
      "id": "comic-panel",
      "execution_count": null,
      "outputs": [
        {
          "output_type": "stream",
          "text": [
            "To authorize access needed by Earth Engine, open the following URL in a web browser and follow the instructions. If the web browser does not start automatically, please manually browse the URL below.\n",
            "\n",
            "    https://accounts.google.com/o/oauth2/auth?client_id=517222506229-vsmmajv00ul0bs7p89v5m89qs8eb9359.apps.googleusercontent.com&scope=https%3A%2F%2Fwww.googleapis.com%2Fauth%2Fearthengine+https%3A%2F%2Fwww.googleapis.com%2Fauth%2Fdevstorage.full_control&redirect_uri=urn%3Aietf%3Awg%3Aoauth%3A2.0%3Aoob&response_type=code&code_challenge=ZkfEFHfnYHQQubLOdLaEMRhYMOMt2UTF_t6nv8EOPQE&code_challenge_method=S256\n",
            "\n",
            "The authorization workflow will generate a code, which you should paste in the box below. \n",
            "Enter verification code: 4/1AX4XfWgoEjBzAPpYdza50A9QYeEsKXEYAi9fpy3ZRq9p3kbs6iaMO5iI4j0\n",
            "\n",
            "Successfully saved authorization token.\n"
          ],
          "name": "stdout"
        }
      ]
    },
    {
      "cell_type": "code",
      "metadata": {
        "colab": {
          "base_uri": "https://localhost:8080/"
        },
        "id": "puMRITAWDJaU",
        "outputId": "e4d69353-5f8d-4868-8918-a665857128a2"
      },
      "source": [
        "# Mount our Google Drive\n",
        "from google.colab import drive\n",
        "drive.mount('/content/drive')"
      ],
      "id": "puMRITAWDJaU",
      "execution_count": null,
      "outputs": [
        {
          "output_type": "stream",
          "text": [
            "Mounted at /content/drive\n"
          ],
          "name": "stdout"
        }
      ]
    },
    {
      "cell_type": "code",
      "metadata": {
        "id": "VD21Ao6mzU0e"
      },
      "source": [
        "# Cloud authentication.\n",
        "from google.colab import auth\n",
        "auth.authenticate_user()"
      ],
      "id": "VD21Ao6mzU0e",
      "execution_count": null,
      "outputs": []
    },
    {
      "cell_type": "code",
      "metadata": {
        "colab": {
          "base_uri": "https://localhost:8080/"
        },
        "id": "weird-buyer",
        "outputId": "077abea9-45c5-405c-8ee7-7be01b098de0"
      },
      "source": [
        "# Tensorflow setup.\n",
        "!pip install tensorflow==2.4\n",
        "import tensorflow as tf\n",
        "print(tf.__version__)\n",
        "# Folium setup.\n",
        "import folium\n",
        "print(folium.__version__)\n",
        "from os import path as op\n",
        "import numpy as np\n",
        "import os"
      ],
      "id": "weird-buyer",
      "execution_count": null,
      "outputs": [
        {
          "output_type": "stream",
          "text": [
            "Collecting tensorflow==2.4\n",
            "\u001b[?25l  Downloading https://files.pythonhosted.org/packages/94/0a/012cc33c643d844433d13001dd1db179e7020b05ddbbd0a9dc86c38a8efa/tensorflow-2.4.0-cp37-cp37m-manylinux2010_x86_64.whl (394.7MB)\n",
            "\u001b[K     |████████████████████████████████| 394.7MB 40kB/s \n",
            "\u001b[?25hCollecting h5py~=2.10.0\n",
            "\u001b[?25l  Downloading https://files.pythonhosted.org/packages/3f/c0/abde58b837e066bca19a3f7332d9d0493521d7dd6b48248451a9e3fe2214/h5py-2.10.0-cp37-cp37m-manylinux1_x86_64.whl (2.9MB)\n",
            "\u001b[K     |████████████████████████████████| 2.9MB 24.7MB/s \n",
            "\u001b[?25hRequirement already satisfied: termcolor~=1.1.0 in /usr/local/lib/python3.7/dist-packages (from tensorflow==2.4) (1.1.0)\n",
            "Requirement already satisfied: six~=1.15.0 in /usr/local/lib/python3.7/dist-packages (from tensorflow==2.4) (1.15.0)\n",
            "Requirement already satisfied: flatbuffers~=1.12.0 in /usr/local/lib/python3.7/dist-packages (from tensorflow==2.4) (1.12)\n",
            "Requirement already satisfied: typing-extensions~=3.7.4 in /usr/local/lib/python3.7/dist-packages (from tensorflow==2.4) (3.7.4.3)\n",
            "Requirement already satisfied: tensorboard~=2.4 in /usr/local/lib/python3.7/dist-packages (from tensorflow==2.4) (2.5.0)\n",
            "Requirement already satisfied: wheel~=0.35 in /usr/local/lib/python3.7/dist-packages (from tensorflow==2.4) (0.36.2)\n",
            "Collecting gast==0.3.3\n",
            "  Downloading https://files.pythonhosted.org/packages/d6/84/759f5dd23fec8ba71952d97bcc7e2c9d7d63bdc582421f3cd4be845f0c98/gast-0.3.3-py2.py3-none-any.whl\n",
            "Collecting tensorflow-estimator<2.5.0,>=2.4.0rc0\n",
            "\u001b[?25l  Downloading https://files.pythonhosted.org/packages/74/7e/622d9849abf3afb81e482ffc170758742e392ee129ce1540611199a59237/tensorflow_estimator-2.4.0-py2.py3-none-any.whl (462kB)\n",
            "\u001b[K     |████████████████████████████████| 471kB 45.4MB/s \n",
            "\u001b[?25hRequirement already satisfied: numpy~=1.19.2 in /usr/local/lib/python3.7/dist-packages (from tensorflow==2.4) (1.19.5)\n",
            "Requirement already satisfied: protobuf>=3.9.2 in /usr/local/lib/python3.7/dist-packages (from tensorflow==2.4) (3.12.4)\n",
            "Requirement already satisfied: absl-py~=0.10 in /usr/local/lib/python3.7/dist-packages (from tensorflow==2.4) (0.12.0)\n",
            "Collecting grpcio~=1.32.0\n",
            "\u001b[?25l  Downloading https://files.pythonhosted.org/packages/06/54/1c8be62beafe7fb1548d2968e518ca040556b46b0275399d4f3186c56d79/grpcio-1.32.0-cp37-cp37m-manylinux2014_x86_64.whl (3.8MB)\n",
            "\u001b[K     |████████████████████████████████| 3.8MB 32.1MB/s \n",
            "\u001b[?25hRequirement already satisfied: wrapt~=1.12.1 in /usr/local/lib/python3.7/dist-packages (from tensorflow==2.4) (1.12.1)\n",
            "Requirement already satisfied: astunparse~=1.6.3 in /usr/local/lib/python3.7/dist-packages (from tensorflow==2.4) (1.6.3)\n",
            "Requirement already satisfied: opt-einsum~=3.3.0 in /usr/local/lib/python3.7/dist-packages (from tensorflow==2.4) (3.3.0)\n",
            "Requirement already satisfied: keras-preprocessing~=1.1.2 in /usr/local/lib/python3.7/dist-packages (from tensorflow==2.4) (1.1.2)\n",
            "Requirement already satisfied: google-pasta~=0.2 in /usr/local/lib/python3.7/dist-packages (from tensorflow==2.4) (0.2.0)\n",
            "Requirement already satisfied: markdown>=2.6.8 in /usr/local/lib/python3.7/dist-packages (from tensorboard~=2.4->tensorflow==2.4) (3.3.4)\n",
            "Requirement already satisfied: requests<3,>=2.21.0 in /usr/local/lib/python3.7/dist-packages (from tensorboard~=2.4->tensorflow==2.4) (2.23.0)\n",
            "Requirement already satisfied: werkzeug>=0.11.15 in /usr/local/lib/python3.7/dist-packages (from tensorboard~=2.4->tensorflow==2.4) (1.0.1)\n",
            "Requirement already satisfied: google-auth<2,>=1.6.3 in /usr/local/lib/python3.7/dist-packages (from tensorboard~=2.4->tensorflow==2.4) (1.31.0)\n",
            "Requirement already satisfied: tensorboard-plugin-wit>=1.6.0 in /usr/local/lib/python3.7/dist-packages (from tensorboard~=2.4->tensorflow==2.4) (1.8.0)\n",
            "Requirement already satisfied: setuptools>=41.0.0 in /usr/local/lib/python3.7/dist-packages (from tensorboard~=2.4->tensorflow==2.4) (57.0.0)\n",
            "Requirement already satisfied: google-auth-oauthlib<0.5,>=0.4.1 in /usr/local/lib/python3.7/dist-packages (from tensorboard~=2.4->tensorflow==2.4) (0.4.4)\n",
            "Requirement already satisfied: tensorboard-data-server<0.7.0,>=0.6.0 in /usr/local/lib/python3.7/dist-packages (from tensorboard~=2.4->tensorflow==2.4) (0.6.1)\n",
            "Requirement already satisfied: importlib-metadata; python_version < \"3.8\" in /usr/local/lib/python3.7/dist-packages (from markdown>=2.6.8->tensorboard~=2.4->tensorflow==2.4) (4.5.0)\n",
            "Requirement already satisfied: idna<3,>=2.5 in /usr/local/lib/python3.7/dist-packages (from requests<3,>=2.21.0->tensorboard~=2.4->tensorflow==2.4) (2.10)\n",
            "Requirement already satisfied: certifi>=2017.4.17 in /usr/local/lib/python3.7/dist-packages (from requests<3,>=2.21.0->tensorboard~=2.4->tensorflow==2.4) (2021.5.30)\n",
            "Requirement already satisfied: chardet<4,>=3.0.2 in /usr/local/lib/python3.7/dist-packages (from requests<3,>=2.21.0->tensorboard~=2.4->tensorflow==2.4) (3.0.4)\n",
            "Requirement already satisfied: urllib3!=1.25.0,!=1.25.1,<1.26,>=1.21.1 in /usr/local/lib/python3.7/dist-packages (from requests<3,>=2.21.0->tensorboard~=2.4->tensorflow==2.4) (1.24.3)\n",
            "Requirement already satisfied: pyasn1-modules>=0.2.1 in /usr/local/lib/python3.7/dist-packages (from google-auth<2,>=1.6.3->tensorboard~=2.4->tensorflow==2.4) (0.2.8)\n",
            "Requirement already satisfied: rsa<5,>=3.1.4; python_version >= \"3.6\" in /usr/local/lib/python3.7/dist-packages (from google-auth<2,>=1.6.3->tensorboard~=2.4->tensorflow==2.4) (4.7.2)\n",
            "Requirement already satisfied: cachetools<5.0,>=2.0.0 in /usr/local/lib/python3.7/dist-packages (from google-auth<2,>=1.6.3->tensorboard~=2.4->tensorflow==2.4) (4.2.2)\n",
            "Requirement already satisfied: requests-oauthlib>=0.7.0 in /usr/local/lib/python3.7/dist-packages (from google-auth-oauthlib<0.5,>=0.4.1->tensorboard~=2.4->tensorflow==2.4) (1.3.0)\n",
            "Requirement already satisfied: zipp>=0.5 in /usr/local/lib/python3.7/dist-packages (from importlib-metadata; python_version < \"3.8\"->markdown>=2.6.8->tensorboard~=2.4->tensorflow==2.4) (3.4.1)\n",
            "Requirement already satisfied: pyasn1<0.5.0,>=0.4.6 in /usr/local/lib/python3.7/dist-packages (from pyasn1-modules>=0.2.1->google-auth<2,>=1.6.3->tensorboard~=2.4->tensorflow==2.4) (0.4.8)\n",
            "Requirement already satisfied: oauthlib>=3.0.0 in /usr/local/lib/python3.7/dist-packages (from requests-oauthlib>=0.7.0->google-auth-oauthlib<0.5,>=0.4.1->tensorboard~=2.4->tensorflow==2.4) (3.1.1)\n",
            "Installing collected packages: h5py, gast, tensorflow-estimator, grpcio, tensorflow\n",
            "  Found existing installation: h5py 3.1.0\n",
            "    Uninstalling h5py-3.1.0:\n",
            "      Successfully uninstalled h5py-3.1.0\n",
            "  Found existing installation: gast 0.4.0\n",
            "    Uninstalling gast-0.4.0:\n",
            "      Successfully uninstalled gast-0.4.0\n",
            "  Found existing installation: tensorflow-estimator 2.5.0\n",
            "    Uninstalling tensorflow-estimator-2.5.0:\n",
            "      Successfully uninstalled tensorflow-estimator-2.5.0\n",
            "  Found existing installation: grpcio 1.34.1\n",
            "    Uninstalling grpcio-1.34.1:\n",
            "      Successfully uninstalled grpcio-1.34.1\n",
            "  Found existing installation: tensorflow 2.5.0\n",
            "    Uninstalling tensorflow-2.5.0:\n",
            "      Successfully uninstalled tensorflow-2.5.0\n",
            "Successfully installed gast-0.3.3 grpcio-1.32.0 h5py-2.10.0 tensorflow-2.4.0 tensorflow-estimator-2.4.0\n",
            "2.4.0\n",
            "0.8.3\n"
          ],
          "name": "stdout"
        }
      ]
    },
    {
      "cell_type": "code",
      "metadata": {
        "id": "blessed-response"
      },
      "source": [
        "model = tf.keras.models.load_model('./drive/MyDrive/modeloFinalReal.h5')"
      ],
      "id": "blessed-response",
      "execution_count": null,
      "outputs": []
    },
    {
      "cell_type": "code",
      "metadata": {
        "id": "resistant-biotechnology"
      },
      "source": [
        "# Specify names locations for outputs in Google Drive. \n",
        "FOLDER = 'prueba'\n",
        "ROOT_DIR = './drive/MyDrive/'\n",
        "\n",
        "# Specify the size and shape of patches expected by the model.\n",
        "KERNEL_SIZE = 224\n",
        "KERNEL_SHAPE = [KERNEL_SIZE, KERNEL_SIZE]\n",
        "BANDS = ['vis-red', 'vis-green', 'vis-blue']"
      ],
      "id": "resistant-biotechnology",
      "execution_count": null,
      "outputs": []
    },
    {
      "cell_type": "code",
      "metadata": {
        "id": "-TNMTQDlLZem"
      },
      "source": [
        "class Location():\n",
        "    def __init__(self, longitude, latitude):\n",
        "        self.longitude = longitude\n",
        "        self.latitude = latitude\n",
        "\n",
        "class MyImagen():\n",
        "    def __init__(self, imagen, region):\n",
        "        self.imagen = imagen\n",
        "        self.region = region"
      ],
      "id": "-TNMTQDlLZem",
      "execution_count": null,
      "outputs": []
    },
    {
      "cell_type": "code",
      "metadata": {
        "id": "KSgmSQi5xtU_"
      },
      "source": [
        "MAX_CLOUD_PROBABILITY = 20\n",
        "\n",
        "def maskClouds(img):\n",
        "  clouds = ee.Image(img.get('cloud_mask')).select('probability')\n",
        "  isNotCloud = clouds.lt(MAX_CLOUD_PROBABILITY)\n",
        "  return img.updateMask(isNotCloud)\n",
        "\n",
        "def maskEdges(s2_img):\n",
        "  return s2_img.updateMask(s2_img.select('B8A').mask().updateMask(s2_img.select('B9').mask()))"
      ],
      "id": "KSgmSQi5xtU_",
      "execution_count": null,
      "outputs": []
    },
    {
      "cell_type": "code",
      "metadata": {
        "id": "zpJO6deewNkO"
      },
      "source": [
        "name_class = {\n",
        "    'Barren': 0,\n",
        "    'Close_Shrubland': 1,\n",
        "    'Continental_Water': 2,\n",
        "    'Cropland_seasonal_water': 3,\n",
        "    'Forest_CDB': 4,\n",
        "    'Forest_CDN': 5,\n",
        "    'Forest_CEB': 6,\n",
        "    'Forest_CEN': 7,\n",
        "    'Forest_DDB': 8,\n",
        "    'Forest_DDN': 9,\n",
        "    'Forest_DEB': 10,\n",
        "    'Forest_DEN': 11,\n",
        "    'Forest_ODB': 12,\n",
        "    'Forest_ODN': 13,\n",
        "    'Forest_OEB': 14,\n",
        "    'Forest_OEN': 15,\n",
        "    'Grassland': 16,\n",
        "    'Irrigated_Broadleaf_Cropland': 17,\n",
        "    'Irrigated_Cereal_Cropland': 18,\n",
        "    'Mangrove': 19,\n",
        "    'Marine_Water_': 20,\n",
        "    'Marshland': 21,\n",
        "    'Moss_and_Lichen': 22,\n",
        "    'Open_Shrubland': 23,\n",
        "    'Rainfed_Broadleaf_Cropland': 24,\n",
        "    'Rainfed_Cereal_Cropland': 25,\n",
        "    'Snow': 26,\n",
        "    'Urban': 27\n",
        "}\n",
        "\n",
        "class_name = dict((v,k) for k,v in name_class.items())"
      ],
      "id": "zpJO6deewNkO",
      "execution_count": null,
      "outputs": []
    },
    {
      "cell_type": "markdown",
      "metadata": {
        "id": "uPNMnsvJv5gK"
      },
      "source": [
        "# Predicciones con getThumbURL"
      ],
      "id": "uPNMnsvJv5gK"
    },
    {
      "cell_type": "code",
      "metadata": {
        "id": "UxA50X9psq_l",
        "colab": {
          "base_uri": "https://localhost:8080/"
        },
        "outputId": "2c81a638-a63d-47dc-efe8-6feb3146494f"
      },
      "source": [
        "import urllib.request\n",
        "from PIL import Image\n",
        "import cv2\n",
        "import numpy as np\n",
        "from googleapiclient import discovery\n",
        "\n",
        "IMG_HEIGHT = 224\n",
        "IMG_WIDTH = 224\n",
        "prueba = False\n",
        "locations = []\n",
        "\n",
        "if prueba:\n",
        "  locations = [Location(-2.42, 36.18), Location(-3.62, 37.19)]\n",
        "else:\n",
        "  i = 0\n",
        "  longitude = -3.62\n",
        "  latitude = 37.19\n",
        "  tam = 3\n",
        "  for i in range(tam):\n",
        "    for j in range(tam):\n",
        "        locations.append(Location(longitude + i*0.02, latitude + j*0.02))\n",
        "\n",
        "images = []\n",
        "ee_images = []\n",
        "predicciones = []\n",
        "probs = []\n",
        "instances = []\n",
        "aiplatform = False\n",
        "\n",
        "for location in locations:\n",
        "  x=ee.Number(float(location.longitude))\n",
        "  y=ee.Number(float(location.latitude))\n",
        "  cor1=(x).subtract(0.0100)\n",
        "  cor2=(y).subtract(0.0100)\n",
        "  cor3=(x).add(0.0100)\n",
        "  cor4=(y).add(0.0100)\n",
        "  region=ee.Geometry.Rectangle([cor1,cor2,cor3,cor4],None,False);\n",
        "\n",
        "  s2Sr = ee.ImageCollection('COPERNICUS/S2').filterBounds(region);\n",
        "\n",
        "  s2Clouds = ee.ImageCollection('COPERNICUS/S2_CLOUD_PROBABILITY').filterBounds(region);\n",
        "\n",
        "  START_DATE = ee.Date('2015-06-23');\n",
        "  END_DATE = ee.Date('2020-10-27');\n",
        "  criteria = ee.Filter.date(START_DATE, END_DATE);\n",
        "\n",
        "  s2Sr = s2Sr.filter(criteria).map(maskEdges);\n",
        "  s2Clouds = s2Clouds.filter(criteria);\n",
        "  s2SrWithCloudMask = ee.Join.saveFirst('cloud_mask').apply(**{\"primary\": s2Sr, \"secondary\": s2Clouds, \"condition\": ee.Filter.equals(**{\"leftField\": 'system:index', \"rightField\": 'system:index'})});\n",
        "  s2CloudMaskedPercentile25 =ee.Image(ee.ImageCollection(s2SrWithCloudMask).map(maskClouds).reduce(ee.Reducer.percentile([25]))).unmask(0).clip(region);\n",
        "  visArgs = {\"bands\": [\"B4_p25\", \"B3_p25\", \"B2_p25\"], \"min\": 1, \"max\": 3558};\n",
        "  s2CloudMasked_rgb = ee.Image((s2CloudMaskedPercentile25.visualize(**visArgs).copyProperties(s2CloudMaskedPercentile25,s2CloudMaskedPercentile25.propertyNames()))).clip(region)\n",
        "  image = s2CloudMasked_rgb\n",
        "  images.append(MyImagen(image, region))\n",
        "  ee_images.append(image)\n",
        "\n",
        "  url = image.getThumbURL({'region':region, 'dimensions':224, 'format': 'jpg'})\n",
        "  print(url)\n",
        "  encodedURL = urllib.parse.quote(url, safe='://')\n",
        "  respuesta = urllib.request.urlopen(encodedURL)\n",
        "\n",
        "  if respuesta:\n",
        "    generada = Image.open(respuesta)\n",
        "    img = cv2.cvtColor(np.array(generada), cv2.COLOR_BGR2RGB)\n",
        "\n",
        "    if aiplatform:\n",
        "      instances.append(img.tolist())\n",
        "    else:\n",
        "      img = cv2.resize(img, (IMG_HEIGHT, IMG_WIDTH), interpolation = cv2.INTER_AREA)\n",
        "      img = np.array(img)\n",
        "      img = img.astype('float32')\n",
        "      img /= 255 \n",
        "\n",
        "      x = []\n",
        "      x.append(img)\n",
        "\n",
        "      x_array = np.array(x, np.float32)\n",
        "\n",
        "      pred = model.predict(x_array)\n",
        "\n",
        "      predicciones.append(np.argmax(pred[0]))\n",
        "      probs.append(pred[0][np.argmax(pred[0])])"
      ],
      "id": "UxA50X9psq_l",
      "execution_count": null,
      "outputs": [
        {
          "output_type": "stream",
          "text": [
            "https://earthengine.googleapis.com/v1alpha/projects/earthengine-legacy/thumbnails/9375ff456aa16a0813c95ab6cb48c189-a8172ef13a96c056c55dbcfb22b254f0:getPixels\n",
            "https://earthengine.googleapis.com/v1alpha/projects/earthengine-legacy/thumbnails/010537c9260845859b62de83ec317261-971f3d9ca3f11e196cc43b5043a67618:getPixels\n",
            "https://earthengine.googleapis.com/v1alpha/projects/earthengine-legacy/thumbnails/b5af0ee0a2434d79529dd6f08a2836f0-1b9c059e90ac7410e967edf27ef45a1d:getPixels\n",
            "https://earthengine.googleapis.com/v1alpha/projects/earthengine-legacy/thumbnails/2741534c77322f95ae7ad05cb3e6c0cc-9d0c1b16f2bdc265a9b65135a27131b1:getPixels\n",
            "https://earthengine.googleapis.com/v1alpha/projects/earthengine-legacy/thumbnails/d01f4824050a52c06b09e25d273e46d3-a4effe3d544dde830d8eca3487b0839a:getPixels\n",
            "https://earthengine.googleapis.com/v1alpha/projects/earthengine-legacy/thumbnails/fa2e5b4be1b467c080cc9eac55cfec8b-e74ff8aabac8deb3263f0015d3f58af4:getPixels\n",
            "https://earthengine.googleapis.com/v1alpha/projects/earthengine-legacy/thumbnails/c34057c8c4e6c6ac732db47d0b2df376-baa9944de7f9ee95cc20485544c35ae4:getPixels\n",
            "https://earthengine.googleapis.com/v1alpha/projects/earthengine-legacy/thumbnails/5451d78b38494dfbb9a9b419f276628e-24f844e08ec3d2a7d31779af1aaa5c06:getPixels\n",
            "https://earthengine.googleapis.com/v1alpha/projects/earthengine-legacy/thumbnails/a70f56ef6ddfee262a1d70bf9cd11273-56c17ccfaa2b8c9ac814e26d2595655c:getPixels\n"
          ],
          "name": "stdout"
        }
      ]
    },
    {
      "cell_type": "code",
      "metadata": {
        "colab": {
          "base_uri": "https://localhost:8080/"
        },
        "id": "4yiLM6x-0RuO",
        "outputId": "a802463a-bf1c-4424-cdd0-0d8f821efe8d"
      },
      "source": [
        "if aiplatform:\n",
        "  project_name = 'tfg-ugr-314011'\n",
        "  model_name = 'TfgPredictorCustom'\n",
        "  version_name = 'v0'\n",
        "\n",
        "  body = {\n",
        "    'instances': instances\n",
        "  }\n",
        "\n",
        "  service = discovery.build('ml', 'v1')\n",
        "  name = 'projects/{}/models/{}/versions/{}'.format(project_name, model_name, version_name)\n",
        "\n",
        "  response = service.projects().predict(\n",
        "      name=name,\n",
        "      body={'instances': instances}\n",
        "  ).execute()\n",
        "\n",
        "  for c in response['predictions']:\n",
        "    predicciones.append(name_class[c])\n",
        "\n",
        "  print(predicciones)\n",
        "else:\n",
        "  imageCol = ee.ImageCollection(ee_images)\n",
        "  print(predicciones)\n",
        "  print(probs)"
      ],
      "id": "4yiLM6x-0RuO",
      "execution_count": null,
      "outputs": [
        {
          "output_type": "stream",
          "text": [
            "[27, 27, 27, 27, 27, 24, 25, 25, 25]\n",
            "[0.9993407, 0.9821698, 0.9223297, 0.99908245, 0.99506986, 0.40050364, 0.4157589, 0.3957318, 0.535721]\n"
          ],
          "name": "stdout"
        }
      ]
    },
    {
      "cell_type": "code",
      "metadata": {
        "id": "_2xyvmeZwNkT"
      },
      "source": [
        "imagesWithPrediction = []\n",
        "i = 0\n",
        "\n",
        "for img in images:\n",
        "  imagesWithPrediction.append(img.imagen.addBands(ee.Image(int(predicciones[i])).clip(img.region)))\n",
        "  i += 1"
      ],
      "id": "_2xyvmeZwNkT",
      "execution_count": null,
      "outputs": []
    },
    {
      "cell_type": "code",
      "metadata": {
        "colab": {
          "base_uri": "https://localhost:8080/",
          "height": 635
        },
        "id": "9-EdRzI-wNkU",
        "outputId": "aec5c113-945a-4d7d-a625-7d3c61f8a861"
      },
      "source": [
        "# Use folium to visualize the input imagery and the predictions.\n",
        "map = folium.Map(location=[locations[0].latitude, locations[0].longitude], zoom_start=5)\n",
        "\n",
        "landCoverVis = {\n",
        "    'bands': ['constant'], \n",
        "    'min': 0, \n",
        "    'max': 27, \n",
        "    'palette': ['696969', '006400', '0000ff', '483d8b', \n",
        "                'b22222', '008b8b', '9acd32', '00008b', \n",
        "                '7f007f', '8fbc8f', 'b03060', 'ff0000',\n",
        "                'ff8c00', 'ffd700', '7cfc00', '8a2be2',\n",
        "                '00ffff', '00bfff', '808000', 'da70d6',\n",
        "                '1e90ff', 'ff00ff', 'ffc0cb', 'add8e6',\n",
        "                'ff1493', 'ffa07a', 'FFFFFF', 'f0e68c']\n",
        "}\n",
        "\n",
        "\n",
        "i = 0\n",
        "for img in imagesWithPrediction:\n",
        "  name = class_name[predicciones[i]] + \" \" + str(probs[i])\n",
        "  mapid = img.getMapId({'bands': ['vis-red', 'vis-green', 'vis-blue'], 'min': 0, 'max': 255, 'gamma': 1.4})\n",
        "  folium.TileLayer(\n",
        "      tiles=mapid['tile_fetcher'].url_format,\n",
        "      attr='Google Earth Engine',\n",
        "      overlay=True,\n",
        "      name=name,\n",
        "    ).add_to(map)\n",
        "\n",
        "  prediction = img.getMapId(landCoverVis)\n",
        "  folium.TileLayer(\n",
        "      tiles=prediction['tile_fetcher'].url_format,\n",
        "      attr='Google Earth Engine',\n",
        "      overlay=True,\n",
        "      name=name,\n",
        "    ).add_to(map)\n",
        "\n",
        "  i += 1\n",
        "\n",
        "map.add_child(folium.LayerControl())\n",
        "map"
      ],
      "id": "9-EdRzI-wNkU",
      "execution_count": null,
      "outputs": [
        {
          "output_type": "execute_result",
          "data": {
            "text/html": [
              "<div style=\"width:100%;\"><div style=\"position:relative;width:100%;height:0;padding-bottom:60%;\"><span style=\"color:#565656\">Make this Notebook Trusted to load map: File -> Trust Notebook</span><iframe src=\"about:blank\" style=\"position:absolute;width:100%;height:100%;left:0;top:0;border:none !important;\" data-html=%3C%21DOCTYPE%20html%3E%0A%3Chead%3E%20%20%20%20%0A%20%20%20%20%3Cmeta%20http-equiv%3D%22content-type%22%20content%3D%22text/html%3B%20charset%3DUTF-8%22%20/%3E%0A%20%20%20%20%3Cscript%3EL_PREFER_CANVAS%3Dfalse%3B%20L_NO_TOUCH%3Dfalse%3B%20L_DISABLE_3D%3Dfalse%3B%3C/script%3E%0A%20%20%20%20%3Cscript%20src%3D%22https%3A//cdn.jsdelivr.net/npm/leaflet%401.4.0/dist/leaflet.js%22%3E%3C/script%3E%0A%20%20%20%20%3Cscript%20src%3D%22https%3A//code.jquery.com/jquery-1.12.4.min.js%22%3E%3C/script%3E%0A%20%20%20%20%3Cscript%20src%3D%22https%3A//maxcdn.bootstrapcdn.com/bootstrap/3.2.0/js/bootstrap.min.js%22%3E%3C/script%3E%0A%20%20%20%20%3Cscript%20src%3D%22https%3A//cdnjs.cloudflare.com/ajax/libs/Leaflet.awesome-markers/2.0.2/leaflet.awesome-markers.js%22%3E%3C/script%3E%0A%20%20%20%20%3Clink%20rel%3D%22stylesheet%22%20href%3D%22https%3A//cdn.jsdelivr.net/npm/leaflet%401.4.0/dist/leaflet.css%22/%3E%0A%20%20%20%20%3Clink%20rel%3D%22stylesheet%22%20href%3D%22https%3A//maxcdn.bootstrapcdn.com/bootstrap/3.2.0/css/bootstrap.min.css%22/%3E%0A%20%20%20%20%3Clink%20rel%3D%22stylesheet%22%20href%3D%22https%3A//maxcdn.bootstrapcdn.com/bootstrap/3.2.0/css/bootstrap-theme.min.css%22/%3E%0A%20%20%20%20%3Clink%20rel%3D%22stylesheet%22%20href%3D%22https%3A//maxcdn.bootstrapcdn.com/font-awesome/4.6.3/css/font-awesome.min.css%22/%3E%0A%20%20%20%20%3Clink%20rel%3D%22stylesheet%22%20href%3D%22https%3A//cdnjs.cloudflare.com/ajax/libs/Leaflet.awesome-markers/2.0.2/leaflet.awesome-markers.css%22/%3E%0A%20%20%20%20%3Clink%20rel%3D%22stylesheet%22%20href%3D%22https%3A//rawcdn.githack.com/python-visualization/folium/master/folium/templates/leaflet.awesome.rotate.css%22/%3E%0A%20%20%20%20%3Cstyle%3Ehtml%2C%20body%20%7Bwidth%3A%20100%25%3Bheight%3A%20100%25%3Bmargin%3A%200%3Bpadding%3A%200%3B%7D%3C/style%3E%0A%20%20%20%20%3Cstyle%3E%23map%20%7Bposition%3Aabsolute%3Btop%3A0%3Bbottom%3A0%3Bright%3A0%3Bleft%3A0%3B%7D%3C/style%3E%0A%20%20%20%20%0A%20%20%20%20%3Cmeta%20name%3D%22viewport%22%20content%3D%22width%3Ddevice-width%2C%0A%20%20%20%20%20%20%20%20initial-scale%3D1.0%2C%20maximum-scale%3D1.0%2C%20user-scalable%3Dno%22%20/%3E%0A%20%20%20%20%3Cstyle%3E%23map_8b8ac61e097142f1a71f00eece7292ab%20%7B%0A%20%20%20%20%20%20%20%20position%3A%20relative%3B%0A%20%20%20%20%20%20%20%20width%3A%20100.0%25%3B%0A%20%20%20%20%20%20%20%20height%3A%20100.0%25%3B%0A%20%20%20%20%20%20%20%20left%3A%200.0%25%3B%0A%20%20%20%20%20%20%20%20top%3A%200.0%25%3B%0A%20%20%20%20%20%20%20%20%7D%0A%20%20%20%20%3C/style%3E%0A%3C/head%3E%0A%3Cbody%3E%20%20%20%20%0A%20%20%20%20%0A%20%20%20%20%3Cdiv%20class%3D%22folium-map%22%20id%3D%22map_8b8ac61e097142f1a71f00eece7292ab%22%20%3E%3C/div%3E%0A%3C/body%3E%0A%3Cscript%3E%20%20%20%20%0A%20%20%20%20%0A%20%20%20%20%0A%20%20%20%20%20%20%20%20var%20bounds%20%3D%20null%3B%0A%20%20%20%20%0A%0A%20%20%20%20var%20map_8b8ac61e097142f1a71f00eece7292ab%20%3D%20L.map%28%0A%20%20%20%20%20%20%20%20%27map_8b8ac61e097142f1a71f00eece7292ab%27%2C%20%7B%0A%20%20%20%20%20%20%20%20center%3A%20%5B37.19%2C%20-3.62%5D%2C%0A%20%20%20%20%20%20%20%20zoom%3A%205%2C%0A%20%20%20%20%20%20%20%20maxBounds%3A%20bounds%2C%0A%20%20%20%20%20%20%20%20layers%3A%20%5B%5D%2C%0A%20%20%20%20%20%20%20%20worldCopyJump%3A%20false%2C%0A%20%20%20%20%20%20%20%20crs%3A%20L.CRS.EPSG3857%2C%0A%20%20%20%20%20%20%20%20zoomControl%3A%20true%2C%0A%20%20%20%20%20%20%20%20%7D%29%3B%0A%0A%0A%20%20%20%20%0A%20%20%20%20var%20tile_layer_4923ac40f4c44a57aca3500581677834%20%3D%20L.tileLayer%28%0A%20%20%20%20%20%20%20%20%27https%3A//%7Bs%7D.tile.openstreetmap.org/%7Bz%7D/%7Bx%7D/%7By%7D.png%27%2C%0A%20%20%20%20%20%20%20%20%7B%0A%20%20%20%20%20%20%20%20%22attribution%22%3A%20null%2C%0A%20%20%20%20%20%20%20%20%22detectRetina%22%3A%20false%2C%0A%20%20%20%20%20%20%20%20%22maxNativeZoom%22%3A%2018%2C%0A%20%20%20%20%20%20%20%20%22maxZoom%22%3A%2018%2C%0A%20%20%20%20%20%20%20%20%22minZoom%22%3A%200%2C%0A%20%20%20%20%20%20%20%20%22noWrap%22%3A%20false%2C%0A%20%20%20%20%20%20%20%20%22opacity%22%3A%201%2C%0A%20%20%20%20%20%20%20%20%22subdomains%22%3A%20%22abc%22%2C%0A%20%20%20%20%20%20%20%20%22tms%22%3A%20false%0A%7D%29.addTo%28map_8b8ac61e097142f1a71f00eece7292ab%29%3B%0A%20%20%20%20var%20tile_layer_632f788d59194788a6b6a814c69e3665%20%3D%20L.tileLayer%28%0A%20%20%20%20%20%20%20%20%27https%3A//earthengine.googleapis.com/v1alpha/projects/earthengine-legacy/maps/82c26d7103463fdec0d605a868d82435-d2f91debd765981c3069d64f8529c41a/tiles/%7Bz%7D/%7Bx%7D/%7By%7D%27%2C%0A%20%20%20%20%20%20%20%20%7B%0A%20%20%20%20%20%20%20%20%22attribution%22%3A%20%22Google%20Earth%20Engine%22%2C%0A%20%20%20%20%20%20%20%20%22detectRetina%22%3A%20false%2C%0A%20%20%20%20%20%20%20%20%22maxNativeZoom%22%3A%2018%2C%0A%20%20%20%20%20%20%20%20%22maxZoom%22%3A%2018%2C%0A%20%20%20%20%20%20%20%20%22minZoom%22%3A%200%2C%0A%20%20%20%20%20%20%20%20%22noWrap%22%3A%20false%2C%0A%20%20%20%20%20%20%20%20%22opacity%22%3A%201%2C%0A%20%20%20%20%20%20%20%20%22subdomains%22%3A%20%22abc%22%2C%0A%20%20%20%20%20%20%20%20%22tms%22%3A%20false%0A%7D%29.addTo%28map_8b8ac61e097142f1a71f00eece7292ab%29%3B%0A%20%20%20%20var%20tile_layer_9260e191576d4353aa60b14c846396b3%20%3D%20L.tileLayer%28%0A%20%20%20%20%20%20%20%20%27https%3A//earthengine.googleapis.com/v1alpha/projects/earthengine-legacy/maps/aeab6d16f28d3087d937b285c25b360f-df7ee4b783cea6cc218e3fdfef1f22da/tiles/%7Bz%7D/%7Bx%7D/%7By%7D%27%2C%0A%20%20%20%20%20%20%20%20%7B%0A%20%20%20%20%20%20%20%20%22attribution%22%3A%20%22Google%20Earth%20Engine%22%2C%0A%20%20%20%20%20%20%20%20%22detectRetina%22%3A%20false%2C%0A%20%20%20%20%20%20%20%20%22maxNativeZoom%22%3A%2018%2C%0A%20%20%20%20%20%20%20%20%22maxZoom%22%3A%2018%2C%0A%20%20%20%20%20%20%20%20%22minZoom%22%3A%200%2C%0A%20%20%20%20%20%20%20%20%22noWrap%22%3A%20false%2C%0A%20%20%20%20%20%20%20%20%22opacity%22%3A%201%2C%0A%20%20%20%20%20%20%20%20%22subdomains%22%3A%20%22abc%22%2C%0A%20%20%20%20%20%20%20%20%22tms%22%3A%20false%0A%7D%29.addTo%28map_8b8ac61e097142f1a71f00eece7292ab%29%3B%0A%20%20%20%20var%20tile_layer_4909244aa5044033a3ab4642dda6dfbe%20%3D%20L.tileLayer%28%0A%20%20%20%20%20%20%20%20%27https%3A//earthengine.googleapis.com/v1alpha/projects/earthengine-legacy/maps/8fe23f23c9fb07a988e1596d26a9ce51-2fc9c292d1ee7b93b65c811fe5ab1d45/tiles/%7Bz%7D/%7Bx%7D/%7By%7D%27%2C%0A%20%20%20%20%20%20%20%20%7B%0A%20%20%20%20%20%20%20%20%22attribution%22%3A%20%22Google%20Earth%20Engine%22%2C%0A%20%20%20%20%20%20%20%20%22detectRetina%22%3A%20false%2C%0A%20%20%20%20%20%20%20%20%22maxNativeZoom%22%3A%2018%2C%0A%20%20%20%20%20%20%20%20%22maxZoom%22%3A%2018%2C%0A%20%20%20%20%20%20%20%20%22minZoom%22%3A%200%2C%0A%20%20%20%20%20%20%20%20%22noWrap%22%3A%20false%2C%0A%20%20%20%20%20%20%20%20%22opacity%22%3A%201%2C%0A%20%20%20%20%20%20%20%20%22subdomains%22%3A%20%22abc%22%2C%0A%20%20%20%20%20%20%20%20%22tms%22%3A%20false%0A%7D%29.addTo%28map_8b8ac61e097142f1a71f00eece7292ab%29%3B%0A%20%20%20%20var%20tile_layer_3d29e02729894255b07cf8ef15bb7abf%20%3D%20L.tileLayer%28%0A%20%20%20%20%20%20%20%20%27https%3A//earthengine.googleapis.com/v1alpha/projects/earthengine-legacy/maps/2099e1f371508178995aac609bed8559-f68294daed166ee14c27b0600a6b0d4f/tiles/%7Bz%7D/%7Bx%7D/%7By%7D%27%2C%0A%20%20%20%20%20%20%20%20%7B%0A%20%20%20%20%20%20%20%20%22attribution%22%3A%20%22Google%20Earth%20Engine%22%2C%0A%20%20%20%20%20%20%20%20%22detectRetina%22%3A%20false%2C%0A%20%20%20%20%20%20%20%20%22maxNativeZoom%22%3A%2018%2C%0A%20%20%20%20%20%20%20%20%22maxZoom%22%3A%2018%2C%0A%20%20%20%20%20%20%20%20%22minZoom%22%3A%200%2C%0A%20%20%20%20%20%20%20%20%22noWrap%22%3A%20false%2C%0A%20%20%20%20%20%20%20%20%22opacity%22%3A%201%2C%0A%20%20%20%20%20%20%20%20%22subdomains%22%3A%20%22abc%22%2C%0A%20%20%20%20%20%20%20%20%22tms%22%3A%20false%0A%7D%29.addTo%28map_8b8ac61e097142f1a71f00eece7292ab%29%3B%0A%20%20%20%20var%20tile_layer_d40999661272493a97699c69b8dd1f0d%20%3D%20L.tileLayer%28%0A%20%20%20%20%20%20%20%20%27https%3A//earthengine.googleapis.com/v1alpha/projects/earthengine-legacy/maps/cddc850e3469684a03a3626ec93df4fa-7f6e3427e5bb26cafdb6ead84fb8258b/tiles/%7Bz%7D/%7Bx%7D/%7By%7D%27%2C%0A%20%20%20%20%20%20%20%20%7B%0A%20%20%20%20%20%20%20%20%22attribution%22%3A%20%22Google%20Earth%20Engine%22%2C%0A%20%20%20%20%20%20%20%20%22detectRetina%22%3A%20false%2C%0A%20%20%20%20%20%20%20%20%22maxNativeZoom%22%3A%2018%2C%0A%20%20%20%20%20%20%20%20%22maxZoom%22%3A%2018%2C%0A%20%20%20%20%20%20%20%20%22minZoom%22%3A%200%2C%0A%20%20%20%20%20%20%20%20%22noWrap%22%3A%20false%2C%0A%20%20%20%20%20%20%20%20%22opacity%22%3A%201%2C%0A%20%20%20%20%20%20%20%20%22subdomains%22%3A%20%22abc%22%2C%0A%20%20%20%20%20%20%20%20%22tms%22%3A%20false%0A%7D%29.addTo%28map_8b8ac61e097142f1a71f00eece7292ab%29%3B%0A%20%20%20%20var%20tile_layer_1ae85b43603941ff995622d2dd0a96e7%20%3D%20L.tileLayer%28%0A%20%20%20%20%20%20%20%20%27https%3A//earthengine.googleapis.com/v1alpha/projects/earthengine-legacy/maps/a94b5f68831fd67ec876f44ea708188f-6f4da7e3ae36743c2d0c1c6df21003a4/tiles/%7Bz%7D/%7Bx%7D/%7By%7D%27%2C%0A%20%20%20%20%20%20%20%20%7B%0A%20%20%20%20%20%20%20%20%22attribution%22%3A%20%22Google%20Earth%20Engine%22%2C%0A%20%20%20%20%20%20%20%20%22detectRetina%22%3A%20false%2C%0A%20%20%20%20%20%20%20%20%22maxNativeZoom%22%3A%2018%2C%0A%20%20%20%20%20%20%20%20%22maxZoom%22%3A%2018%2C%0A%20%20%20%20%20%20%20%20%22minZoom%22%3A%200%2C%0A%20%20%20%20%20%20%20%20%22noWrap%22%3A%20false%2C%0A%20%20%20%20%20%20%20%20%22opacity%22%3A%201%2C%0A%20%20%20%20%20%20%20%20%22subdomains%22%3A%20%22abc%22%2C%0A%20%20%20%20%20%20%20%20%22tms%22%3A%20false%0A%7D%29.addTo%28map_8b8ac61e097142f1a71f00eece7292ab%29%3B%0A%20%20%20%20var%20tile_layer_a76a719ded914a99aef8a525b70293dc%20%3D%20L.tileLayer%28%0A%20%20%20%20%20%20%20%20%27https%3A//earthengine.googleapis.com/v1alpha/projects/earthengine-legacy/maps/180d7cf47076c3180e42badad27b2a6d-f2d2c494dc30c6bba335ca2b65f98697/tiles/%7Bz%7D/%7Bx%7D/%7By%7D%27%2C%0A%20%20%20%20%20%20%20%20%7B%0A%20%20%20%20%20%20%20%20%22attribution%22%3A%20%22Google%20Earth%20Engine%22%2C%0A%20%20%20%20%20%20%20%20%22detectRetina%22%3A%20false%2C%0A%20%20%20%20%20%20%20%20%22maxNativeZoom%22%3A%2018%2C%0A%20%20%20%20%20%20%20%20%22maxZoom%22%3A%2018%2C%0A%20%20%20%20%20%20%20%20%22minZoom%22%3A%200%2C%0A%20%20%20%20%20%20%20%20%22noWrap%22%3A%20false%2C%0A%20%20%20%20%20%20%20%20%22opacity%22%3A%201%2C%0A%20%20%20%20%20%20%20%20%22subdomains%22%3A%20%22abc%22%2C%0A%20%20%20%20%20%20%20%20%22tms%22%3A%20false%0A%7D%29.addTo%28map_8b8ac61e097142f1a71f00eece7292ab%29%3B%0A%20%20%20%20var%20tile_layer_9569755c41f643e2872600abcb140180%20%3D%20L.tileLayer%28%0A%20%20%20%20%20%20%20%20%27https%3A//earthengine.googleapis.com/v1alpha/projects/earthengine-legacy/maps/e5c531894c3a7f19acfa7aa0859a2fcf-00940b6dc342ac95232c5caaf09e7af9/tiles/%7Bz%7D/%7Bx%7D/%7By%7D%27%2C%0A%20%20%20%20%20%20%20%20%7B%0A%20%20%20%20%20%20%20%20%22attribution%22%3A%20%22Google%20Earth%20Engine%22%2C%0A%20%20%20%20%20%20%20%20%22detectRetina%22%3A%20false%2C%0A%20%20%20%20%20%20%20%20%22maxNativeZoom%22%3A%2018%2C%0A%20%20%20%20%20%20%20%20%22maxZoom%22%3A%2018%2C%0A%20%20%20%20%20%20%20%20%22minZoom%22%3A%200%2C%0A%20%20%20%20%20%20%20%20%22noWrap%22%3A%20false%2C%0A%20%20%20%20%20%20%20%20%22opacity%22%3A%201%2C%0A%20%20%20%20%20%20%20%20%22subdomains%22%3A%20%22abc%22%2C%0A%20%20%20%20%20%20%20%20%22tms%22%3A%20false%0A%7D%29.addTo%28map_8b8ac61e097142f1a71f00eece7292ab%29%3B%0A%20%20%20%20var%20tile_layer_f3f17c3167f34020b777218723671129%20%3D%20L.tileLayer%28%0A%20%20%20%20%20%20%20%20%27https%3A//earthengine.googleapis.com/v1alpha/projects/earthengine-legacy/maps/df41e403321c60613502f26cbb913901-25627e448882b4dab60a87aeaeb67aba/tiles/%7Bz%7D/%7Bx%7D/%7By%7D%27%2C%0A%20%20%20%20%20%20%20%20%7B%0A%20%20%20%20%20%20%20%20%22attribution%22%3A%20%22Google%20Earth%20Engine%22%2C%0A%20%20%20%20%20%20%20%20%22detectRetina%22%3A%20false%2C%0A%20%20%20%20%20%20%20%20%22maxNativeZoom%22%3A%2018%2C%0A%20%20%20%20%20%20%20%20%22maxZoom%22%3A%2018%2C%0A%20%20%20%20%20%20%20%20%22minZoom%22%3A%200%2C%0A%20%20%20%20%20%20%20%20%22noWrap%22%3A%20false%2C%0A%20%20%20%20%20%20%20%20%22opacity%22%3A%201%2C%0A%20%20%20%20%20%20%20%20%22subdomains%22%3A%20%22abc%22%2C%0A%20%20%20%20%20%20%20%20%22tms%22%3A%20false%0A%7D%29.addTo%28map_8b8ac61e097142f1a71f00eece7292ab%29%3B%0A%20%20%20%20var%20tile_layer_9c0fbb6e65f34dc08163a3e7ab901b2d%20%3D%20L.tileLayer%28%0A%20%20%20%20%20%20%20%20%27https%3A//earthengine.googleapis.com/v1alpha/projects/earthengine-legacy/maps/3990b5647d28708292226fc05d04979a-2730c6239f15ebee5975686926a675ee/tiles/%7Bz%7D/%7Bx%7D/%7By%7D%27%2C%0A%20%20%20%20%20%20%20%20%7B%0A%20%20%20%20%20%20%20%20%22attribution%22%3A%20%22Google%20Earth%20Engine%22%2C%0A%20%20%20%20%20%20%20%20%22detectRetina%22%3A%20false%2C%0A%20%20%20%20%20%20%20%20%22maxNativeZoom%22%3A%2018%2C%0A%20%20%20%20%20%20%20%20%22maxZoom%22%3A%2018%2C%0A%20%20%20%20%20%20%20%20%22minZoom%22%3A%200%2C%0A%20%20%20%20%20%20%20%20%22noWrap%22%3A%20false%2C%0A%20%20%20%20%20%20%20%20%22opacity%22%3A%201%2C%0A%20%20%20%20%20%20%20%20%22subdomains%22%3A%20%22abc%22%2C%0A%20%20%20%20%20%20%20%20%22tms%22%3A%20false%0A%7D%29.addTo%28map_8b8ac61e097142f1a71f00eece7292ab%29%3B%0A%20%20%20%20var%20tile_layer_cb45fa27baa84c04a94087c0562ecb65%20%3D%20L.tileLayer%28%0A%20%20%20%20%20%20%20%20%27https%3A//earthengine.googleapis.com/v1alpha/projects/earthengine-legacy/maps/ec754026bae8c1ac5f3c27abcd1679fa-48d0784ec107dbb5b8b4e23ec648c216/tiles/%7Bz%7D/%7Bx%7D/%7By%7D%27%2C%0A%20%20%20%20%20%20%20%20%7B%0A%20%20%20%20%20%20%20%20%22attribution%22%3A%20%22Google%20Earth%20Engine%22%2C%0A%20%20%20%20%20%20%20%20%22detectRetina%22%3A%20false%2C%0A%20%20%20%20%20%20%20%20%22maxNativeZoom%22%3A%2018%2C%0A%20%20%20%20%20%20%20%20%22maxZoom%22%3A%2018%2C%0A%20%20%20%20%20%20%20%20%22minZoom%22%3A%200%2C%0A%20%20%20%20%20%20%20%20%22noWrap%22%3A%20false%2C%0A%20%20%20%20%20%20%20%20%22opacity%22%3A%201%2C%0A%20%20%20%20%20%20%20%20%22subdomains%22%3A%20%22abc%22%2C%0A%20%20%20%20%20%20%20%20%22tms%22%3A%20false%0A%7D%29.addTo%28map_8b8ac61e097142f1a71f00eece7292ab%29%3B%0A%20%20%20%20var%20tile_layer_13a203fdeee3419daf56c07a464143b8%20%3D%20L.tileLayer%28%0A%20%20%20%20%20%20%20%20%27https%3A//earthengine.googleapis.com/v1alpha/projects/earthengine-legacy/maps/d4f63fb4beba91e3125c7e54eb56de3e-3a44b3e2652bd735e19b4167346f0eea/tiles/%7Bz%7D/%7Bx%7D/%7By%7D%27%2C%0A%20%20%20%20%20%20%20%20%7B%0A%20%20%20%20%20%20%20%20%22attribution%22%3A%20%22Google%20Earth%20Engine%22%2C%0A%20%20%20%20%20%20%20%20%22detectRetina%22%3A%20false%2C%0A%20%20%20%20%20%20%20%20%22maxNativeZoom%22%3A%2018%2C%0A%20%20%20%20%20%20%20%20%22maxZoom%22%3A%2018%2C%0A%20%20%20%20%20%20%20%20%22minZoom%22%3A%200%2C%0A%20%20%20%20%20%20%20%20%22noWrap%22%3A%20false%2C%0A%20%20%20%20%20%20%20%20%22opacity%22%3A%201%2C%0A%20%20%20%20%20%20%20%20%22subdomains%22%3A%20%22abc%22%2C%0A%20%20%20%20%20%20%20%20%22tms%22%3A%20false%0A%7D%29.addTo%28map_8b8ac61e097142f1a71f00eece7292ab%29%3B%0A%20%20%20%20var%20tile_layer_8b2d313851674b2ba988d9095998b9c0%20%3D%20L.tileLayer%28%0A%20%20%20%20%20%20%20%20%27https%3A//earthengine.googleapis.com/v1alpha/projects/earthengine-legacy/maps/e9090ea376ee32a6ceaa5358835a0241-22b7ca17252548483884340c51c1056f/tiles/%7Bz%7D/%7Bx%7D/%7By%7D%27%2C%0A%20%20%20%20%20%20%20%20%7B%0A%20%20%20%20%20%20%20%20%22attribution%22%3A%20%22Google%20Earth%20Engine%22%2C%0A%20%20%20%20%20%20%20%20%22detectRetina%22%3A%20false%2C%0A%20%20%20%20%20%20%20%20%22maxNativeZoom%22%3A%2018%2C%0A%20%20%20%20%20%20%20%20%22maxZoom%22%3A%2018%2C%0A%20%20%20%20%20%20%20%20%22minZoom%22%3A%200%2C%0A%20%20%20%20%20%20%20%20%22noWrap%22%3A%20false%2C%0A%20%20%20%20%20%20%20%20%22opacity%22%3A%201%2C%0A%20%20%20%20%20%20%20%20%22subdomains%22%3A%20%22abc%22%2C%0A%20%20%20%20%20%20%20%20%22tms%22%3A%20false%0A%7D%29.addTo%28map_8b8ac61e097142f1a71f00eece7292ab%29%3B%0A%20%20%20%20var%20tile_layer_0217592f5dd84391813906d9c7893650%20%3D%20L.tileLayer%28%0A%20%20%20%20%20%20%20%20%27https%3A//earthengine.googleapis.com/v1alpha/projects/earthengine-legacy/maps/3d86d85080c07267c77d842896a1f30c-ad2bd87316ce6e406b4037c643b9a181/tiles/%7Bz%7D/%7Bx%7D/%7By%7D%27%2C%0A%20%20%20%20%20%20%20%20%7B%0A%20%20%20%20%20%20%20%20%22attribution%22%3A%20%22Google%20Earth%20Engine%22%2C%0A%20%20%20%20%20%20%20%20%22detectRetina%22%3A%20false%2C%0A%20%20%20%20%20%20%20%20%22maxNativeZoom%22%3A%2018%2C%0A%20%20%20%20%20%20%20%20%22maxZoom%22%3A%2018%2C%0A%20%20%20%20%20%20%20%20%22minZoom%22%3A%200%2C%0A%20%20%20%20%20%20%20%20%22noWrap%22%3A%20false%2C%0A%20%20%20%20%20%20%20%20%22opacity%22%3A%201%2C%0A%20%20%20%20%20%20%20%20%22subdomains%22%3A%20%22abc%22%2C%0A%20%20%20%20%20%20%20%20%22tms%22%3A%20false%0A%7D%29.addTo%28map_8b8ac61e097142f1a71f00eece7292ab%29%3B%0A%20%20%20%20var%20tile_layer_92907c1994a2420d85196604b58df544%20%3D%20L.tileLayer%28%0A%20%20%20%20%20%20%20%20%27https%3A//earthengine.googleapis.com/v1alpha/projects/earthengine-legacy/maps/b6c885582e5b9e2b0ae8d42378da9dd7-9580a6b9b842db691960d61d54821e14/tiles/%7Bz%7D/%7Bx%7D/%7By%7D%27%2C%0A%20%20%20%20%20%20%20%20%7B%0A%20%20%20%20%20%20%20%20%22attribution%22%3A%20%22Google%20Earth%20Engine%22%2C%0A%20%20%20%20%20%20%20%20%22detectRetina%22%3A%20false%2C%0A%20%20%20%20%20%20%20%20%22maxNativeZoom%22%3A%2018%2C%0A%20%20%20%20%20%20%20%20%22maxZoom%22%3A%2018%2C%0A%20%20%20%20%20%20%20%20%22minZoom%22%3A%200%2C%0A%20%20%20%20%20%20%20%20%22noWrap%22%3A%20false%2C%0A%20%20%20%20%20%20%20%20%22opacity%22%3A%201%2C%0A%20%20%20%20%20%20%20%20%22subdomains%22%3A%20%22abc%22%2C%0A%20%20%20%20%20%20%20%20%22tms%22%3A%20false%0A%7D%29.addTo%28map_8b8ac61e097142f1a71f00eece7292ab%29%3B%0A%20%20%20%20var%20tile_layer_94647110380843a08e681bb568db4dd3%20%3D%20L.tileLayer%28%0A%20%20%20%20%20%20%20%20%27https%3A//earthengine.googleapis.com/v1alpha/projects/earthengine-legacy/maps/b7030b1fde4b5fa6fbee7f262289889a-0b82bf8c95530598cf570e7d77b80f9e/tiles/%7Bz%7D/%7Bx%7D/%7By%7D%27%2C%0A%20%20%20%20%20%20%20%20%7B%0A%20%20%20%20%20%20%20%20%22attribution%22%3A%20%22Google%20Earth%20Engine%22%2C%0A%20%20%20%20%20%20%20%20%22detectRetina%22%3A%20false%2C%0A%20%20%20%20%20%20%20%20%22maxNativeZoom%22%3A%2018%2C%0A%20%20%20%20%20%20%20%20%22maxZoom%22%3A%2018%2C%0A%20%20%20%20%20%20%20%20%22minZoom%22%3A%200%2C%0A%20%20%20%20%20%20%20%20%22noWrap%22%3A%20false%2C%0A%20%20%20%20%20%20%20%20%22opacity%22%3A%201%2C%0A%20%20%20%20%20%20%20%20%22subdomains%22%3A%20%22abc%22%2C%0A%20%20%20%20%20%20%20%20%22tms%22%3A%20false%0A%7D%29.addTo%28map_8b8ac61e097142f1a71f00eece7292ab%29%3B%0A%20%20%20%20var%20tile_layer_8bcae37caa414df59db4a07dc146bbc8%20%3D%20L.tileLayer%28%0A%20%20%20%20%20%20%20%20%27https%3A//earthengine.googleapis.com/v1alpha/projects/earthengine-legacy/maps/2a652d8a7f64f689cb5f80d673f14089-70a5862f714c5a56ef95157be792778c/tiles/%7Bz%7D/%7Bx%7D/%7By%7D%27%2C%0A%20%20%20%20%20%20%20%20%7B%0A%20%20%20%20%20%20%20%20%22attribution%22%3A%20%22Google%20Earth%20Engine%22%2C%0A%20%20%20%20%20%20%20%20%22detectRetina%22%3A%20false%2C%0A%20%20%20%20%20%20%20%20%22maxNativeZoom%22%3A%2018%2C%0A%20%20%20%20%20%20%20%20%22maxZoom%22%3A%2018%2C%0A%20%20%20%20%20%20%20%20%22minZoom%22%3A%200%2C%0A%20%20%20%20%20%20%20%20%22noWrap%22%3A%20false%2C%0A%20%20%20%20%20%20%20%20%22opacity%22%3A%201%2C%0A%20%20%20%20%20%20%20%20%22subdomains%22%3A%20%22abc%22%2C%0A%20%20%20%20%20%20%20%20%22tms%22%3A%20false%0A%7D%29.addTo%28map_8b8ac61e097142f1a71f00eece7292ab%29%3B%0A%20%20%20%20var%20tile_layer_b81a6c6a34a0429c8b85626f0a3405aa%20%3D%20L.tileLayer%28%0A%20%20%20%20%20%20%20%20%27https%3A//earthengine.googleapis.com/v1alpha/projects/earthengine-legacy/maps/5e83dc3457956958039eb52d7140b3a2-453cd6d93dc9467715a642cd3b87ffa2/tiles/%7Bz%7D/%7Bx%7D/%7By%7D%27%2C%0A%20%20%20%20%20%20%20%20%7B%0A%20%20%20%20%20%20%20%20%22attribution%22%3A%20%22Google%20Earth%20Engine%22%2C%0A%20%20%20%20%20%20%20%20%22detectRetina%22%3A%20false%2C%0A%20%20%20%20%20%20%20%20%22maxNativeZoom%22%3A%2018%2C%0A%20%20%20%20%20%20%20%20%22maxZoom%22%3A%2018%2C%0A%20%20%20%20%20%20%20%20%22minZoom%22%3A%200%2C%0A%20%20%20%20%20%20%20%20%22noWrap%22%3A%20false%2C%0A%20%20%20%20%20%20%20%20%22opacity%22%3A%201%2C%0A%20%20%20%20%20%20%20%20%22subdomains%22%3A%20%22abc%22%2C%0A%20%20%20%20%20%20%20%20%22tms%22%3A%20false%0A%7D%29.addTo%28map_8b8ac61e097142f1a71f00eece7292ab%29%3B%0A%20%20%20%20%0A%20%20%20%20%20%20%20%20%20%20%20%20var%20layer_control_3f5d6142eb8f4294a3706e4894c97ea1%20%3D%20%7B%0A%20%20%20%20%20%20%20%20%20%20%20%20%20%20%20%20base_layers%20%3A%20%7B%20%22openstreetmap%22%20%3A%20tile_layer_4923ac40f4c44a57aca3500581677834%2C%20%7D%2C%0A%20%20%20%20%20%20%20%20%20%20%20%20%20%20%20%20overlays%20%3A%20%7B%20%22Urban%200.9993407%22%20%3A%20tile_layer_9260e191576d4353aa60b14c846396b3%2C%22Urban%200.9821698%22%20%3A%20tile_layer_3d29e02729894255b07cf8ef15bb7abf%2C%22Urban%200.9223297%22%20%3A%20tile_layer_1ae85b43603941ff995622d2dd0a96e7%2C%22Urban%200.99908245%22%20%3A%20tile_layer_9569755c41f643e2872600abcb140180%2C%22Urban%200.99506986%22%20%3A%20tile_layer_9c0fbb6e65f34dc08163a3e7ab901b2d%2C%22Rainfed_Broadleaf_Cropland%200.40050364%22%20%3A%20tile_layer_13a203fdeee3419daf56c07a464143b8%2C%22Rainfed_Cereal_Cropland%200.4157589%22%20%3A%20tile_layer_0217592f5dd84391813906d9c7893650%2C%22Rainfed_Cereal_Cropland%200.3957318%22%20%3A%20tile_layer_94647110380843a08e681bb568db4dd3%2C%22Rainfed_Cereal_Cropland%200.535721%22%20%3A%20tile_layer_b81a6c6a34a0429c8b85626f0a3405aa%2C%20%7D%0A%20%20%20%20%20%20%20%20%20%20%20%20%20%20%20%20%7D%3B%0A%20%20%20%20%20%20%20%20%20%20%20%20L.control.layers%28%0A%20%20%20%20%20%20%20%20%20%20%20%20%20%20%20%20layer_control_3f5d6142eb8f4294a3706e4894c97ea1.base_layers%2C%0A%20%20%20%20%20%20%20%20%20%20%20%20%20%20%20%20layer_control_3f5d6142eb8f4294a3706e4894c97ea1.overlays%2C%0A%20%20%20%20%20%20%20%20%20%20%20%20%20%20%20%20%7Bposition%3A%20%27topright%27%2C%0A%20%20%20%20%20%20%20%20%20%20%20%20%20%20%20%20%20collapsed%3A%20true%2C%0A%20%20%20%20%20%20%20%20%20%20%20%20%20%20%20%20%20autoZIndex%3A%20true%0A%20%20%20%20%20%20%20%20%20%20%20%20%20%20%20%20%7D%29.addTo%28map_8b8ac61e097142f1a71f00eece7292ab%29%3B%0A%20%20%20%20%20%20%20%20%20%20%20%20%0A%20%20%20%20%20%20%20%20%0A%3C/script%3E onload=\"this.contentDocument.open();this.contentDocument.write(    decodeURIComponent(this.getAttribute('data-html')));this.contentDocument.close();\" allowfullscreen webkitallowfullscreen mozallowfullscreen></iframe></div></div>"
            ],
            "text/plain": [
              "<folium.folium.Map at 0x7f9dc88a36d0>"
            ]
          },
          "metadata": {
            "tags": []
          },
          "execution_count": 22
        }
      ]
    },
    {
      "cell_type": "markdown",
      "metadata": {
        "id": "HqK03zLjxZE_"
      },
      "source": [
        "# Predicciones con TIF"
      ],
      "id": "HqK03zLjxZE_"
    },
    {
      "cell_type": "code",
      "metadata": {
        "id": "BS605D7mwJrJ"
      },
      "source": [
        "locations = [Location(-2.42, 36.18), Location(-3.62, 37.19)]\n",
        "\n",
        "images = []\n",
        "ee_images = []\n",
        "\n",
        "for location in locations:\n",
        "  x=ee.Number(float(location.longitude))\n",
        "  y=ee.Number(float(location.latitude))\n",
        "  cor1=(x).subtract(0.0100)\n",
        "  cor2=(y).subtract(0.0100)\n",
        "  cor3=(x).add(0.0100)\n",
        "  cor4=(y).add(0.0100)\n",
        "  region=ee.Geometry.Rectangle([cor1,cor2,cor3,cor4],None,False);\n",
        "\n",
        "  s2Sr = ee.ImageCollection('COPERNICUS/S2').filterBounds(region);\n",
        "\n",
        "  s2Clouds = ee.ImageCollection('COPERNICUS/S2_CLOUD_PROBABILITY').filterBounds(region);\n",
        "\n",
        "  START_DATE = ee.Date('2015-06-23');\n",
        "  END_DATE = ee.Date('2020-10-27');\n",
        "  criteria = ee.Filter.date(START_DATE, END_DATE);\n",
        "\n",
        "  s2Sr = s2Sr.filter(criteria).map(maskEdges);\n",
        "  s2Clouds = s2Clouds.filter(criteria);\n",
        "  s2SrWithCloudMask = ee.Join.saveFirst('cloud_mask').apply(**{\"primary\": s2Sr, \"secondary\": s2Clouds, \"condition\": ee.Filter.equals(**{\"leftField\": 'system:index', \"rightField\": 'system:index'})});\n",
        "  s2CloudMaskedPercentile25 = ee.Image(ee.ImageCollection(s2SrWithCloudMask).map(maskClouds).reduce(ee.Reducer.percentile([25]))).unmask(0).clip(region);\n",
        "  visArgs = {\"bands\": [\"B4_p25\", \"B3_p25\", \"B2_p25\"], \"min\": 1, \"max\": 3558};\n",
        "  s2CloudMasked_rgb = ee.Image((s2CloudMaskedPercentile25.visualize(**visArgs).copyProperties(s2CloudMaskedPercentile25,s2CloudMaskedPercentile25.propertyNames()))).clip(region)\n",
        "  image = s2CloudMasked_rgb\n",
        "  images.append(MyImagen(image, region))\n",
        "  ee_images.append(image)\n",
        "\n",
        "imageCol = ee.ImageCollection(ee_images)"
      ],
      "id": "BS605D7mwJrJ",
      "execution_count": null,
      "outputs": []
    },
    {
      "cell_type": "code",
      "metadata": {
        "colab": {
          "base_uri": "https://localhost:8080/",
          "height": 685
        },
        "id": "8ARpFM38RRVT",
        "outputId": "51b14e50-7e76-40d7-8922-df6c22207441"
      },
      "source": [
        "# Use folium to visualize the input imagery and the predictions.\n",
        "mapid = imageCol.getMapId({'bands': ['vis-red', 'vis-green', 'vis-blue'], 'min': 0, 'max': 255})\n",
        "map = folium.Map(location=[36.18, -2.42], zoom_start=13)\n",
        "folium.TileLayer(\n",
        "    tiles=mapid['tile_fetcher'].url_format,\n",
        "    attr='Google Earth Engine',\n",
        "    overlay=True,\n",
        "    name='median composite',\n",
        "  ).add_to(map)\n",
        "\n",
        "map"
      ],
      "id": "8ARpFM38RRVT",
      "execution_count": null,
      "outputs": [
        {
          "output_type": "execute_result",
          "data": {
            "text/html": [
              "<div style=\"width:100%;\"><div style=\"position:relative;width:100%;height:0;padding-bottom:60%;\"><span style=\"color:#565656\">Make this Notebook Trusted to load map: File -> Trust Notebook</span><iframe src=\"about:blank\" style=\"position:absolute;width:100%;height:100%;left:0;top:0;border:none !important;\" data-html=%3C%21DOCTYPE%20html%3E%0A%3Chead%3E%20%20%20%20%0A%20%20%20%20%3Cmeta%20http-equiv%3D%22content-type%22%20content%3D%22text/html%3B%20charset%3DUTF-8%22%20/%3E%0A%20%20%20%20%3Cscript%3EL_PREFER_CANVAS%3Dfalse%3B%20L_NO_TOUCH%3Dfalse%3B%20L_DISABLE_3D%3Dfalse%3B%3C/script%3E%0A%20%20%20%20%3Cscript%20src%3D%22https%3A//cdn.jsdelivr.net/npm/leaflet%401.4.0/dist/leaflet.js%22%3E%3C/script%3E%0A%20%20%20%20%3Cscript%20src%3D%22https%3A//code.jquery.com/jquery-1.12.4.min.js%22%3E%3C/script%3E%0A%20%20%20%20%3Cscript%20src%3D%22https%3A//maxcdn.bootstrapcdn.com/bootstrap/3.2.0/js/bootstrap.min.js%22%3E%3C/script%3E%0A%20%20%20%20%3Cscript%20src%3D%22https%3A//cdnjs.cloudflare.com/ajax/libs/Leaflet.awesome-markers/2.0.2/leaflet.awesome-markers.js%22%3E%3C/script%3E%0A%20%20%20%20%3Clink%20rel%3D%22stylesheet%22%20href%3D%22https%3A//cdn.jsdelivr.net/npm/leaflet%401.4.0/dist/leaflet.css%22/%3E%0A%20%20%20%20%3Clink%20rel%3D%22stylesheet%22%20href%3D%22https%3A//maxcdn.bootstrapcdn.com/bootstrap/3.2.0/css/bootstrap.min.css%22/%3E%0A%20%20%20%20%3Clink%20rel%3D%22stylesheet%22%20href%3D%22https%3A//maxcdn.bootstrapcdn.com/bootstrap/3.2.0/css/bootstrap-theme.min.css%22/%3E%0A%20%20%20%20%3Clink%20rel%3D%22stylesheet%22%20href%3D%22https%3A//maxcdn.bootstrapcdn.com/font-awesome/4.6.3/css/font-awesome.min.css%22/%3E%0A%20%20%20%20%3Clink%20rel%3D%22stylesheet%22%20href%3D%22https%3A//cdnjs.cloudflare.com/ajax/libs/Leaflet.awesome-markers/2.0.2/leaflet.awesome-markers.css%22/%3E%0A%20%20%20%20%3Clink%20rel%3D%22stylesheet%22%20href%3D%22https%3A//rawcdn.githack.com/python-visualization/folium/master/folium/templates/leaflet.awesome.rotate.css%22/%3E%0A%20%20%20%20%3Cstyle%3Ehtml%2C%20body%20%7Bwidth%3A%20100%25%3Bheight%3A%20100%25%3Bmargin%3A%200%3Bpadding%3A%200%3B%7D%3C/style%3E%0A%20%20%20%20%3Cstyle%3E%23map%20%7Bposition%3Aabsolute%3Btop%3A0%3Bbottom%3A0%3Bright%3A0%3Bleft%3A0%3B%7D%3C/style%3E%0A%20%20%20%20%0A%20%20%20%20%3Cmeta%20name%3D%22viewport%22%20content%3D%22width%3Ddevice-width%2C%0A%20%20%20%20%20%20%20%20initial-scale%3D1.0%2C%20maximum-scale%3D1.0%2C%20user-scalable%3Dno%22%20/%3E%0A%20%20%20%20%3Cstyle%3E%23map_8fbd4eafe1f9488586c295d410c27a65%20%7B%0A%20%20%20%20%20%20%20%20position%3A%20relative%3B%0A%20%20%20%20%20%20%20%20width%3A%20100.0%25%3B%0A%20%20%20%20%20%20%20%20height%3A%20100.0%25%3B%0A%20%20%20%20%20%20%20%20left%3A%200.0%25%3B%0A%20%20%20%20%20%20%20%20top%3A%200.0%25%3B%0A%20%20%20%20%20%20%20%20%7D%0A%20%20%20%20%3C/style%3E%0A%3C/head%3E%0A%3Cbody%3E%20%20%20%20%0A%20%20%20%20%0A%20%20%20%20%3Cdiv%20class%3D%22folium-map%22%20id%3D%22map_8fbd4eafe1f9488586c295d410c27a65%22%20%3E%3C/div%3E%0A%3C/body%3E%0A%3Cscript%3E%20%20%20%20%0A%20%20%20%20%0A%20%20%20%20%0A%20%20%20%20%20%20%20%20var%20bounds%20%3D%20null%3B%0A%20%20%20%20%0A%0A%20%20%20%20var%20map_8fbd4eafe1f9488586c295d410c27a65%20%3D%20L.map%28%0A%20%20%20%20%20%20%20%20%27map_8fbd4eafe1f9488586c295d410c27a65%27%2C%20%7B%0A%20%20%20%20%20%20%20%20center%3A%20%5B36.18%2C%20-2.42%5D%2C%0A%20%20%20%20%20%20%20%20zoom%3A%2013%2C%0A%20%20%20%20%20%20%20%20maxBounds%3A%20bounds%2C%0A%20%20%20%20%20%20%20%20layers%3A%20%5B%5D%2C%0A%20%20%20%20%20%20%20%20worldCopyJump%3A%20false%2C%0A%20%20%20%20%20%20%20%20crs%3A%20L.CRS.EPSG3857%2C%0A%20%20%20%20%20%20%20%20zoomControl%3A%20true%2C%0A%20%20%20%20%20%20%20%20%7D%29%3B%0A%0A%0A%20%20%20%20%0A%20%20%20%20var%20tile_layer_37798435c9334649a7c50d11291c6ff7%20%3D%20L.tileLayer%28%0A%20%20%20%20%20%20%20%20%27https%3A//%7Bs%7D.tile.openstreetmap.org/%7Bz%7D/%7Bx%7D/%7By%7D.png%27%2C%0A%20%20%20%20%20%20%20%20%7B%0A%20%20%20%20%20%20%20%20%22attribution%22%3A%20null%2C%0A%20%20%20%20%20%20%20%20%22detectRetina%22%3A%20false%2C%0A%20%20%20%20%20%20%20%20%22maxNativeZoom%22%3A%2018%2C%0A%20%20%20%20%20%20%20%20%22maxZoom%22%3A%2018%2C%0A%20%20%20%20%20%20%20%20%22minZoom%22%3A%200%2C%0A%20%20%20%20%20%20%20%20%22noWrap%22%3A%20false%2C%0A%20%20%20%20%20%20%20%20%22opacity%22%3A%201%2C%0A%20%20%20%20%20%20%20%20%22subdomains%22%3A%20%22abc%22%2C%0A%20%20%20%20%20%20%20%20%22tms%22%3A%20false%0A%7D%29.addTo%28map_8fbd4eafe1f9488586c295d410c27a65%29%3B%0A%20%20%20%20var%20tile_layer_29d69713dbbf40828994fff27a89f978%20%3D%20L.tileLayer%28%0A%20%20%20%20%20%20%20%20%27https%3A//earthengine.googleapis.com/v1alpha/projects/earthengine-legacy/maps/e8d1911cdf9f7adf4b25d2cd158cccd9-0a831324114b82cf42560ab938e68729/tiles/%7Bz%7D/%7Bx%7D/%7By%7D%27%2C%0A%20%20%20%20%20%20%20%20%7B%0A%20%20%20%20%20%20%20%20%22attribution%22%3A%20%22Google%20Earth%20Engine%22%2C%0A%20%20%20%20%20%20%20%20%22detectRetina%22%3A%20false%2C%0A%20%20%20%20%20%20%20%20%22maxNativeZoom%22%3A%2018%2C%0A%20%20%20%20%20%20%20%20%22maxZoom%22%3A%2018%2C%0A%20%20%20%20%20%20%20%20%22minZoom%22%3A%200%2C%0A%20%20%20%20%20%20%20%20%22noWrap%22%3A%20false%2C%0A%20%20%20%20%20%20%20%20%22opacity%22%3A%201%2C%0A%20%20%20%20%20%20%20%20%22subdomains%22%3A%20%22abc%22%2C%0A%20%20%20%20%20%20%20%20%22tms%22%3A%20false%0A%7D%29.addTo%28map_8fbd4eafe1f9488586c295d410c27a65%29%3B%0A%3C/script%3E onload=\"this.contentDocument.open();this.contentDocument.write(    decodeURIComponent(this.getAttribute('data-html')));this.contentDocument.close();\" allowfullscreen webkitallowfullscreen mozallowfullscreen></iframe></div></div>"
            ],
            "text/plain": [
              "<folium.folium.Map at 0x7f05f83cce10>"
            ]
          },
          "metadata": {
            "tags": []
          },
          "execution_count": 88
        }
      ]
    },
    {
      "cell_type": "code",
      "metadata": {
        "colab": {
          "base_uri": "https://localhost:8080/"
        },
        "id": "8009gmPUO8QH",
        "outputId": "d3cbd284-416e-4fa2-bf48-7b6c4f72442b"
      },
      "source": [
        "original_image_path = \"./drive/MyDrive/tif\"\n",
        "!rm -rf original_image_path\n",
        "!mkdir original_image_path\n",
        "\n",
        "i = 1\n",
        "for image in images:\n",
        "  task = ee.batch.Export.image.toDrive(\n",
        "    image = image.imagen.select([\"vis-red\", \"vis-green\", \"vis-blue\"]),\n",
        "    description = (\"imagen\" + str(i)),\n",
        "    folder = 'tif',\n",
        "    region = image.region.getInfo()['coordinates'],\n",
        "    scale = 10,\n",
        "    fileFormat = 'GeoTIFF'\n",
        "  )\n",
        "\n",
        "  task.start()\n",
        "\n",
        "  # Block until the task completes.\n",
        "  print('Running image ' + str(i) + ' export to Google Drive...')\n",
        "  import time\n",
        "  while task.active():\n",
        "      time.sleep(30)\n",
        "\n",
        "  # Error condition\n",
        "  if task.status()['state'] != 'COMPLETED':\n",
        "      print('Error with image ' + str(i) + ' export.')\n",
        "  else:\n",
        "      print('Image ' + str(i) + ' export completed.')\n",
        "\n",
        "  i += 1"
      ],
      "id": "8009gmPUO8QH",
      "execution_count": null,
      "outputs": [
        {
          "output_type": "stream",
          "text": [
            "Running image 1 export to Google Drive...\n",
            "Image 1 export completed.\n",
            "Running image 2 export to Google Drive...\n",
            "Image 2 export completed.\n"
          ],
          "name": "stdout"
        }
      ]
    },
    {
      "cell_type": "code",
      "metadata": {
        "id": "r_71grOjVhuP"
      },
      "source": [
        "new_image_path = \"./drive/MyDrive/jpg\"\n",
        "#os.rmdir(new_image_path)\n",
        "#os.mkdir(new_image_path)"
      ],
      "id": "r_71grOjVhuP",
      "execution_count": null,
      "outputs": []
    },
    {
      "cell_type": "code",
      "metadata": {
        "colab": {
          "base_uri": "https://localhost:8080/"
        },
        "id": "SZqzhL2Fm1KZ",
        "outputId": "d17e0483-5db0-48e2-883c-323e4da08161"
      },
      "source": [
        "import cv2\n",
        "from PIL import Image\n",
        "\n",
        "for r, d, f in os.walk(original_image_path, topdown=False):\n",
        "    for i in f:\n",
        "      filename, file_extension = os.path.splitext(i)\n",
        "      if file_extension == '.tif':\n",
        "        im = Image.open(original_image_path + '/' + i)\n",
        "        print(\"Converting into jpeg the image %s\" % i)\n",
        "        im.thumbnail(im.size)\n",
        "        i = i.replace('.tif', '.jpg')\n",
        "        im.save(new_image_path + '/' + i, \"JPEG\", quality=100)"
      ],
      "id": "SZqzhL2Fm1KZ",
      "execution_count": null,
      "outputs": [
        {
          "output_type": "stream",
          "text": [
            "Converting into jpeg the image imagen1.tif\n",
            "Converting into jpeg the image imagen2.tif\n"
          ],
          "name": "stdout"
        }
      ]
    },
    {
      "cell_type": "code",
      "metadata": {
        "colab": {
          "base_uri": "https://localhost:8080/"
        },
        "id": "Ajg28mGPnY55",
        "outputId": "d2a17234-8c96-4c02-9207-08042fc62019"
      },
      "source": [
        "import numpy as np\n",
        "\n",
        "IMG_HEIGHT = 224\n",
        "IMG_WIDTH = 224\n",
        "\n",
        "def predictionTif():\n",
        "  predicciones = []\n",
        "  probs = []\n",
        "\n",
        "  for r, d, f in os.walk(new_image_path, topdown=False):\n",
        "    for i in f:\n",
        "      filename, file_extension = os.path.splitext(i)\n",
        "      image_path = (new_image_path + \"/\" + i)\n",
        "      img = cv2.imread(image_path, cv2.COLOR_BGR2RGB)\n",
        "      img = cv2.resize(img, (IMG_HEIGHT, IMG_WIDTH), interpolation = cv2.INTER_AREA)\n",
        "      img = np.array(img)\n",
        "      img = img.astype('float32')\n",
        "      img /= 255 \n",
        "\n",
        "      x = []\n",
        "      x.append(img)\n",
        "\n",
        "      x_array = np.array(x, np.float32)\n",
        "\n",
        "      pred = model.predict(x_array)\n",
        "\n",
        "      predicciones.append(np.argmax(pred[0]))\n",
        "      probs.append(pred[0][np.argmax(pred[0])])\n",
        "\n",
        "  return predicciones, probs\n",
        "\n",
        "[predicciones, probs] = predictionTif()\n",
        "print(predicciones)\n",
        "print(probs)"
      ],
      "id": "Ajg28mGPnY55",
      "execution_count": null,
      "outputs": [
        {
          "output_type": "stream",
          "text": [
            "[2, 27]\n",
            "[0.9976713, 0.9992994]\n"
          ],
          "name": "stdout"
        }
      ]
    },
    {
      "cell_type": "code",
      "metadata": {
        "id": "HxnS1fa5451a"
      },
      "source": [
        "imagesWithPrediction = []\n",
        "i = 0\n",
        "\n",
        "for img in images:\n",
        "  imagesWithPrediction.append(img.imagen.addBands(ee.Image(int(predicciones[i])).clip(img.region)))\n",
        "  i += 1"
      ],
      "id": "HxnS1fa5451a",
      "execution_count": null,
      "outputs": []
    },
    {
      "cell_type": "code",
      "metadata": {
        "colab": {
          "base_uri": "https://localhost:8080/",
          "height": 685
        },
        "id": "0PLnSCDOvYVv",
        "outputId": "d9df9e4b-d18e-4c82-e100-73385e033486"
      },
      "source": [
        "# Use folium to visualize the input imagery and the predictions.\n",
        "map = folium.Map(location=[Latitude, Longitude], zoom_start=5)\n",
        "\n",
        "landCoverVis = {\n",
        "    'bands': ['constant'], \n",
        "    'min': 0, \n",
        "    'max': 27, \n",
        "    'palette': ['696969', '006400', '808000', '483d8b', \n",
        "                'b22222', '008b8b', '9acd32', '00008b', \n",
        "                '7f007f', '8fbc8f', 'b03060', 'ff0000',\n",
        "                'ff8c00', 'ffd700', '7cfc00', '8a2be2',\n",
        "                '00ffff', '00bfff', '0000ff', 'da70d6',\n",
        "                'ff00ff', '1e90ff', 'f0e68c', 'add8e6',\n",
        "                'ff1493', 'ffa07a', '98fb98', 'ffc0cb']\n",
        "}\n",
        "\n",
        "\n",
        "i = 0\n",
        "for img in imagesWithPrediction:\n",
        "  mapid = img.getMapId({'bands': ['vis-red', 'vis-green', 'vis-blue'], 'min': 0, 'max': 255, 'gamma': 1.4})\n",
        "  folium.TileLayer(\n",
        "      tiles=mapid['tile_fetcher'].url_format,\n",
        "      attr='Google Earth Engine',\n",
        "      overlay=True,\n",
        "      name=class_name[predicciones[i]],\n",
        "    ).add_to(map)\n",
        "\n",
        "  prediction = img.getMapId(landCoverVis)\n",
        "  folium.TileLayer(\n",
        "      tiles=prediction['tile_fetcher'].url_format,\n",
        "      attr='Google Earth Engine',\n",
        "      overlay=True,\n",
        "      name=class_name[predicciones[i]],\n",
        "    ).add_to(map)\n",
        "\n",
        "  i += 1\n",
        "\n",
        "map.add_child(folium.LayerControl())\n",
        "map"
      ],
      "id": "0PLnSCDOvYVv",
      "execution_count": null,
      "outputs": [
        {
          "output_type": "execute_result",
          "data": {
            "text/html": [
              "<div style=\"width:100%;\"><div style=\"position:relative;width:100%;height:0;padding-bottom:60%;\"><span style=\"color:#565656\">Make this Notebook Trusted to load map: File -> Trust Notebook</span><iframe src=\"about:blank\" style=\"position:absolute;width:100%;height:100%;left:0;top:0;border:none !important;\" data-html=%3C%21DOCTYPE%20html%3E%0A%3Chead%3E%20%20%20%20%0A%20%20%20%20%3Cmeta%20http-equiv%3D%22content-type%22%20content%3D%22text/html%3B%20charset%3DUTF-8%22%20/%3E%0A%20%20%20%20%3Cscript%3EL_PREFER_CANVAS%3Dfalse%3B%20L_NO_TOUCH%3Dfalse%3B%20L_DISABLE_3D%3Dfalse%3B%3C/script%3E%0A%20%20%20%20%3Cscript%20src%3D%22https%3A//cdn.jsdelivr.net/npm/leaflet%401.4.0/dist/leaflet.js%22%3E%3C/script%3E%0A%20%20%20%20%3Cscript%20src%3D%22https%3A//code.jquery.com/jquery-1.12.4.min.js%22%3E%3C/script%3E%0A%20%20%20%20%3Cscript%20src%3D%22https%3A//maxcdn.bootstrapcdn.com/bootstrap/3.2.0/js/bootstrap.min.js%22%3E%3C/script%3E%0A%20%20%20%20%3Cscript%20src%3D%22https%3A//cdnjs.cloudflare.com/ajax/libs/Leaflet.awesome-markers/2.0.2/leaflet.awesome-markers.js%22%3E%3C/script%3E%0A%20%20%20%20%3Clink%20rel%3D%22stylesheet%22%20href%3D%22https%3A//cdn.jsdelivr.net/npm/leaflet%401.4.0/dist/leaflet.css%22/%3E%0A%20%20%20%20%3Clink%20rel%3D%22stylesheet%22%20href%3D%22https%3A//maxcdn.bootstrapcdn.com/bootstrap/3.2.0/css/bootstrap.min.css%22/%3E%0A%20%20%20%20%3Clink%20rel%3D%22stylesheet%22%20href%3D%22https%3A//maxcdn.bootstrapcdn.com/bootstrap/3.2.0/css/bootstrap-theme.min.css%22/%3E%0A%20%20%20%20%3Clink%20rel%3D%22stylesheet%22%20href%3D%22https%3A//maxcdn.bootstrapcdn.com/font-awesome/4.6.3/css/font-awesome.min.css%22/%3E%0A%20%20%20%20%3Clink%20rel%3D%22stylesheet%22%20href%3D%22https%3A//cdnjs.cloudflare.com/ajax/libs/Leaflet.awesome-markers/2.0.2/leaflet.awesome-markers.css%22/%3E%0A%20%20%20%20%3Clink%20rel%3D%22stylesheet%22%20href%3D%22https%3A//rawcdn.githack.com/python-visualization/folium/master/folium/templates/leaflet.awesome.rotate.css%22/%3E%0A%20%20%20%20%3Cstyle%3Ehtml%2C%20body%20%7Bwidth%3A%20100%25%3Bheight%3A%20100%25%3Bmargin%3A%200%3Bpadding%3A%200%3B%7D%3C/style%3E%0A%20%20%20%20%3Cstyle%3E%23map%20%7Bposition%3Aabsolute%3Btop%3A0%3Bbottom%3A0%3Bright%3A0%3Bleft%3A0%3B%7D%3C/style%3E%0A%20%20%20%20%0A%20%20%20%20%3Cmeta%20name%3D%22viewport%22%20content%3D%22width%3Ddevice-width%2C%0A%20%20%20%20%20%20%20%20initial-scale%3D1.0%2C%20maximum-scale%3D1.0%2C%20user-scalable%3Dno%22%20/%3E%0A%20%20%20%20%3Cstyle%3E%23map_3ad96afc15b144238472dc4c4b598a45%20%7B%0A%20%20%20%20%20%20%20%20position%3A%20relative%3B%0A%20%20%20%20%20%20%20%20width%3A%20100.0%25%3B%0A%20%20%20%20%20%20%20%20height%3A%20100.0%25%3B%0A%20%20%20%20%20%20%20%20left%3A%200.0%25%3B%0A%20%20%20%20%20%20%20%20top%3A%200.0%25%3B%0A%20%20%20%20%20%20%20%20%7D%0A%20%20%20%20%3C/style%3E%0A%3C/head%3E%0A%3Cbody%3E%20%20%20%20%0A%20%20%20%20%0A%20%20%20%20%3Cdiv%20class%3D%22folium-map%22%20id%3D%22map_3ad96afc15b144238472dc4c4b598a45%22%20%3E%3C/div%3E%0A%3C/body%3E%0A%3Cscript%3E%20%20%20%20%0A%20%20%20%20%0A%20%20%20%20%0A%20%20%20%20%20%20%20%20var%20bounds%20%3D%20null%3B%0A%20%20%20%20%0A%0A%20%20%20%20var%20map_3ad96afc15b144238472dc4c4b598a45%20%3D%20L.map%28%0A%20%20%20%20%20%20%20%20%27map_3ad96afc15b144238472dc4c4b598a45%27%2C%20%7B%0A%20%20%20%20%20%20%20%20center%3A%20%5B36.18%2C%20-2.42%5D%2C%0A%20%20%20%20%20%20%20%20zoom%3A%205%2C%0A%20%20%20%20%20%20%20%20maxBounds%3A%20bounds%2C%0A%20%20%20%20%20%20%20%20layers%3A%20%5B%5D%2C%0A%20%20%20%20%20%20%20%20worldCopyJump%3A%20false%2C%0A%20%20%20%20%20%20%20%20crs%3A%20L.CRS.EPSG3857%2C%0A%20%20%20%20%20%20%20%20zoomControl%3A%20true%2C%0A%20%20%20%20%20%20%20%20%7D%29%3B%0A%0A%0A%20%20%20%20%0A%20%20%20%20var%20tile_layer_05ef6c98abe44801878c68a35ee66fa5%20%3D%20L.tileLayer%28%0A%20%20%20%20%20%20%20%20%27https%3A//%7Bs%7D.tile.openstreetmap.org/%7Bz%7D/%7Bx%7D/%7By%7D.png%27%2C%0A%20%20%20%20%20%20%20%20%7B%0A%20%20%20%20%20%20%20%20%22attribution%22%3A%20null%2C%0A%20%20%20%20%20%20%20%20%22detectRetina%22%3A%20false%2C%0A%20%20%20%20%20%20%20%20%22maxNativeZoom%22%3A%2018%2C%0A%20%20%20%20%20%20%20%20%22maxZoom%22%3A%2018%2C%0A%20%20%20%20%20%20%20%20%22minZoom%22%3A%200%2C%0A%20%20%20%20%20%20%20%20%22noWrap%22%3A%20false%2C%0A%20%20%20%20%20%20%20%20%22opacity%22%3A%201%2C%0A%20%20%20%20%20%20%20%20%22subdomains%22%3A%20%22abc%22%2C%0A%20%20%20%20%20%20%20%20%22tms%22%3A%20false%0A%7D%29.addTo%28map_3ad96afc15b144238472dc4c4b598a45%29%3B%0A%20%20%20%20var%20tile_layer_91f240c202f440c38ed35180b9efa491%20%3D%20L.tileLayer%28%0A%20%20%20%20%20%20%20%20%27https%3A//earthengine.googleapis.com/v1alpha/projects/earthengine-legacy/maps/9f4c85b995a4e6f977bcf6f822145475-5779c3da3a0615e7ded68f9fe1ce24af/tiles/%7Bz%7D/%7Bx%7D/%7By%7D%27%2C%0A%20%20%20%20%20%20%20%20%7B%0A%20%20%20%20%20%20%20%20%22attribution%22%3A%20%22Google%20Earth%20Engine%22%2C%0A%20%20%20%20%20%20%20%20%22detectRetina%22%3A%20false%2C%0A%20%20%20%20%20%20%20%20%22maxNativeZoom%22%3A%2018%2C%0A%20%20%20%20%20%20%20%20%22maxZoom%22%3A%2018%2C%0A%20%20%20%20%20%20%20%20%22minZoom%22%3A%200%2C%0A%20%20%20%20%20%20%20%20%22noWrap%22%3A%20false%2C%0A%20%20%20%20%20%20%20%20%22opacity%22%3A%201%2C%0A%20%20%20%20%20%20%20%20%22subdomains%22%3A%20%22abc%22%2C%0A%20%20%20%20%20%20%20%20%22tms%22%3A%20false%0A%7D%29.addTo%28map_3ad96afc15b144238472dc4c4b598a45%29%3B%0A%20%20%20%20var%20tile_layer_77e77b9fc74c4061b9404f4b6c23bbd6%20%3D%20L.tileLayer%28%0A%20%20%20%20%20%20%20%20%27https%3A//earthengine.googleapis.com/v1alpha/projects/earthengine-legacy/maps/a40c45612b03ec4a9759d781576d1264-cffe71fe89353548ef24af5826534b4d/tiles/%7Bz%7D/%7Bx%7D/%7By%7D%27%2C%0A%20%20%20%20%20%20%20%20%7B%0A%20%20%20%20%20%20%20%20%22attribution%22%3A%20%22Google%20Earth%20Engine%22%2C%0A%20%20%20%20%20%20%20%20%22detectRetina%22%3A%20false%2C%0A%20%20%20%20%20%20%20%20%22maxNativeZoom%22%3A%2018%2C%0A%20%20%20%20%20%20%20%20%22maxZoom%22%3A%2018%2C%0A%20%20%20%20%20%20%20%20%22minZoom%22%3A%200%2C%0A%20%20%20%20%20%20%20%20%22noWrap%22%3A%20false%2C%0A%20%20%20%20%20%20%20%20%22opacity%22%3A%201%2C%0A%20%20%20%20%20%20%20%20%22subdomains%22%3A%20%22abc%22%2C%0A%20%20%20%20%20%20%20%20%22tms%22%3A%20false%0A%7D%29.addTo%28map_3ad96afc15b144238472dc4c4b598a45%29%3B%0A%20%20%20%20var%20tile_layer_268768c9362f46cc8905704d84542961%20%3D%20L.tileLayer%28%0A%20%20%20%20%20%20%20%20%27https%3A//earthengine.googleapis.com/v1alpha/projects/earthengine-legacy/maps/655d106a668a65c80356d3ffe1fc31b5-acea63b2af5c049a7ca03c7f4db4934a/tiles/%7Bz%7D/%7Bx%7D/%7By%7D%27%2C%0A%20%20%20%20%20%20%20%20%7B%0A%20%20%20%20%20%20%20%20%22attribution%22%3A%20%22Google%20Earth%20Engine%22%2C%0A%20%20%20%20%20%20%20%20%22detectRetina%22%3A%20false%2C%0A%20%20%20%20%20%20%20%20%22maxNativeZoom%22%3A%2018%2C%0A%20%20%20%20%20%20%20%20%22maxZoom%22%3A%2018%2C%0A%20%20%20%20%20%20%20%20%22minZoom%22%3A%200%2C%0A%20%20%20%20%20%20%20%20%22noWrap%22%3A%20false%2C%0A%20%20%20%20%20%20%20%20%22opacity%22%3A%201%2C%0A%20%20%20%20%20%20%20%20%22subdomains%22%3A%20%22abc%22%2C%0A%20%20%20%20%20%20%20%20%22tms%22%3A%20false%0A%7D%29.addTo%28map_3ad96afc15b144238472dc4c4b598a45%29%3B%0A%20%20%20%20var%20tile_layer_aaabbf74de314dd6ac09149afa07521f%20%3D%20L.tileLayer%28%0A%20%20%20%20%20%20%20%20%27https%3A//earthengine.googleapis.com/v1alpha/projects/earthengine-legacy/maps/2c98d7fc6a1afcc174a038fff5f2c15c-d22e78de4eb602ca2cf667ff701267cd/tiles/%7Bz%7D/%7Bx%7D/%7By%7D%27%2C%0A%20%20%20%20%20%20%20%20%7B%0A%20%20%20%20%20%20%20%20%22attribution%22%3A%20%22Google%20Earth%20Engine%22%2C%0A%20%20%20%20%20%20%20%20%22detectRetina%22%3A%20false%2C%0A%20%20%20%20%20%20%20%20%22maxNativeZoom%22%3A%2018%2C%0A%20%20%20%20%20%20%20%20%22maxZoom%22%3A%2018%2C%0A%20%20%20%20%20%20%20%20%22minZoom%22%3A%200%2C%0A%20%20%20%20%20%20%20%20%22noWrap%22%3A%20false%2C%0A%20%20%20%20%20%20%20%20%22opacity%22%3A%201%2C%0A%20%20%20%20%20%20%20%20%22subdomains%22%3A%20%22abc%22%2C%0A%20%20%20%20%20%20%20%20%22tms%22%3A%20false%0A%7D%29.addTo%28map_3ad96afc15b144238472dc4c4b598a45%29%3B%0A%20%20%20%20%0A%20%20%20%20%20%20%20%20%20%20%20%20var%20layer_control_7ae317ccc83845c9ac597299c717ebf8%20%3D%20%7B%0A%20%20%20%20%20%20%20%20%20%20%20%20%20%20%20%20base_layers%20%3A%20%7B%20%22openstreetmap%22%20%3A%20tile_layer_05ef6c98abe44801878c68a35ee66fa5%2C%20%7D%2C%0A%20%20%20%20%20%20%20%20%20%20%20%20%20%20%20%20overlays%20%3A%20%7B%20%22Continental_Water%22%20%3A%20tile_layer_77e77b9fc74c4061b9404f4b6c23bbd6%2C%22Urban%22%20%3A%20tile_layer_aaabbf74de314dd6ac09149afa07521f%2C%20%7D%0A%20%20%20%20%20%20%20%20%20%20%20%20%20%20%20%20%7D%3B%0A%20%20%20%20%20%20%20%20%20%20%20%20L.control.layers%28%0A%20%20%20%20%20%20%20%20%20%20%20%20%20%20%20%20layer_control_7ae317ccc83845c9ac597299c717ebf8.base_layers%2C%0A%20%20%20%20%20%20%20%20%20%20%20%20%20%20%20%20layer_control_7ae317ccc83845c9ac597299c717ebf8.overlays%2C%0A%20%20%20%20%20%20%20%20%20%20%20%20%20%20%20%20%7Bposition%3A%20%27topright%27%2C%0A%20%20%20%20%20%20%20%20%20%20%20%20%20%20%20%20%20collapsed%3A%20true%2C%0A%20%20%20%20%20%20%20%20%20%20%20%20%20%20%20%20%20autoZIndex%3A%20true%0A%20%20%20%20%20%20%20%20%20%20%20%20%20%20%20%20%7D%29.addTo%28map_3ad96afc15b144238472dc4c4b598a45%29%3B%0A%20%20%20%20%20%20%20%20%20%20%20%20%0A%20%20%20%20%20%20%20%20%0A%3C/script%3E onload=\"this.contentDocument.open();this.contentDocument.write(    decodeURIComponent(this.getAttribute('data-html')));this.contentDocument.close();\" allowfullscreen webkitallowfullscreen mozallowfullscreen></iframe></div></div>"
            ],
            "text/plain": [
              "<folium.folium.Map at 0x7f350a6ba910>"
            ]
          },
          "metadata": {
            "tags": []
          },
          "execution_count": 143
        }
      ]
    }
  ]
}