{
  "nbformat": 4,
  "nbformat_minor": 5,
  "metadata": {
    "kernelspec": {
      "name": "python3",
      "display_name": "Python 3"
    },
    "colab": {
      "name": "predictionEarthEngine.ipynb",
      "provenance": []
    },
    "language_info": {
      "name": "python"
    }
  },
  "cells": [
    {
      "cell_type": "code",
      "metadata": {
        "colab": {
          "base_uri": "https://localhost:8080/"
        },
        "id": "comic-panel",
        "outputId": "b4e2c7d0-e1f2-4b63-8e6f-8f53fd44413d"
      },
      "source": [
        "# Import, authenticate and initialize the Earth Engine library.\n",
        "import ee\n",
        "ee.Authenticate()\n",
        "ee.Initialize()"
      ],
      "id": "comic-panel",
      "execution_count": null,
      "outputs": [
        {
          "output_type": "stream",
          "text": [
            "To authorize access needed by Earth Engine, open the following URL in a web browser and follow the instructions. If the web browser does not start automatically, please manually browse the URL below.\n",
            "\n",
            "    https://accounts.google.com/o/oauth2/auth?client_id=517222506229-vsmmajv00ul0bs7p89v5m89qs8eb9359.apps.googleusercontent.com&scope=https%3A%2F%2Fwww.googleapis.com%2Fauth%2Fearthengine+https%3A%2F%2Fwww.googleapis.com%2Fauth%2Fdevstorage.full_control&redirect_uri=urn%3Aietf%3Awg%3Aoauth%3A2.0%3Aoob&response_type=code&code_challenge=dI-F6foeYFfCqk7cz6fTh3A-M54yktMdXp16QoIkQ8Y&code_challenge_method=S256\n",
            "\n",
            "The authorization workflow will generate a code, which you should paste in the box below. \n",
            "Enter verification code: 4/1AX4XfWgsXL53-2zXa-6V1aM_tZP7a-4AEMYsP43KJ4CLIzWGloHIJDbhtfE\n",
            "\n",
            "Successfully saved authorization token.\n"
          ],
          "name": "stdout"
        }
      ]
    },
    {
      "cell_type": "code",
      "metadata": {
        "colab": {
          "base_uri": "https://localhost:8080/"
        },
        "id": "puMRITAWDJaU",
        "outputId": "ce720595-7b3f-481f-f515-dbe54922f3e1"
      },
      "source": [
        "# Mount our Google Drive\n",
        "from google.colab import drive\n",
        "drive.mount('/content/drive')"
      ],
      "id": "puMRITAWDJaU",
      "execution_count": null,
      "outputs": [
        {
          "output_type": "stream",
          "text": [
            "Mounted at /content/drive\n"
          ],
          "name": "stdout"
        }
      ]
    },
    {
      "cell_type": "code",
      "metadata": {
        "id": "VD21Ao6mzU0e"
      },
      "source": [
        "# Cloud authentication.\n",
        "from google.colab import auth\n",
        "auth.authenticate_user()"
      ],
      "id": "VD21Ao6mzU0e",
      "execution_count": null,
      "outputs": []
    },
    {
      "cell_type": "code",
      "metadata": {
        "colab": {
          "base_uri": "https://localhost:8080/"
        },
        "id": "weird-buyer",
        "outputId": "afb3f667-5c0b-42dd-c883-bb56b024951a"
      },
      "source": [
        "# Tensorflow setup.\n",
        "!pip install tensorflow==2.4\n",
        "import tensorflow as tf\n",
        "print(tf.__version__)\n",
        "# Folium setup.\n",
        "import folium\n",
        "print(folium.__version__)\n",
        "from os import path as op\n",
        "import numpy as np\n",
        "import os"
      ],
      "id": "weird-buyer",
      "execution_count": null,
      "outputs": [
        {
          "output_type": "stream",
          "text": [
            "Collecting tensorflow==2.4\n",
            "\u001b[?25l  Downloading https://files.pythonhosted.org/packages/94/0a/012cc33c643d844433d13001dd1db179e7020b05ddbbd0a9dc86c38a8efa/tensorflow-2.4.0-cp37-cp37m-manylinux2010_x86_64.whl (394.7MB)\n",
            "\u001b[K     |████████████████████████████████| 394.7MB 42kB/s \n",
            "\u001b[?25hRequirement already satisfied: opt-einsum~=3.3.0 in /usr/local/lib/python3.7/dist-packages (from tensorflow==2.4) (3.3.0)\n",
            "Requirement already satisfied: six~=1.15.0 in /usr/local/lib/python3.7/dist-packages (from tensorflow==2.4) (1.15.0)\n",
            "Requirement already satisfied: flatbuffers~=1.12.0 in /usr/local/lib/python3.7/dist-packages (from tensorflow==2.4) (1.12)\n",
            "Collecting h5py~=2.10.0\n",
            "\u001b[?25l  Downloading https://files.pythonhosted.org/packages/3f/c0/abde58b837e066bca19a3f7332d9d0493521d7dd6b48248451a9e3fe2214/h5py-2.10.0-cp37-cp37m-manylinux1_x86_64.whl (2.9MB)\n",
            "\u001b[K     |████████████████████████████████| 2.9MB 14.3MB/s \n",
            "\u001b[?25hRequirement already satisfied: keras-preprocessing~=1.1.2 in /usr/local/lib/python3.7/dist-packages (from tensorflow==2.4) (1.1.2)\n",
            "Collecting grpcio~=1.32.0\n",
            "\u001b[?25l  Downloading https://files.pythonhosted.org/packages/06/54/1c8be62beafe7fb1548d2968e518ca040556b46b0275399d4f3186c56d79/grpcio-1.32.0-cp37-cp37m-manylinux2014_x86_64.whl (3.8MB)\n",
            "\u001b[K     |████████████████████████████████| 3.8MB 45.1MB/s \n",
            "\u001b[?25hRequirement already satisfied: absl-py~=0.10 in /usr/local/lib/python3.7/dist-packages (from tensorflow==2.4) (0.12.0)\n",
            "Collecting gast==0.3.3\n",
            "  Downloading https://files.pythonhosted.org/packages/d6/84/759f5dd23fec8ba71952d97bcc7e2c9d7d63bdc582421f3cd4be845f0c98/gast-0.3.3-py2.py3-none-any.whl\n",
            "Requirement already satisfied: protobuf>=3.9.2 in /usr/local/lib/python3.7/dist-packages (from tensorflow==2.4) (3.12.4)\n",
            "Requirement already satisfied: tensorboard~=2.4 in /usr/local/lib/python3.7/dist-packages (from tensorflow==2.4) (2.5.0)\n",
            "Requirement already satisfied: wheel~=0.35 in /usr/local/lib/python3.7/dist-packages (from tensorflow==2.4) (0.36.2)\n",
            "Requirement already satisfied: google-pasta~=0.2 in /usr/local/lib/python3.7/dist-packages (from tensorflow==2.4) (0.2.0)\n",
            "Requirement already satisfied: typing-extensions~=3.7.4 in /usr/local/lib/python3.7/dist-packages (from tensorflow==2.4) (3.7.4.3)\n",
            "Requirement already satisfied: termcolor~=1.1.0 in /usr/local/lib/python3.7/dist-packages (from tensorflow==2.4) (1.1.0)\n",
            "Requirement already satisfied: numpy~=1.19.2 in /usr/local/lib/python3.7/dist-packages (from tensorflow==2.4) (1.19.5)\n",
            "Collecting tensorflow-estimator<2.5.0,>=2.4.0rc0\n",
            "\u001b[?25l  Downloading https://files.pythonhosted.org/packages/74/7e/622d9849abf3afb81e482ffc170758742e392ee129ce1540611199a59237/tensorflow_estimator-2.4.0-py2.py3-none-any.whl (462kB)\n",
            "\u001b[K     |████████████████████████████████| 471kB 43.3MB/s \n",
            "\u001b[?25hRequirement already satisfied: astunparse~=1.6.3 in /usr/local/lib/python3.7/dist-packages (from tensorflow==2.4) (1.6.3)\n",
            "Requirement already satisfied: wrapt~=1.12.1 in /usr/local/lib/python3.7/dist-packages (from tensorflow==2.4) (1.12.1)\n",
            "Requirement already satisfied: setuptools in /usr/local/lib/python3.7/dist-packages (from protobuf>=3.9.2->tensorflow==2.4) (57.0.0)\n",
            "Requirement already satisfied: tensorboard-data-server<0.7.0,>=0.6.0 in /usr/local/lib/python3.7/dist-packages (from tensorboard~=2.4->tensorflow==2.4) (0.6.1)\n",
            "Requirement already satisfied: google-auth<2,>=1.6.3 in /usr/local/lib/python3.7/dist-packages (from tensorboard~=2.4->tensorflow==2.4) (1.31.0)\n",
            "Requirement already satisfied: requests<3,>=2.21.0 in /usr/local/lib/python3.7/dist-packages (from tensorboard~=2.4->tensorflow==2.4) (2.23.0)\n",
            "Requirement already satisfied: tensorboard-plugin-wit>=1.6.0 in /usr/local/lib/python3.7/dist-packages (from tensorboard~=2.4->tensorflow==2.4) (1.8.0)\n",
            "Requirement already satisfied: werkzeug>=0.11.15 in /usr/local/lib/python3.7/dist-packages (from tensorboard~=2.4->tensorflow==2.4) (1.0.1)\n",
            "Requirement already satisfied: markdown>=2.6.8 in /usr/local/lib/python3.7/dist-packages (from tensorboard~=2.4->tensorflow==2.4) (3.3.4)\n",
            "Requirement already satisfied: google-auth-oauthlib<0.5,>=0.4.1 in /usr/local/lib/python3.7/dist-packages (from tensorboard~=2.4->tensorflow==2.4) (0.4.4)\n",
            "Requirement already satisfied: pyasn1-modules>=0.2.1 in /usr/local/lib/python3.7/dist-packages (from google-auth<2,>=1.6.3->tensorboard~=2.4->tensorflow==2.4) (0.2.8)\n",
            "Requirement already satisfied: cachetools<5.0,>=2.0.0 in /usr/local/lib/python3.7/dist-packages (from google-auth<2,>=1.6.3->tensorboard~=2.4->tensorflow==2.4) (4.2.2)\n",
            "Requirement already satisfied: rsa<5,>=3.1.4; python_version >= \"3.6\" in /usr/local/lib/python3.7/dist-packages (from google-auth<2,>=1.6.3->tensorboard~=2.4->tensorflow==2.4) (4.7.2)\n",
            "Requirement already satisfied: chardet<4,>=3.0.2 in /usr/local/lib/python3.7/dist-packages (from requests<3,>=2.21.0->tensorboard~=2.4->tensorflow==2.4) (3.0.4)\n",
            "Requirement already satisfied: certifi>=2017.4.17 in /usr/local/lib/python3.7/dist-packages (from requests<3,>=2.21.0->tensorboard~=2.4->tensorflow==2.4) (2021.5.30)\n",
            "Requirement already satisfied: idna<3,>=2.5 in /usr/local/lib/python3.7/dist-packages (from requests<3,>=2.21.0->tensorboard~=2.4->tensorflow==2.4) (2.10)\n",
            "Requirement already satisfied: urllib3!=1.25.0,!=1.25.1,<1.26,>=1.21.1 in /usr/local/lib/python3.7/dist-packages (from requests<3,>=2.21.0->tensorboard~=2.4->tensorflow==2.4) (1.24.3)\n",
            "Requirement already satisfied: importlib-metadata; python_version < \"3.8\" in /usr/local/lib/python3.7/dist-packages (from markdown>=2.6.8->tensorboard~=2.4->tensorflow==2.4) (4.5.0)\n",
            "Requirement already satisfied: requests-oauthlib>=0.7.0 in /usr/local/lib/python3.7/dist-packages (from google-auth-oauthlib<0.5,>=0.4.1->tensorboard~=2.4->tensorflow==2.4) (1.3.0)\n",
            "Requirement already satisfied: pyasn1<0.5.0,>=0.4.6 in /usr/local/lib/python3.7/dist-packages (from pyasn1-modules>=0.2.1->google-auth<2,>=1.6.3->tensorboard~=2.4->tensorflow==2.4) (0.4.8)\n",
            "Requirement already satisfied: zipp>=0.5 in /usr/local/lib/python3.7/dist-packages (from importlib-metadata; python_version < \"3.8\"->markdown>=2.6.8->tensorboard~=2.4->tensorflow==2.4) (3.4.1)\n",
            "Requirement already satisfied: oauthlib>=3.0.0 in /usr/local/lib/python3.7/dist-packages (from requests-oauthlib>=0.7.0->google-auth-oauthlib<0.5,>=0.4.1->tensorboard~=2.4->tensorflow==2.4) (3.1.1)\n",
            "Installing collected packages: h5py, grpcio, gast, tensorflow-estimator, tensorflow\n",
            "  Found existing installation: h5py 3.1.0\n",
            "    Uninstalling h5py-3.1.0:\n",
            "      Successfully uninstalled h5py-3.1.0\n",
            "  Found existing installation: grpcio 1.34.1\n",
            "    Uninstalling grpcio-1.34.1:\n",
            "      Successfully uninstalled grpcio-1.34.1\n",
            "  Found existing installation: gast 0.4.0\n",
            "    Uninstalling gast-0.4.0:\n",
            "      Successfully uninstalled gast-0.4.0\n",
            "  Found existing installation: tensorflow-estimator 2.5.0\n",
            "    Uninstalling tensorflow-estimator-2.5.0:\n",
            "      Successfully uninstalled tensorflow-estimator-2.5.0\n",
            "  Found existing installation: tensorflow 2.5.0\n",
            "    Uninstalling tensorflow-2.5.0:\n",
            "      Successfully uninstalled tensorflow-2.5.0\n",
            "Successfully installed gast-0.3.3 grpcio-1.32.0 h5py-2.10.0 tensorflow-2.4.0 tensorflow-estimator-2.4.0\n",
            "2.4.0\n",
            "0.8.3\n"
          ],
          "name": "stdout"
        }
      ]
    },
    {
      "cell_type": "code",
      "metadata": {
        "id": "blessed-response"
      },
      "source": [
        "model = tf.keras.models.load_model('./drive/MyDrive/modeloFinalReal.h5')"
      ],
      "id": "blessed-response",
      "execution_count": null,
      "outputs": []
    },
    {
      "cell_type": "code",
      "metadata": {
        "id": "resistant-biotechnology"
      },
      "source": [
        "# Specify names locations for outputs in Google Drive. \n",
        "FOLDER = 'prueba'\n",
        "ROOT_DIR = './drive/MyDrive/'\n",
        "\n",
        "# Specify the size and shape of patches expected by the model.\n",
        "KERNEL_SIZE = 224\n",
        "KERNEL_SHAPE = [KERNEL_SIZE, KERNEL_SIZE]\n",
        "BANDS = ['vis-red', 'vis-green', 'vis-blue']"
      ],
      "id": "resistant-biotechnology",
      "execution_count": null,
      "outputs": []
    },
    {
      "cell_type": "code",
      "metadata": {
        "id": "-TNMTQDlLZem"
      },
      "source": [
        "class Location():\n",
        "    def __init__(self, longitude, latitude):\n",
        "        self.longitude = longitude\n",
        "        self.latitude = latitude\n",
        "\n",
        "class MyImagen():\n",
        "    def __init__(self, imagen, region):\n",
        "        self.imagen = imagen\n",
        "        self.region = region"
      ],
      "id": "-TNMTQDlLZem",
      "execution_count": null,
      "outputs": []
    },
    {
      "cell_type": "code",
      "metadata": {
        "id": "KSgmSQi5xtU_"
      },
      "source": [
        "MAX_CLOUD_PROBABILITY = 20\n",
        "\n",
        "def maskClouds(img):\n",
        "  clouds = ee.Image(img.get('cloud_mask')).select('probability')\n",
        "  isNotCloud = clouds.lt(MAX_CLOUD_PROBABILITY)\n",
        "  return img.updateMask(isNotCloud)\n",
        "\n",
        "def maskEdges(s2_img):\n",
        "  return s2_img.updateMask(s2_img.select('B8A').mask().updateMask(s2_img.select('B9').mask()))"
      ],
      "id": "KSgmSQi5xtU_",
      "execution_count": null,
      "outputs": []
    },
    {
      "cell_type": "code",
      "metadata": {
        "id": "zpJO6deewNkO"
      },
      "source": [
        "name_class = {\n",
        "    'Barren': 0,\n",
        "    'Close_Shrubland': 1,\n",
        "    'Continental_Water': 2,\n",
        "    'Cropland_seasonal_water': 3,\n",
        "    'Forest_CDB': 4,\n",
        "    'Forest_CDN': 5,\n",
        "    'Forest_CEB': 6,\n",
        "    'Forest_CEN': 7,\n",
        "    'Forest_DDB': 8,\n",
        "    'Forest_DDN': 9,\n",
        "    'Forest_DEB': 10,\n",
        "    'Forest_DEN': 11,\n",
        "    'Forest_ODB': 12,\n",
        "    'Forest_ODN': 13,\n",
        "    'Forest_OEB': 14,\n",
        "    'Forest_OEN': 15,\n",
        "    'Grassland': 16,\n",
        "    'Irrigated_Broadleaf_Cropland': 17,\n",
        "    'Irrigated_Cereal_Cropland': 18,\n",
        "    'Mangrove': 19,\n",
        "    'Marine_Water_': 20,\n",
        "    'Marshland': 21,\n",
        "    'Moss_and_Lichen': 22,\n",
        "    'Open_Shrubland': 23,\n",
        "    'Rainfed_Broadleaf_Cropland': 24,\n",
        "    'Rainfed_Cereal_Cropland': 25,\n",
        "    'Snow': 26,\n",
        "    'Urban': 27\n",
        "}\n",
        "\n",
        "class_name = dict((v,k) for k,v in name_class.items())"
      ],
      "id": "zpJO6deewNkO",
      "execution_count": null,
      "outputs": []
    },
    {
      "cell_type": "markdown",
      "metadata": {
        "id": "uPNMnsvJv5gK"
      },
      "source": [
        "# Predicciones con getThumbURL"
      ],
      "id": "uPNMnsvJv5gK"
    },
    {
      "cell_type": "code",
      "metadata": {
        "id": "UxA50X9psq_l",
        "colab": {
          "base_uri": "https://localhost:8080/"
        },
        "outputId": "c3cd53e4-c46d-4ce6-bbbf-30776793b6cb"
      },
      "source": [
        "import urllib.request\n",
        "from PIL import Image\n",
        "import cv2\n",
        "import numpy as np\n",
        "from googleapiclient import discovery\n",
        "\n",
        "IMG_HEIGHT = 224\n",
        "IMG_WIDTH = 224\n",
        "prueba = False\n",
        "locations = []\n",
        "\n",
        "if prueba:\n",
        "  locations = [Location(-2.42, 36.18), Location(-3.62, 37.19)]\n",
        "else:\n",
        "  i = 0\n",
        "  longitude = -3.62\n",
        "  latitude = 37.19\n",
        "  tam = 3\n",
        "  for i in range(tam):\n",
        "    for j in range(tam):\n",
        "        locations.append(Location(longitude + i*0.02, latitude + j*0.02))\n",
        "\n",
        "images = []\n",
        "ee_images = []\n",
        "predicciones = []\n",
        "probs = []\n",
        "instances = []\n",
        "aiplatform = False\n",
        "\n",
        "for location in locations:\n",
        "  x=ee.Number(float(location.longitude))\n",
        "  y=ee.Number(float(location.latitude))\n",
        "  cor1=(x).subtract(0.0100)\n",
        "  cor2=(y).subtract(0.0100)\n",
        "  cor3=(x).add(0.0100)\n",
        "  cor4=(y).add(0.0100)\n",
        "  region=ee.Geometry.Rectangle([cor1,cor2,cor3,cor4],None,False);\n",
        "\n",
        "  s2Sr = ee.ImageCollection('COPERNICUS/S2').filterBounds(region);\n",
        "\n",
        "  s2Clouds = ee.ImageCollection('COPERNICUS/S2_CLOUD_PROBABILITY').filterBounds(region);\n",
        "\n",
        "  START_DATE = ee.Date('2015-06-23');\n",
        "  END_DATE = ee.Date('2020-10-27');\n",
        "  criteria = ee.Filter.date(START_DATE, END_DATE);\n",
        "\n",
        "  s2Sr = s2Sr.filter(criteria).map(maskEdges);\n",
        "  s2Clouds = s2Clouds.filter(criteria);\n",
        "  s2SrWithCloudMask = ee.Join.saveFirst('cloud_mask').apply(**{\"primary\": s2Sr, \"secondary\": s2Clouds, \"condition\": ee.Filter.equals(**{\"leftField\": 'system:index', \"rightField\": 'system:index'})});\n",
        "  s2CloudMaskedPercentile25 =ee.Image(ee.ImageCollection(s2SrWithCloudMask).map(maskClouds).reduce(ee.Reducer.percentile([25]))).unmask(0).clip(region);\n",
        "  visArgs = {\"bands\": [\"B4_p25\", \"B3_p25\", \"B2_p25\"], \"min\": 1, \"max\": 3558};\n",
        "  s2CloudMasked_rgb = ee.Image((s2CloudMaskedPercentile25.visualize(**visArgs).copyProperties(s2CloudMaskedPercentile25,s2CloudMaskedPercentile25.propertyNames()))).clip(region)\n",
        "  image = s2CloudMasked_rgb\n",
        "  images.append(MyImagen(image, region))\n",
        "  ee_images.append(image)\n",
        "\n",
        "  url = image.getThumbURL({'region':region, 'dimensions':224, 'format': 'jpg'})\n",
        "  print(url)\n",
        "  encodedURL = urllib.parse.quote(url, safe='://')\n",
        "  respuesta = urllib.request.urlopen(encodedURL)\n",
        "\n",
        "  if respuesta:\n",
        "    generada = Image.open(respuesta)\n",
        "    img = cv2.cvtColor(np.array(generada), cv2.COLOR_BGR2RGB)\n",
        "\n",
        "    if aiplatform:\n",
        "      instances.append(img.tolist())\n",
        "    else:\n",
        "      img = cv2.resize(img, (IMG_HEIGHT, IMG_WIDTH), interpolation = cv2.INTER_AREA)\n",
        "      img = np.array(img)\n",
        "      img = img.astype('float32')\n",
        "      img /= 255 \n",
        "\n",
        "      x = []\n",
        "      x.append(img)\n",
        "\n",
        "      x_array = np.array(x, np.float32)\n",
        "\n",
        "      pred = model.predict(x_array)\n",
        "\n",
        "      predicciones.append(np.argmax(pred[0]))\n",
        "      probs.append(pred[0][np.argmax(pred[0])])"
      ],
      "id": "UxA50X9psq_l",
      "execution_count": null,
      "outputs": [
        {
          "output_type": "stream",
          "text": [
            "https://earthengine.googleapis.com/v1alpha/projects/earthengine-legacy/thumbnails/d1cace7fe3f00c31fa05e97e90996320-396d983d4046b0b181b0d336aef6f8bf:getPixels\n",
            "https://earthengine.googleapis.com/v1alpha/projects/earthengine-legacy/thumbnails/dfa4f26963eee0eb793198da7e24e9a4-d2d911e10047b13174863996895ae97f:getPixels\n",
            "https://earthengine.googleapis.com/v1alpha/projects/earthengine-legacy/thumbnails/cbfbc22ebf17f9041e438d1443f96f9b-f9679ed1baad5aec9f0b71f0e5ec06df:getPixels\n",
            "https://earthengine.googleapis.com/v1alpha/projects/earthengine-legacy/thumbnails/4858f1f853b9c26242c45413fd622e60-1fead95da92596d0ecc25fe2812ca69e:getPixels\n",
            "https://earthengine.googleapis.com/v1alpha/projects/earthengine-legacy/thumbnails/a03e142e2bb8e5d60800624faf23f95b-22bd90139cc3eb533413ead878a1b14e:getPixels\n",
            "https://earthengine.googleapis.com/v1alpha/projects/earthengine-legacy/thumbnails/67d8d0ebfb1ed47d706ea538384291e2-bf315c7e14a80d1328315f1debe6b009:getPixels\n",
            "https://earthengine.googleapis.com/v1alpha/projects/earthengine-legacy/thumbnails/3394f0d4d405521372df1ba37e88146a-a3dc4d69523308e1bcd23ff37530af8d:getPixels\n",
            "https://earthengine.googleapis.com/v1alpha/projects/earthengine-legacy/thumbnails/0c5f1ca71d8094c724edc70406bef40e-9ec43deb63f386b9055346be4987dfd1:getPixels\n",
            "https://earthengine.googleapis.com/v1alpha/projects/earthengine-legacy/thumbnails/dc15b125960b579fe4a2c04ac939015f-ba7a71530f1e2de1dd29a0dbbf57b168:getPixels\n"
          ],
          "name": "stdout"
        }
      ]
    },
    {
      "cell_type": "code",
      "metadata": {
        "colab": {
          "base_uri": "https://localhost:8080/",
          "height": 808
        },
        "id": "37wup9RI2k7_",
        "outputId": "306dcb07-f261-4263-aa98-95652de311d5"
      },
      "source": [
        "imageCol = ee.ImageCollection(ee_images)\n",
        "# Use folium to visualize the input imagery and the predictions.\n",
        "mapid = imageCol.getMapId({'bands': ['vis-red', 'vis-green', 'vis-blue'], 'min': 0, 'max': 255})\n",
        "map = folium.Map(location=[36.18, -2.42], zoom_start=13)\n",
        "folium.TileLayer(\n",
        "    tiles=mapid['tile_fetcher'].url_format,\n",
        "    attr='Google Earth Engine',\n",
        "    overlay=True,\n",
        "    name='median composite',\n",
        "  ).add_to(map)\n",
        "\n",
        "map"
      ],
      "id": "37wup9RI2k7_",
      "execution_count": null,
      "outputs": [
        {
          "output_type": "execute_result",
          "data": {
            "text/html": [
              "<div style=\"width:100%;\"><div style=\"position:relative;width:100%;height:0;padding-bottom:60%;\"><span style=\"color:#565656\">Make this Notebook Trusted to load map: File -> Trust Notebook</span><iframe src=\"about:blank\" style=\"position:absolute;width:100%;height:100%;left:0;top:0;border:none !important;\" data-html=%3C%21DOCTYPE%20html%3E%0A%3Chead%3E%20%20%20%20%0A%20%20%20%20%3Cmeta%20http-equiv%3D%22content-type%22%20content%3D%22text/html%3B%20charset%3DUTF-8%22%20/%3E%0A%20%20%20%20%3Cscript%3EL_PREFER_CANVAS%3Dfalse%3B%20L_NO_TOUCH%3Dfalse%3B%20L_DISABLE_3D%3Dfalse%3B%3C/script%3E%0A%20%20%20%20%3Cscript%20src%3D%22https%3A//cdn.jsdelivr.net/npm/leaflet%401.4.0/dist/leaflet.js%22%3E%3C/script%3E%0A%20%20%20%20%3Cscript%20src%3D%22https%3A//code.jquery.com/jquery-1.12.4.min.js%22%3E%3C/script%3E%0A%20%20%20%20%3Cscript%20src%3D%22https%3A//maxcdn.bootstrapcdn.com/bootstrap/3.2.0/js/bootstrap.min.js%22%3E%3C/script%3E%0A%20%20%20%20%3Cscript%20src%3D%22https%3A//cdnjs.cloudflare.com/ajax/libs/Leaflet.awesome-markers/2.0.2/leaflet.awesome-markers.js%22%3E%3C/script%3E%0A%20%20%20%20%3Clink%20rel%3D%22stylesheet%22%20href%3D%22https%3A//cdn.jsdelivr.net/npm/leaflet%401.4.0/dist/leaflet.css%22/%3E%0A%20%20%20%20%3Clink%20rel%3D%22stylesheet%22%20href%3D%22https%3A//maxcdn.bootstrapcdn.com/bootstrap/3.2.0/css/bootstrap.min.css%22/%3E%0A%20%20%20%20%3Clink%20rel%3D%22stylesheet%22%20href%3D%22https%3A//maxcdn.bootstrapcdn.com/bootstrap/3.2.0/css/bootstrap-theme.min.css%22/%3E%0A%20%20%20%20%3Clink%20rel%3D%22stylesheet%22%20href%3D%22https%3A//maxcdn.bootstrapcdn.com/font-awesome/4.6.3/css/font-awesome.min.css%22/%3E%0A%20%20%20%20%3Clink%20rel%3D%22stylesheet%22%20href%3D%22https%3A//cdnjs.cloudflare.com/ajax/libs/Leaflet.awesome-markers/2.0.2/leaflet.awesome-markers.css%22/%3E%0A%20%20%20%20%3Clink%20rel%3D%22stylesheet%22%20href%3D%22https%3A//rawcdn.githack.com/python-visualization/folium/master/folium/templates/leaflet.awesome.rotate.css%22/%3E%0A%20%20%20%20%3Cstyle%3Ehtml%2C%20body%20%7Bwidth%3A%20100%25%3Bheight%3A%20100%25%3Bmargin%3A%200%3Bpadding%3A%200%3B%7D%3C/style%3E%0A%20%20%20%20%3Cstyle%3E%23map%20%7Bposition%3Aabsolute%3Btop%3A0%3Bbottom%3A0%3Bright%3A0%3Bleft%3A0%3B%7D%3C/style%3E%0A%20%20%20%20%0A%20%20%20%20%3Cmeta%20name%3D%22viewport%22%20content%3D%22width%3Ddevice-width%2C%0A%20%20%20%20%20%20%20%20initial-scale%3D1.0%2C%20maximum-scale%3D1.0%2C%20user-scalable%3Dno%22%20/%3E%0A%20%20%20%20%3Cstyle%3E%23map_0cd13ac681df4dc9b8c736dd1b3cbdc9%20%7B%0A%20%20%20%20%20%20%20%20position%3A%20relative%3B%0A%20%20%20%20%20%20%20%20width%3A%20100.0%25%3B%0A%20%20%20%20%20%20%20%20height%3A%20100.0%25%3B%0A%20%20%20%20%20%20%20%20left%3A%200.0%25%3B%0A%20%20%20%20%20%20%20%20top%3A%200.0%25%3B%0A%20%20%20%20%20%20%20%20%7D%0A%20%20%20%20%3C/style%3E%0A%3C/head%3E%0A%3Cbody%3E%20%20%20%20%0A%20%20%20%20%0A%20%20%20%20%3Cdiv%20class%3D%22folium-map%22%20id%3D%22map_0cd13ac681df4dc9b8c736dd1b3cbdc9%22%20%3E%3C/div%3E%0A%3C/body%3E%0A%3Cscript%3E%20%20%20%20%0A%20%20%20%20%0A%20%20%20%20%0A%20%20%20%20%20%20%20%20var%20bounds%20%3D%20null%3B%0A%20%20%20%20%0A%0A%20%20%20%20var%20map_0cd13ac681df4dc9b8c736dd1b3cbdc9%20%3D%20L.map%28%0A%20%20%20%20%20%20%20%20%27map_0cd13ac681df4dc9b8c736dd1b3cbdc9%27%2C%20%7B%0A%20%20%20%20%20%20%20%20center%3A%20%5B36.18%2C%20-2.42%5D%2C%0A%20%20%20%20%20%20%20%20zoom%3A%2013%2C%0A%20%20%20%20%20%20%20%20maxBounds%3A%20bounds%2C%0A%20%20%20%20%20%20%20%20layers%3A%20%5B%5D%2C%0A%20%20%20%20%20%20%20%20worldCopyJump%3A%20false%2C%0A%20%20%20%20%20%20%20%20crs%3A%20L.CRS.EPSG3857%2C%0A%20%20%20%20%20%20%20%20zoomControl%3A%20true%2C%0A%20%20%20%20%20%20%20%20%7D%29%3B%0A%0A%0A%20%20%20%20%0A%20%20%20%20var%20tile_layer_caf6fcc19dae4b5b86337d33457d641d%20%3D%20L.tileLayer%28%0A%20%20%20%20%20%20%20%20%27https%3A//%7Bs%7D.tile.openstreetmap.org/%7Bz%7D/%7Bx%7D/%7By%7D.png%27%2C%0A%20%20%20%20%20%20%20%20%7B%0A%20%20%20%20%20%20%20%20%22attribution%22%3A%20null%2C%0A%20%20%20%20%20%20%20%20%22detectRetina%22%3A%20false%2C%0A%20%20%20%20%20%20%20%20%22maxNativeZoom%22%3A%2018%2C%0A%20%20%20%20%20%20%20%20%22maxZoom%22%3A%2018%2C%0A%20%20%20%20%20%20%20%20%22minZoom%22%3A%200%2C%0A%20%20%20%20%20%20%20%20%22noWrap%22%3A%20false%2C%0A%20%20%20%20%20%20%20%20%22opacity%22%3A%201%2C%0A%20%20%20%20%20%20%20%20%22subdomains%22%3A%20%22abc%22%2C%0A%20%20%20%20%20%20%20%20%22tms%22%3A%20false%0A%7D%29.addTo%28map_0cd13ac681df4dc9b8c736dd1b3cbdc9%29%3B%0A%20%20%20%20var%20tile_layer_d1aba717283a4b7bb5fe7492ee2f786a%20%3D%20L.tileLayer%28%0A%20%20%20%20%20%20%20%20%27https%3A//earthengine.googleapis.com/v1alpha/projects/earthengine-legacy/maps/144a1af7e2c190bc0a57a69f0b775769-4c9481f0e38d9ab17d67cccc4bd0da1f/tiles/%7Bz%7D/%7Bx%7D/%7By%7D%27%2C%0A%20%20%20%20%20%20%20%20%7B%0A%20%20%20%20%20%20%20%20%22attribution%22%3A%20%22Google%20Earth%20Engine%22%2C%0A%20%20%20%20%20%20%20%20%22detectRetina%22%3A%20false%2C%0A%20%20%20%20%20%20%20%20%22maxNativeZoom%22%3A%2018%2C%0A%20%20%20%20%20%20%20%20%22maxZoom%22%3A%2018%2C%0A%20%20%20%20%20%20%20%20%22minZoom%22%3A%200%2C%0A%20%20%20%20%20%20%20%20%22noWrap%22%3A%20false%2C%0A%20%20%20%20%20%20%20%20%22opacity%22%3A%201%2C%0A%20%20%20%20%20%20%20%20%22subdomains%22%3A%20%22abc%22%2C%0A%20%20%20%20%20%20%20%20%22tms%22%3A%20false%0A%7D%29.addTo%28map_0cd13ac681df4dc9b8c736dd1b3cbdc9%29%3B%0A%3C/script%3E onload=\"this.contentDocument.open();this.contentDocument.write(    decodeURIComponent(this.getAttribute('data-html')));this.contentDocument.close();\" allowfullscreen webkitallowfullscreen mozallowfullscreen></iframe></div></div>"
            ],
            "text/plain": [
              "<folium.folium.Map at 0x7f0560d1efd0>"
            ]
          },
          "metadata": {
            "tags": []
          },
          "execution_count": 11
        }
      ]
    },
    {
      "cell_type": "code",
      "metadata": {
        "colab": {
          "base_uri": "https://localhost:8080/"
        },
        "id": "4yiLM6x-0RuO",
        "outputId": "0e9e5cbe-f200-414f-a3a9-dcddcad462ff"
      },
      "source": [
        "if aiplatform:\n",
        "  project_name = 'tfg-ugr-314011'\n",
        "  model_name = 'TfgPredictorCustom'\n",
        "  version_name = 'v0'\n",
        "\n",
        "  body = {\n",
        "    'instances': instances\n",
        "  }\n",
        "\n",
        "  service = discovery.build('ml', 'v1')\n",
        "  name = 'projects/{}/models/{}/versions/{}'.format(project_name, model_name, version_name)\n",
        "\n",
        "  response = service.projects().predict(\n",
        "      name=name,\n",
        "      body={'instances': instances}\n",
        "  ).execute()\n",
        "\n",
        "  for c in response['predictions']:\n",
        "    predicciones.append(name_class[c])\n",
        "\n",
        "  print(predicciones)\n",
        "else:\n",
        "  imageCol = ee.ImageCollection(ee_images)\n",
        "  print(predicciones)\n",
        "  print(probs)"
      ],
      "id": "4yiLM6x-0RuO",
      "execution_count": null,
      "outputs": [
        {
          "output_type": "stream",
          "text": [
            "[27, 27, 27, 27, 27, 24, 25, 25, 25]\n",
            "[0.9993407, 0.9821698, 0.9223297, 0.99908245, 0.99506986, 0.40050364, 0.4157589, 0.3957318, 0.535721]\n"
          ],
          "name": "stdout"
        }
      ]
    },
    {
      "cell_type": "code",
      "metadata": {
        "id": "_2xyvmeZwNkT"
      },
      "source": [
        "imagesWithPrediction = []\n",
        "i = 0\n",
        "\n",
        "for img in images:\n",
        "  imagesWithPrediction.append(img.imagen.addBands(ee.Image(int(predicciones[i])).clip(img.region)))\n",
        "  i += 1"
      ],
      "id": "_2xyvmeZwNkT",
      "execution_count": null,
      "outputs": []
    },
    {
      "cell_type": "code",
      "metadata": {
        "colab": {
          "base_uri": "https://localhost:8080/",
          "height": 808
        },
        "id": "9-EdRzI-wNkU",
        "outputId": "26b207f2-1b98-48c3-e348-ecda01da2827"
      },
      "source": [
        "# Use folium to visualize the input imagery and the predictions.\n",
        "map = folium.Map(location=[locations[0].latitude, locations[0].longitude], zoom_start=5)\n",
        "\n",
        "landCoverVis = {\n",
        "    'bands': ['constant'], \n",
        "    'min': 0, \n",
        "    'max': 27, \n",
        "    'palette': ['696969', '006400', '0000ff', '483d8b', \n",
        "                'b22222', '008b8b', '9acd32', '00008b', \n",
        "                '7f007f', '8fbc8f', 'b03060', 'ff0000',\n",
        "                'ff8c00', 'ffd700', '7cfc00', '8a2be2',\n",
        "                '00ffff', '00bfff', '808000', 'da70d6',\n",
        "                '1e90ff', 'ff00ff', 'ffc0cb', 'add8e6',\n",
        "                'ff1493', 'ffa07a', 'FFFFFF', 'f0e68c']\n",
        "}\n",
        "\n",
        "\n",
        "i = 0\n",
        "for img in imagesWithPrediction:\n",
        "  name = class_name[predicciones[i]] + \" \" + str(probs[i])\n",
        "  mapid = img.getMapId({'bands': ['vis-red', 'vis-green', 'vis-blue'], 'min': 0, 'max': 255, 'gamma': 1.4})\n",
        "  folium.TileLayer(\n",
        "      tiles=mapid['tile_fetcher'].url_format,\n",
        "      attr='Google Earth Engine',\n",
        "      overlay=True,\n",
        "      name=name,\n",
        "    ).add_to(map)\n",
        "\n",
        "  prediction = img.getMapId(landCoverVis)\n",
        "  folium.TileLayer(\n",
        "      tiles=prediction['tile_fetcher'].url_format,\n",
        "      attr='Google Earth Engine',\n",
        "      overlay=True,\n",
        "      name=name,\n",
        "    ).add_to(map)\n",
        "\n",
        "  i += 1\n",
        "\n",
        "map.add_child(folium.LayerControl())\n",
        "map"
      ],
      "id": "9-EdRzI-wNkU",
      "execution_count": null,
      "outputs": [
        {
          "output_type": "execute_result",
          "data": {
            "text/html": [
              "<div style=\"width:100%;\"><div style=\"position:relative;width:100%;height:0;padding-bottom:60%;\"><span style=\"color:#565656\">Make this Notebook Trusted to load map: File -> Trust Notebook</span><iframe src=\"about:blank\" style=\"position:absolute;width:100%;height:100%;left:0;top:0;border:none !important;\" data-html=%3C%21DOCTYPE%20html%3E%0A%3Chead%3E%20%20%20%20%0A%20%20%20%20%3Cmeta%20http-equiv%3D%22content-type%22%20content%3D%22text/html%3B%20charset%3DUTF-8%22%20/%3E%0A%20%20%20%20%3Cscript%3EL_PREFER_CANVAS%3Dfalse%3B%20L_NO_TOUCH%3Dfalse%3B%20L_DISABLE_3D%3Dfalse%3B%3C/script%3E%0A%20%20%20%20%3Cscript%20src%3D%22https%3A//cdn.jsdelivr.net/npm/leaflet%401.4.0/dist/leaflet.js%22%3E%3C/script%3E%0A%20%20%20%20%3Cscript%20src%3D%22https%3A//code.jquery.com/jquery-1.12.4.min.js%22%3E%3C/script%3E%0A%20%20%20%20%3Cscript%20src%3D%22https%3A//maxcdn.bootstrapcdn.com/bootstrap/3.2.0/js/bootstrap.min.js%22%3E%3C/script%3E%0A%20%20%20%20%3Cscript%20src%3D%22https%3A//cdnjs.cloudflare.com/ajax/libs/Leaflet.awesome-markers/2.0.2/leaflet.awesome-markers.js%22%3E%3C/script%3E%0A%20%20%20%20%3Clink%20rel%3D%22stylesheet%22%20href%3D%22https%3A//cdn.jsdelivr.net/npm/leaflet%401.4.0/dist/leaflet.css%22/%3E%0A%20%20%20%20%3Clink%20rel%3D%22stylesheet%22%20href%3D%22https%3A//maxcdn.bootstrapcdn.com/bootstrap/3.2.0/css/bootstrap.min.css%22/%3E%0A%20%20%20%20%3Clink%20rel%3D%22stylesheet%22%20href%3D%22https%3A//maxcdn.bootstrapcdn.com/bootstrap/3.2.0/css/bootstrap-theme.min.css%22/%3E%0A%20%20%20%20%3Clink%20rel%3D%22stylesheet%22%20href%3D%22https%3A//maxcdn.bootstrapcdn.com/font-awesome/4.6.3/css/font-awesome.min.css%22/%3E%0A%20%20%20%20%3Clink%20rel%3D%22stylesheet%22%20href%3D%22https%3A//cdnjs.cloudflare.com/ajax/libs/Leaflet.awesome-markers/2.0.2/leaflet.awesome-markers.css%22/%3E%0A%20%20%20%20%3Clink%20rel%3D%22stylesheet%22%20href%3D%22https%3A//rawcdn.githack.com/python-visualization/folium/master/folium/templates/leaflet.awesome.rotate.css%22/%3E%0A%20%20%20%20%3Cstyle%3Ehtml%2C%20body%20%7Bwidth%3A%20100%25%3Bheight%3A%20100%25%3Bmargin%3A%200%3Bpadding%3A%200%3B%7D%3C/style%3E%0A%20%20%20%20%3Cstyle%3E%23map%20%7Bposition%3Aabsolute%3Btop%3A0%3Bbottom%3A0%3Bright%3A0%3Bleft%3A0%3B%7D%3C/style%3E%0A%20%20%20%20%0A%20%20%20%20%3Cmeta%20name%3D%22viewport%22%20content%3D%22width%3Ddevice-width%2C%0A%20%20%20%20%20%20%20%20initial-scale%3D1.0%2C%20maximum-scale%3D1.0%2C%20user-scalable%3Dno%22%20/%3E%0A%20%20%20%20%3Cstyle%3E%23map_74d124438a794fb0b5d6e33a6e22651c%20%7B%0A%20%20%20%20%20%20%20%20position%3A%20relative%3B%0A%20%20%20%20%20%20%20%20width%3A%20100.0%25%3B%0A%20%20%20%20%20%20%20%20height%3A%20100.0%25%3B%0A%20%20%20%20%20%20%20%20left%3A%200.0%25%3B%0A%20%20%20%20%20%20%20%20top%3A%200.0%25%3B%0A%20%20%20%20%20%20%20%20%7D%0A%20%20%20%20%3C/style%3E%0A%3C/head%3E%0A%3Cbody%3E%20%20%20%20%0A%20%20%20%20%0A%20%20%20%20%3Cdiv%20class%3D%22folium-map%22%20id%3D%22map_74d124438a794fb0b5d6e33a6e22651c%22%20%3E%3C/div%3E%0A%3C/body%3E%0A%3Cscript%3E%20%20%20%20%0A%20%20%20%20%0A%20%20%20%20%0A%20%20%20%20%20%20%20%20var%20bounds%20%3D%20null%3B%0A%20%20%20%20%0A%0A%20%20%20%20var%20map_74d124438a794fb0b5d6e33a6e22651c%20%3D%20L.map%28%0A%20%20%20%20%20%20%20%20%27map_74d124438a794fb0b5d6e33a6e22651c%27%2C%20%7B%0A%20%20%20%20%20%20%20%20center%3A%20%5B37.19%2C%20-3.62%5D%2C%0A%20%20%20%20%20%20%20%20zoom%3A%205%2C%0A%20%20%20%20%20%20%20%20maxBounds%3A%20bounds%2C%0A%20%20%20%20%20%20%20%20layers%3A%20%5B%5D%2C%0A%20%20%20%20%20%20%20%20worldCopyJump%3A%20false%2C%0A%20%20%20%20%20%20%20%20crs%3A%20L.CRS.EPSG3857%2C%0A%20%20%20%20%20%20%20%20zoomControl%3A%20true%2C%0A%20%20%20%20%20%20%20%20%7D%29%3B%0A%0A%0A%20%20%20%20%0A%20%20%20%20var%20tile_layer_aa416ebfcb184e84bb3c8254dd5917aa%20%3D%20L.tileLayer%28%0A%20%20%20%20%20%20%20%20%27https%3A//%7Bs%7D.tile.openstreetmap.org/%7Bz%7D/%7Bx%7D/%7By%7D.png%27%2C%0A%20%20%20%20%20%20%20%20%7B%0A%20%20%20%20%20%20%20%20%22attribution%22%3A%20null%2C%0A%20%20%20%20%20%20%20%20%22detectRetina%22%3A%20false%2C%0A%20%20%20%20%20%20%20%20%22maxNativeZoom%22%3A%2018%2C%0A%20%20%20%20%20%20%20%20%22maxZoom%22%3A%2018%2C%0A%20%20%20%20%20%20%20%20%22minZoom%22%3A%200%2C%0A%20%20%20%20%20%20%20%20%22noWrap%22%3A%20false%2C%0A%20%20%20%20%20%20%20%20%22opacity%22%3A%201%2C%0A%20%20%20%20%20%20%20%20%22subdomains%22%3A%20%22abc%22%2C%0A%20%20%20%20%20%20%20%20%22tms%22%3A%20false%0A%7D%29.addTo%28map_74d124438a794fb0b5d6e33a6e22651c%29%3B%0A%20%20%20%20var%20tile_layer_c988843c7a1d4c29adc2d28bf404ecdf%20%3D%20L.tileLayer%28%0A%20%20%20%20%20%20%20%20%27https%3A//earthengine.googleapis.com/v1alpha/projects/earthengine-legacy/maps/1cd197e70016f75fcfe8d07c9beb4552-826cb1b1f4d51c7c663e16d54a5ad52b/tiles/%7Bz%7D/%7Bx%7D/%7By%7D%27%2C%0A%20%20%20%20%20%20%20%20%7B%0A%20%20%20%20%20%20%20%20%22attribution%22%3A%20%22Google%20Earth%20Engine%22%2C%0A%20%20%20%20%20%20%20%20%22detectRetina%22%3A%20false%2C%0A%20%20%20%20%20%20%20%20%22maxNativeZoom%22%3A%2018%2C%0A%20%20%20%20%20%20%20%20%22maxZoom%22%3A%2018%2C%0A%20%20%20%20%20%20%20%20%22minZoom%22%3A%200%2C%0A%20%20%20%20%20%20%20%20%22noWrap%22%3A%20false%2C%0A%20%20%20%20%20%20%20%20%22opacity%22%3A%201%2C%0A%20%20%20%20%20%20%20%20%22subdomains%22%3A%20%22abc%22%2C%0A%20%20%20%20%20%20%20%20%22tms%22%3A%20false%0A%7D%29.addTo%28map_74d124438a794fb0b5d6e33a6e22651c%29%3B%0A%20%20%20%20var%20tile_layer_09dbc43405964f5491c0f73ad8cc7f9a%20%3D%20L.tileLayer%28%0A%20%20%20%20%20%20%20%20%27https%3A//earthengine.googleapis.com/v1alpha/projects/earthengine-legacy/maps/be559b917b257b835f96ee529aaf0c1f-120fed11da87598e14d7ef03751d1851/tiles/%7Bz%7D/%7Bx%7D/%7By%7D%27%2C%0A%20%20%20%20%20%20%20%20%7B%0A%20%20%20%20%20%20%20%20%22attribution%22%3A%20%22Google%20Earth%20Engine%22%2C%0A%20%20%20%20%20%20%20%20%22detectRetina%22%3A%20false%2C%0A%20%20%20%20%20%20%20%20%22maxNativeZoom%22%3A%2018%2C%0A%20%20%20%20%20%20%20%20%22maxZoom%22%3A%2018%2C%0A%20%20%20%20%20%20%20%20%22minZoom%22%3A%200%2C%0A%20%20%20%20%20%20%20%20%22noWrap%22%3A%20false%2C%0A%20%20%20%20%20%20%20%20%22opacity%22%3A%201%2C%0A%20%20%20%20%20%20%20%20%22subdomains%22%3A%20%22abc%22%2C%0A%20%20%20%20%20%20%20%20%22tms%22%3A%20false%0A%7D%29.addTo%28map_74d124438a794fb0b5d6e33a6e22651c%29%3B%0A%20%20%20%20var%20tile_layer_918f98805fe446a3955acdfe3ca309b7%20%3D%20L.tileLayer%28%0A%20%20%20%20%20%20%20%20%27https%3A//earthengine.googleapis.com/v1alpha/projects/earthengine-legacy/maps/fba49ff6608d6de98b942653318fea1b-22f1a680e77b90f65f431667d0adc76b/tiles/%7Bz%7D/%7Bx%7D/%7By%7D%27%2C%0A%20%20%20%20%20%20%20%20%7B%0A%20%20%20%20%20%20%20%20%22attribution%22%3A%20%22Google%20Earth%20Engine%22%2C%0A%20%20%20%20%20%20%20%20%22detectRetina%22%3A%20false%2C%0A%20%20%20%20%20%20%20%20%22maxNativeZoom%22%3A%2018%2C%0A%20%20%20%20%20%20%20%20%22maxZoom%22%3A%2018%2C%0A%20%20%20%20%20%20%20%20%22minZoom%22%3A%200%2C%0A%20%20%20%20%20%20%20%20%22noWrap%22%3A%20false%2C%0A%20%20%20%20%20%20%20%20%22opacity%22%3A%201%2C%0A%20%20%20%20%20%20%20%20%22subdomains%22%3A%20%22abc%22%2C%0A%20%20%20%20%20%20%20%20%22tms%22%3A%20false%0A%7D%29.addTo%28map_74d124438a794fb0b5d6e33a6e22651c%29%3B%0A%20%20%20%20var%20tile_layer_7eb07d81b37b493fb6b8ac37ece3d52b%20%3D%20L.tileLayer%28%0A%20%20%20%20%20%20%20%20%27https%3A//earthengine.googleapis.com/v1alpha/projects/earthengine-legacy/maps/23c706d936350a1894500d1eed6d2338-abf118614246a6c2578d611162d0fc8f/tiles/%7Bz%7D/%7Bx%7D/%7By%7D%27%2C%0A%20%20%20%20%20%20%20%20%7B%0A%20%20%20%20%20%20%20%20%22attribution%22%3A%20%22Google%20Earth%20Engine%22%2C%0A%20%20%20%20%20%20%20%20%22detectRetina%22%3A%20false%2C%0A%20%20%20%20%20%20%20%20%22maxNativeZoom%22%3A%2018%2C%0A%20%20%20%20%20%20%20%20%22maxZoom%22%3A%2018%2C%0A%20%20%20%20%20%20%20%20%22minZoom%22%3A%200%2C%0A%20%20%20%20%20%20%20%20%22noWrap%22%3A%20false%2C%0A%20%20%20%20%20%20%20%20%22opacity%22%3A%201%2C%0A%20%20%20%20%20%20%20%20%22subdomains%22%3A%20%22abc%22%2C%0A%20%20%20%20%20%20%20%20%22tms%22%3A%20false%0A%7D%29.addTo%28map_74d124438a794fb0b5d6e33a6e22651c%29%3B%0A%20%20%20%20var%20tile_layer_df94fdf3e14a4209b2716561babf2ce8%20%3D%20L.tileLayer%28%0A%20%20%20%20%20%20%20%20%27https%3A//earthengine.googleapis.com/v1alpha/projects/earthengine-legacy/maps/ebd9c65bc1d270c5afdd4c584e0a3b76-01312133f0624a8065648584a5dfb5d3/tiles/%7Bz%7D/%7Bx%7D/%7By%7D%27%2C%0A%20%20%20%20%20%20%20%20%7B%0A%20%20%20%20%20%20%20%20%22attribution%22%3A%20%22Google%20Earth%20Engine%22%2C%0A%20%20%20%20%20%20%20%20%22detectRetina%22%3A%20false%2C%0A%20%20%20%20%20%20%20%20%22maxNativeZoom%22%3A%2018%2C%0A%20%20%20%20%20%20%20%20%22maxZoom%22%3A%2018%2C%0A%20%20%20%20%20%20%20%20%22minZoom%22%3A%200%2C%0A%20%20%20%20%20%20%20%20%22noWrap%22%3A%20false%2C%0A%20%20%20%20%20%20%20%20%22opacity%22%3A%201%2C%0A%20%20%20%20%20%20%20%20%22subdomains%22%3A%20%22abc%22%2C%0A%20%20%20%20%20%20%20%20%22tms%22%3A%20false%0A%7D%29.addTo%28map_74d124438a794fb0b5d6e33a6e22651c%29%3B%0A%20%20%20%20var%20tile_layer_e1c741d79ce44e25acb4a8695134fe92%20%3D%20L.tileLayer%28%0A%20%20%20%20%20%20%20%20%27https%3A//earthengine.googleapis.com/v1alpha/projects/earthengine-legacy/maps/2db33d5e376af1bc44be01431cee50bb-714a6e0523975283d154654c4ffaf19c/tiles/%7Bz%7D/%7Bx%7D/%7By%7D%27%2C%0A%20%20%20%20%20%20%20%20%7B%0A%20%20%20%20%20%20%20%20%22attribution%22%3A%20%22Google%20Earth%20Engine%22%2C%0A%20%20%20%20%20%20%20%20%22detectRetina%22%3A%20false%2C%0A%20%20%20%20%20%20%20%20%22maxNativeZoom%22%3A%2018%2C%0A%20%20%20%20%20%20%20%20%22maxZoom%22%3A%2018%2C%0A%20%20%20%20%20%20%20%20%22minZoom%22%3A%200%2C%0A%20%20%20%20%20%20%20%20%22noWrap%22%3A%20false%2C%0A%20%20%20%20%20%20%20%20%22opacity%22%3A%201%2C%0A%20%20%20%20%20%20%20%20%22subdomains%22%3A%20%22abc%22%2C%0A%20%20%20%20%20%20%20%20%22tms%22%3A%20false%0A%7D%29.addTo%28map_74d124438a794fb0b5d6e33a6e22651c%29%3B%0A%20%20%20%20var%20tile_layer_8150b66a7eb84ea38b385988701389e6%20%3D%20L.tileLayer%28%0A%20%20%20%20%20%20%20%20%27https%3A//earthengine.googleapis.com/v1alpha/projects/earthengine-legacy/maps/bb59ba9d1d0b8787f7d1ae1f90018de6-10d870ecd8d18c43ac3d5714bcd0979b/tiles/%7Bz%7D/%7Bx%7D/%7By%7D%27%2C%0A%20%20%20%20%20%20%20%20%7B%0A%20%20%20%20%20%20%20%20%22attribution%22%3A%20%22Google%20Earth%20Engine%22%2C%0A%20%20%20%20%20%20%20%20%22detectRetina%22%3A%20false%2C%0A%20%20%20%20%20%20%20%20%22maxNativeZoom%22%3A%2018%2C%0A%20%20%20%20%20%20%20%20%22maxZoom%22%3A%2018%2C%0A%20%20%20%20%20%20%20%20%22minZoom%22%3A%200%2C%0A%20%20%20%20%20%20%20%20%22noWrap%22%3A%20false%2C%0A%20%20%20%20%20%20%20%20%22opacity%22%3A%201%2C%0A%20%20%20%20%20%20%20%20%22subdomains%22%3A%20%22abc%22%2C%0A%20%20%20%20%20%20%20%20%22tms%22%3A%20false%0A%7D%29.addTo%28map_74d124438a794fb0b5d6e33a6e22651c%29%3B%0A%20%20%20%20var%20tile_layer_6ff9c47f2fb043c9a49ce411850ef51b%20%3D%20L.tileLayer%28%0A%20%20%20%20%20%20%20%20%27https%3A//earthengine.googleapis.com/v1alpha/projects/earthengine-legacy/maps/ce50cd2e4ce545135ad452f712460851-8212f0f6993b12e6f0d6749131d1baf7/tiles/%7Bz%7D/%7Bx%7D/%7By%7D%27%2C%0A%20%20%20%20%20%20%20%20%7B%0A%20%20%20%20%20%20%20%20%22attribution%22%3A%20%22Google%20Earth%20Engine%22%2C%0A%20%20%20%20%20%20%20%20%22detectRetina%22%3A%20false%2C%0A%20%20%20%20%20%20%20%20%22maxNativeZoom%22%3A%2018%2C%0A%20%20%20%20%20%20%20%20%22maxZoom%22%3A%2018%2C%0A%20%20%20%20%20%20%20%20%22minZoom%22%3A%200%2C%0A%20%20%20%20%20%20%20%20%22noWrap%22%3A%20false%2C%0A%20%20%20%20%20%20%20%20%22opacity%22%3A%201%2C%0A%20%20%20%20%20%20%20%20%22subdomains%22%3A%20%22abc%22%2C%0A%20%20%20%20%20%20%20%20%22tms%22%3A%20false%0A%7D%29.addTo%28map_74d124438a794fb0b5d6e33a6e22651c%29%3B%0A%20%20%20%20var%20tile_layer_b228d369f1a44dd282f982337a65e341%20%3D%20L.tileLayer%28%0A%20%20%20%20%20%20%20%20%27https%3A//earthengine.googleapis.com/v1alpha/projects/earthengine-legacy/maps/90a3030ba83046c1c0f1c384ffa2d841-1709963a71870b559ad54ec95035f9ff/tiles/%7Bz%7D/%7Bx%7D/%7By%7D%27%2C%0A%20%20%20%20%20%20%20%20%7B%0A%20%20%20%20%20%20%20%20%22attribution%22%3A%20%22Google%20Earth%20Engine%22%2C%0A%20%20%20%20%20%20%20%20%22detectRetina%22%3A%20false%2C%0A%20%20%20%20%20%20%20%20%22maxNativeZoom%22%3A%2018%2C%0A%20%20%20%20%20%20%20%20%22maxZoom%22%3A%2018%2C%0A%20%20%20%20%20%20%20%20%22minZoom%22%3A%200%2C%0A%20%20%20%20%20%20%20%20%22noWrap%22%3A%20false%2C%0A%20%20%20%20%20%20%20%20%22opacity%22%3A%201%2C%0A%20%20%20%20%20%20%20%20%22subdomains%22%3A%20%22abc%22%2C%0A%20%20%20%20%20%20%20%20%22tms%22%3A%20false%0A%7D%29.addTo%28map_74d124438a794fb0b5d6e33a6e22651c%29%3B%0A%20%20%20%20var%20tile_layer_dfcca1d3b02c4837aea0471e3e35e824%20%3D%20L.tileLayer%28%0A%20%20%20%20%20%20%20%20%27https%3A//earthengine.googleapis.com/v1alpha/projects/earthengine-legacy/maps/87977fd2de50fb8e6f8fe17681b324dc-30d730e18a26b9af920af5cdc4a39158/tiles/%7Bz%7D/%7Bx%7D/%7By%7D%27%2C%0A%20%20%20%20%20%20%20%20%7B%0A%20%20%20%20%20%20%20%20%22attribution%22%3A%20%22Google%20Earth%20Engine%22%2C%0A%20%20%20%20%20%20%20%20%22detectRetina%22%3A%20false%2C%0A%20%20%20%20%20%20%20%20%22maxNativeZoom%22%3A%2018%2C%0A%20%20%20%20%20%20%20%20%22maxZoom%22%3A%2018%2C%0A%20%20%20%20%20%20%20%20%22minZoom%22%3A%200%2C%0A%20%20%20%20%20%20%20%20%22noWrap%22%3A%20false%2C%0A%20%20%20%20%20%20%20%20%22opacity%22%3A%201%2C%0A%20%20%20%20%20%20%20%20%22subdomains%22%3A%20%22abc%22%2C%0A%20%20%20%20%20%20%20%20%22tms%22%3A%20false%0A%7D%29.addTo%28map_74d124438a794fb0b5d6e33a6e22651c%29%3B%0A%20%20%20%20var%20tile_layer_6be01e57d40749589a411fc35acf7d0b%20%3D%20L.tileLayer%28%0A%20%20%20%20%20%20%20%20%27https%3A//earthengine.googleapis.com/v1alpha/projects/earthengine-legacy/maps/f8dbb9861f89972b5a66938b56644321-95643096dc4f802fb3985d04ca504716/tiles/%7Bz%7D/%7Bx%7D/%7By%7D%27%2C%0A%20%20%20%20%20%20%20%20%7B%0A%20%20%20%20%20%20%20%20%22attribution%22%3A%20%22Google%20Earth%20Engine%22%2C%0A%20%20%20%20%20%20%20%20%22detectRetina%22%3A%20false%2C%0A%20%20%20%20%20%20%20%20%22maxNativeZoom%22%3A%2018%2C%0A%20%20%20%20%20%20%20%20%22maxZoom%22%3A%2018%2C%0A%20%20%20%20%20%20%20%20%22minZoom%22%3A%200%2C%0A%20%20%20%20%20%20%20%20%22noWrap%22%3A%20false%2C%0A%20%20%20%20%20%20%20%20%22opacity%22%3A%201%2C%0A%20%20%20%20%20%20%20%20%22subdomains%22%3A%20%22abc%22%2C%0A%20%20%20%20%20%20%20%20%22tms%22%3A%20false%0A%7D%29.addTo%28map_74d124438a794fb0b5d6e33a6e22651c%29%3B%0A%20%20%20%20var%20tile_layer_5b97cf1cbc8c4ee7878bea1502738762%20%3D%20L.tileLayer%28%0A%20%20%20%20%20%20%20%20%27https%3A//earthengine.googleapis.com/v1alpha/projects/earthengine-legacy/maps/c9d3578a0200df7e3c436828845c974e-314427acc94946e3d7395a92556d4856/tiles/%7Bz%7D/%7Bx%7D/%7By%7D%27%2C%0A%20%20%20%20%20%20%20%20%7B%0A%20%20%20%20%20%20%20%20%22attribution%22%3A%20%22Google%20Earth%20Engine%22%2C%0A%20%20%20%20%20%20%20%20%22detectRetina%22%3A%20false%2C%0A%20%20%20%20%20%20%20%20%22maxNativeZoom%22%3A%2018%2C%0A%20%20%20%20%20%20%20%20%22maxZoom%22%3A%2018%2C%0A%20%20%20%20%20%20%20%20%22minZoom%22%3A%200%2C%0A%20%20%20%20%20%20%20%20%22noWrap%22%3A%20false%2C%0A%20%20%20%20%20%20%20%20%22opacity%22%3A%201%2C%0A%20%20%20%20%20%20%20%20%22subdomains%22%3A%20%22abc%22%2C%0A%20%20%20%20%20%20%20%20%22tms%22%3A%20false%0A%7D%29.addTo%28map_74d124438a794fb0b5d6e33a6e22651c%29%3B%0A%20%20%20%20var%20tile_layer_f2ce5fefccb049449b1cba38afb567c7%20%3D%20L.tileLayer%28%0A%20%20%20%20%20%20%20%20%27https%3A//earthengine.googleapis.com/v1alpha/projects/earthengine-legacy/maps/7c14f539d1b1dd172ad6615338840575-083673f0b9187841cbc11b5ea334ac76/tiles/%7Bz%7D/%7Bx%7D/%7By%7D%27%2C%0A%20%20%20%20%20%20%20%20%7B%0A%20%20%20%20%20%20%20%20%22attribution%22%3A%20%22Google%20Earth%20Engine%22%2C%0A%20%20%20%20%20%20%20%20%22detectRetina%22%3A%20false%2C%0A%20%20%20%20%20%20%20%20%22maxNativeZoom%22%3A%2018%2C%0A%20%20%20%20%20%20%20%20%22maxZoom%22%3A%2018%2C%0A%20%20%20%20%20%20%20%20%22minZoom%22%3A%200%2C%0A%20%20%20%20%20%20%20%20%22noWrap%22%3A%20false%2C%0A%20%20%20%20%20%20%20%20%22opacity%22%3A%201%2C%0A%20%20%20%20%20%20%20%20%22subdomains%22%3A%20%22abc%22%2C%0A%20%20%20%20%20%20%20%20%22tms%22%3A%20false%0A%7D%29.addTo%28map_74d124438a794fb0b5d6e33a6e22651c%29%3B%0A%20%20%20%20var%20tile_layer_e489a5dafc0e485e8853142ecee78df8%20%3D%20L.tileLayer%28%0A%20%20%20%20%20%20%20%20%27https%3A//earthengine.googleapis.com/v1alpha/projects/earthengine-legacy/maps/923641c012fca0e94914f9a7b385751e-c0f6b5e6b3ed697f724816a81b93d87b/tiles/%7Bz%7D/%7Bx%7D/%7By%7D%27%2C%0A%20%20%20%20%20%20%20%20%7B%0A%20%20%20%20%20%20%20%20%22attribution%22%3A%20%22Google%20Earth%20Engine%22%2C%0A%20%20%20%20%20%20%20%20%22detectRetina%22%3A%20false%2C%0A%20%20%20%20%20%20%20%20%22maxNativeZoom%22%3A%2018%2C%0A%20%20%20%20%20%20%20%20%22maxZoom%22%3A%2018%2C%0A%20%20%20%20%20%20%20%20%22minZoom%22%3A%200%2C%0A%20%20%20%20%20%20%20%20%22noWrap%22%3A%20false%2C%0A%20%20%20%20%20%20%20%20%22opacity%22%3A%201%2C%0A%20%20%20%20%20%20%20%20%22subdomains%22%3A%20%22abc%22%2C%0A%20%20%20%20%20%20%20%20%22tms%22%3A%20false%0A%7D%29.addTo%28map_74d124438a794fb0b5d6e33a6e22651c%29%3B%0A%20%20%20%20var%20tile_layer_c5cddf7448f74fd69414f9ffe82c9482%20%3D%20L.tileLayer%28%0A%20%20%20%20%20%20%20%20%27https%3A//earthengine.googleapis.com/v1alpha/projects/earthengine-legacy/maps/abca2db7aa07803ca5d5adfe1e371584-d619c2424115f7acbdd4153e666d3f7d/tiles/%7Bz%7D/%7Bx%7D/%7By%7D%27%2C%0A%20%20%20%20%20%20%20%20%7B%0A%20%20%20%20%20%20%20%20%22attribution%22%3A%20%22Google%20Earth%20Engine%22%2C%0A%20%20%20%20%20%20%20%20%22detectRetina%22%3A%20false%2C%0A%20%20%20%20%20%20%20%20%22maxNativeZoom%22%3A%2018%2C%0A%20%20%20%20%20%20%20%20%22maxZoom%22%3A%2018%2C%0A%20%20%20%20%20%20%20%20%22minZoom%22%3A%200%2C%0A%20%20%20%20%20%20%20%20%22noWrap%22%3A%20false%2C%0A%20%20%20%20%20%20%20%20%22opacity%22%3A%201%2C%0A%20%20%20%20%20%20%20%20%22subdomains%22%3A%20%22abc%22%2C%0A%20%20%20%20%20%20%20%20%22tms%22%3A%20false%0A%7D%29.addTo%28map_74d124438a794fb0b5d6e33a6e22651c%29%3B%0A%20%20%20%20var%20tile_layer_457d9742e70e48719f7de4597274abbe%20%3D%20L.tileLayer%28%0A%20%20%20%20%20%20%20%20%27https%3A//earthengine.googleapis.com/v1alpha/projects/earthengine-legacy/maps/3ed463d6f9ea7f943ee56275dc9c450f-5fdc9a8ba349900fd719ec4c1ffc070a/tiles/%7Bz%7D/%7Bx%7D/%7By%7D%27%2C%0A%20%20%20%20%20%20%20%20%7B%0A%20%20%20%20%20%20%20%20%22attribution%22%3A%20%22Google%20Earth%20Engine%22%2C%0A%20%20%20%20%20%20%20%20%22detectRetina%22%3A%20false%2C%0A%20%20%20%20%20%20%20%20%22maxNativeZoom%22%3A%2018%2C%0A%20%20%20%20%20%20%20%20%22maxZoom%22%3A%2018%2C%0A%20%20%20%20%20%20%20%20%22minZoom%22%3A%200%2C%0A%20%20%20%20%20%20%20%20%22noWrap%22%3A%20false%2C%0A%20%20%20%20%20%20%20%20%22opacity%22%3A%201%2C%0A%20%20%20%20%20%20%20%20%22subdomains%22%3A%20%22abc%22%2C%0A%20%20%20%20%20%20%20%20%22tms%22%3A%20false%0A%7D%29.addTo%28map_74d124438a794fb0b5d6e33a6e22651c%29%3B%0A%20%20%20%20var%20tile_layer_92bc066f51e74c02a0b8dd6b01c50a0b%20%3D%20L.tileLayer%28%0A%20%20%20%20%20%20%20%20%27https%3A//earthengine.googleapis.com/v1alpha/projects/earthengine-legacy/maps/1a3bf59da411d8a4c85617c5cb3b6853-8d718b37e228b5d6ccbbb6ef3c2a7149/tiles/%7Bz%7D/%7Bx%7D/%7By%7D%27%2C%0A%20%20%20%20%20%20%20%20%7B%0A%20%20%20%20%20%20%20%20%22attribution%22%3A%20%22Google%20Earth%20Engine%22%2C%0A%20%20%20%20%20%20%20%20%22detectRetina%22%3A%20false%2C%0A%20%20%20%20%20%20%20%20%22maxNativeZoom%22%3A%2018%2C%0A%20%20%20%20%20%20%20%20%22maxZoom%22%3A%2018%2C%0A%20%20%20%20%20%20%20%20%22minZoom%22%3A%200%2C%0A%20%20%20%20%20%20%20%20%22noWrap%22%3A%20false%2C%0A%20%20%20%20%20%20%20%20%22opacity%22%3A%201%2C%0A%20%20%20%20%20%20%20%20%22subdomains%22%3A%20%22abc%22%2C%0A%20%20%20%20%20%20%20%20%22tms%22%3A%20false%0A%7D%29.addTo%28map_74d124438a794fb0b5d6e33a6e22651c%29%3B%0A%20%20%20%20var%20tile_layer_fe8f837e19fa467286b6e0f9789d7a2d%20%3D%20L.tileLayer%28%0A%20%20%20%20%20%20%20%20%27https%3A//earthengine.googleapis.com/v1alpha/projects/earthengine-legacy/maps/f9ef200c654cdc877e65a593129348e8-554b83b0a676f2fa177cf2d5eea29106/tiles/%7Bz%7D/%7Bx%7D/%7By%7D%27%2C%0A%20%20%20%20%20%20%20%20%7B%0A%20%20%20%20%20%20%20%20%22attribution%22%3A%20%22Google%20Earth%20Engine%22%2C%0A%20%20%20%20%20%20%20%20%22detectRetina%22%3A%20false%2C%0A%20%20%20%20%20%20%20%20%22maxNativeZoom%22%3A%2018%2C%0A%20%20%20%20%20%20%20%20%22maxZoom%22%3A%2018%2C%0A%20%20%20%20%20%20%20%20%22minZoom%22%3A%200%2C%0A%20%20%20%20%20%20%20%20%22noWrap%22%3A%20false%2C%0A%20%20%20%20%20%20%20%20%22opacity%22%3A%201%2C%0A%20%20%20%20%20%20%20%20%22subdomains%22%3A%20%22abc%22%2C%0A%20%20%20%20%20%20%20%20%22tms%22%3A%20false%0A%7D%29.addTo%28map_74d124438a794fb0b5d6e33a6e22651c%29%3B%0A%20%20%20%20%0A%20%20%20%20%20%20%20%20%20%20%20%20var%20layer_control_8da82f8e0fb049daadfb77f454ae3631%20%3D%20%7B%0A%20%20%20%20%20%20%20%20%20%20%20%20%20%20%20%20base_layers%20%3A%20%7B%20%22openstreetmap%22%20%3A%20tile_layer_aa416ebfcb184e84bb3c8254dd5917aa%2C%20%7D%2C%0A%20%20%20%20%20%20%20%20%20%20%20%20%20%20%20%20overlays%20%3A%20%7B%20%22Urban%200.9993407%22%20%3A%20tile_layer_09dbc43405964f5491c0f73ad8cc7f9a%2C%22Urban%200.9821698%22%20%3A%20tile_layer_7eb07d81b37b493fb6b8ac37ece3d52b%2C%22Urban%200.9223297%22%20%3A%20tile_layer_e1c741d79ce44e25acb4a8695134fe92%2C%22Urban%200.99908245%22%20%3A%20tile_layer_6ff9c47f2fb043c9a49ce411850ef51b%2C%22Urban%200.99506986%22%20%3A%20tile_layer_dfcca1d3b02c4837aea0471e3e35e824%2C%22Rainfed_Broadleaf_Cropland%200.40050364%22%20%3A%20tile_layer_5b97cf1cbc8c4ee7878bea1502738762%2C%22Rainfed_Cereal_Cropland%200.4157589%22%20%3A%20tile_layer_e489a5dafc0e485e8853142ecee78df8%2C%22Rainfed_Cereal_Cropland%200.3957318%22%20%3A%20tile_layer_457d9742e70e48719f7de4597274abbe%2C%22Rainfed_Cereal_Cropland%200.535721%22%20%3A%20tile_layer_fe8f837e19fa467286b6e0f9789d7a2d%2C%20%7D%0A%20%20%20%20%20%20%20%20%20%20%20%20%20%20%20%20%7D%3B%0A%20%20%20%20%20%20%20%20%20%20%20%20L.control.layers%28%0A%20%20%20%20%20%20%20%20%20%20%20%20%20%20%20%20layer_control_8da82f8e0fb049daadfb77f454ae3631.base_layers%2C%0A%20%20%20%20%20%20%20%20%20%20%20%20%20%20%20%20layer_control_8da82f8e0fb049daadfb77f454ae3631.overlays%2C%0A%20%20%20%20%20%20%20%20%20%20%20%20%20%20%20%20%7Bposition%3A%20%27topright%27%2C%0A%20%20%20%20%20%20%20%20%20%20%20%20%20%20%20%20%20collapsed%3A%20true%2C%0A%20%20%20%20%20%20%20%20%20%20%20%20%20%20%20%20%20autoZIndex%3A%20true%0A%20%20%20%20%20%20%20%20%20%20%20%20%20%20%20%20%7D%29.addTo%28map_74d124438a794fb0b5d6e33a6e22651c%29%3B%0A%20%20%20%20%20%20%20%20%20%20%20%20%0A%20%20%20%20%20%20%20%20%0A%3C/script%3E onload=\"this.contentDocument.open();this.contentDocument.write(    decodeURIComponent(this.getAttribute('data-html')));this.contentDocument.close();\" allowfullscreen webkitallowfullscreen mozallowfullscreen></iframe></div></div>"
            ],
            "text/plain": [
              "<folium.folium.Map at 0x7f0560d55950>"
            ]
          },
          "metadata": {
            "tags": []
          },
          "execution_count": 14
        }
      ]
    },
    {
      "cell_type": "markdown",
      "metadata": {
        "id": "HqK03zLjxZE_"
      },
      "source": [
        "# Predicciones con TIF"
      ],
      "id": "HqK03zLjxZE_"
    },
    {
      "cell_type": "code",
      "metadata": {
        "id": "BS605D7mwJrJ"
      },
      "source": [
        "locations = [Location(-2.42, 36.18), Location(-3.62, 37.19)]\n",
        "\n",
        "images = []\n",
        "ee_images = []\n",
        "\n",
        "for location in locations:\n",
        "  x=ee.Number(float(location.longitude))\n",
        "  y=ee.Number(float(location.latitude))\n",
        "  cor1=(x).subtract(0.0100)\n",
        "  cor2=(y).subtract(0.0100)\n",
        "  cor3=(x).add(0.0100)\n",
        "  cor4=(y).add(0.0100)\n",
        "  region=ee.Geometry.Rectangle([cor1,cor2,cor3,cor4],None,False);\n",
        "\n",
        "  s2Sr = ee.ImageCollection('COPERNICUS/S2').filterBounds(region);\n",
        "\n",
        "  s2Clouds = ee.ImageCollection('COPERNICUS/S2_CLOUD_PROBABILITY').filterBounds(region);\n",
        "\n",
        "  START_DATE = ee.Date('2015-06-23');\n",
        "  END_DATE = ee.Date('2020-10-27');\n",
        "  criteria = ee.Filter.date(START_DATE, END_DATE);\n",
        "\n",
        "  s2Sr = s2Sr.filter(criteria).map(maskEdges);\n",
        "  s2Clouds = s2Clouds.filter(criteria);\n",
        "  s2SrWithCloudMask = ee.Join.saveFirst('cloud_mask').apply(**{\"primary\": s2Sr, \"secondary\": s2Clouds, \"condition\": ee.Filter.equals(**{\"leftField\": 'system:index', \"rightField\": 'system:index'})});\n",
        "  s2CloudMaskedPercentile25 = ee.Image(ee.ImageCollection(s2SrWithCloudMask).map(maskClouds).reduce(ee.Reducer.percentile([25]))).unmask(0).clip(region);\n",
        "  visArgs = {\"bands\": [\"B4_p25\", \"B3_p25\", \"B2_p25\"], \"min\": 1, \"max\": 3558};\n",
        "  s2CloudMasked_rgb = ee.Image((s2CloudMaskedPercentile25.visualize(**visArgs).copyProperties(s2CloudMaskedPercentile25,s2CloudMaskedPercentile25.propertyNames()))).clip(region)\n",
        "  image = s2CloudMasked_rgb\n",
        "  images.append(MyImagen(image, region))\n",
        "  ee_images.append(image)\n",
        "\n",
        "imageCol = ee.ImageCollection(ee_images)"
      ],
      "id": "BS605D7mwJrJ",
      "execution_count": null,
      "outputs": []
    },
    {
      "cell_type": "code",
      "metadata": {
        "colab": {
          "base_uri": "https://localhost:8080/",
          "height": 685
        },
        "id": "8ARpFM38RRVT",
        "outputId": "51b14e50-7e76-40d7-8922-df6c22207441"
      },
      "source": [
        "# Use folium to visualize the input imagery and the predictions.\n",
        "mapid = imageCol.getMapId({'bands': ['vis-red', 'vis-green', 'vis-blue'], 'min': 0, 'max': 255})\n",
        "map = folium.Map(location=[36.18, -2.42], zoom_start=13)\n",
        "folium.TileLayer(\n",
        "    tiles=mapid['tile_fetcher'].url_format,\n",
        "    attr='Google Earth Engine',\n",
        "    overlay=True,\n",
        "    name='median composite',\n",
        "  ).add_to(map)\n",
        "\n",
        "map"
      ],
      "id": "8ARpFM38RRVT",
      "execution_count": null,
      "outputs": [
        {
          "output_type": "execute_result",
          "data": {
            "text/html": [
              "<div style=\"width:100%;\"><div style=\"position:relative;width:100%;height:0;padding-bottom:60%;\"><span style=\"color:#565656\">Make this Notebook Trusted to load map: File -> Trust Notebook</span><iframe src=\"about:blank\" style=\"position:absolute;width:100%;height:100%;left:0;top:0;border:none !important;\" data-html=%3C%21DOCTYPE%20html%3E%0A%3Chead%3E%20%20%20%20%0A%20%20%20%20%3Cmeta%20http-equiv%3D%22content-type%22%20content%3D%22text/html%3B%20charset%3DUTF-8%22%20/%3E%0A%20%20%20%20%3Cscript%3EL_PREFER_CANVAS%3Dfalse%3B%20L_NO_TOUCH%3Dfalse%3B%20L_DISABLE_3D%3Dfalse%3B%3C/script%3E%0A%20%20%20%20%3Cscript%20src%3D%22https%3A//cdn.jsdelivr.net/npm/leaflet%401.4.0/dist/leaflet.js%22%3E%3C/script%3E%0A%20%20%20%20%3Cscript%20src%3D%22https%3A//code.jquery.com/jquery-1.12.4.min.js%22%3E%3C/script%3E%0A%20%20%20%20%3Cscript%20src%3D%22https%3A//maxcdn.bootstrapcdn.com/bootstrap/3.2.0/js/bootstrap.min.js%22%3E%3C/script%3E%0A%20%20%20%20%3Cscript%20src%3D%22https%3A//cdnjs.cloudflare.com/ajax/libs/Leaflet.awesome-markers/2.0.2/leaflet.awesome-markers.js%22%3E%3C/script%3E%0A%20%20%20%20%3Clink%20rel%3D%22stylesheet%22%20href%3D%22https%3A//cdn.jsdelivr.net/npm/leaflet%401.4.0/dist/leaflet.css%22/%3E%0A%20%20%20%20%3Clink%20rel%3D%22stylesheet%22%20href%3D%22https%3A//maxcdn.bootstrapcdn.com/bootstrap/3.2.0/css/bootstrap.min.css%22/%3E%0A%20%20%20%20%3Clink%20rel%3D%22stylesheet%22%20href%3D%22https%3A//maxcdn.bootstrapcdn.com/bootstrap/3.2.0/css/bootstrap-theme.min.css%22/%3E%0A%20%20%20%20%3Clink%20rel%3D%22stylesheet%22%20href%3D%22https%3A//maxcdn.bootstrapcdn.com/font-awesome/4.6.3/css/font-awesome.min.css%22/%3E%0A%20%20%20%20%3Clink%20rel%3D%22stylesheet%22%20href%3D%22https%3A//cdnjs.cloudflare.com/ajax/libs/Leaflet.awesome-markers/2.0.2/leaflet.awesome-markers.css%22/%3E%0A%20%20%20%20%3Clink%20rel%3D%22stylesheet%22%20href%3D%22https%3A//rawcdn.githack.com/python-visualization/folium/master/folium/templates/leaflet.awesome.rotate.css%22/%3E%0A%20%20%20%20%3Cstyle%3Ehtml%2C%20body%20%7Bwidth%3A%20100%25%3Bheight%3A%20100%25%3Bmargin%3A%200%3Bpadding%3A%200%3B%7D%3C/style%3E%0A%20%20%20%20%3Cstyle%3E%23map%20%7Bposition%3Aabsolute%3Btop%3A0%3Bbottom%3A0%3Bright%3A0%3Bleft%3A0%3B%7D%3C/style%3E%0A%20%20%20%20%0A%20%20%20%20%3Cmeta%20name%3D%22viewport%22%20content%3D%22width%3Ddevice-width%2C%0A%20%20%20%20%20%20%20%20initial-scale%3D1.0%2C%20maximum-scale%3D1.0%2C%20user-scalable%3Dno%22%20/%3E%0A%20%20%20%20%3Cstyle%3E%23map_8fbd4eafe1f9488586c295d410c27a65%20%7B%0A%20%20%20%20%20%20%20%20position%3A%20relative%3B%0A%20%20%20%20%20%20%20%20width%3A%20100.0%25%3B%0A%20%20%20%20%20%20%20%20height%3A%20100.0%25%3B%0A%20%20%20%20%20%20%20%20left%3A%200.0%25%3B%0A%20%20%20%20%20%20%20%20top%3A%200.0%25%3B%0A%20%20%20%20%20%20%20%20%7D%0A%20%20%20%20%3C/style%3E%0A%3C/head%3E%0A%3Cbody%3E%20%20%20%20%0A%20%20%20%20%0A%20%20%20%20%3Cdiv%20class%3D%22folium-map%22%20id%3D%22map_8fbd4eafe1f9488586c295d410c27a65%22%20%3E%3C/div%3E%0A%3C/body%3E%0A%3Cscript%3E%20%20%20%20%0A%20%20%20%20%0A%20%20%20%20%0A%20%20%20%20%20%20%20%20var%20bounds%20%3D%20null%3B%0A%20%20%20%20%0A%0A%20%20%20%20var%20map_8fbd4eafe1f9488586c295d410c27a65%20%3D%20L.map%28%0A%20%20%20%20%20%20%20%20%27map_8fbd4eafe1f9488586c295d410c27a65%27%2C%20%7B%0A%20%20%20%20%20%20%20%20center%3A%20%5B36.18%2C%20-2.42%5D%2C%0A%20%20%20%20%20%20%20%20zoom%3A%2013%2C%0A%20%20%20%20%20%20%20%20maxBounds%3A%20bounds%2C%0A%20%20%20%20%20%20%20%20layers%3A%20%5B%5D%2C%0A%20%20%20%20%20%20%20%20worldCopyJump%3A%20false%2C%0A%20%20%20%20%20%20%20%20crs%3A%20L.CRS.EPSG3857%2C%0A%20%20%20%20%20%20%20%20zoomControl%3A%20true%2C%0A%20%20%20%20%20%20%20%20%7D%29%3B%0A%0A%0A%20%20%20%20%0A%20%20%20%20var%20tile_layer_37798435c9334649a7c50d11291c6ff7%20%3D%20L.tileLayer%28%0A%20%20%20%20%20%20%20%20%27https%3A//%7Bs%7D.tile.openstreetmap.org/%7Bz%7D/%7Bx%7D/%7By%7D.png%27%2C%0A%20%20%20%20%20%20%20%20%7B%0A%20%20%20%20%20%20%20%20%22attribution%22%3A%20null%2C%0A%20%20%20%20%20%20%20%20%22detectRetina%22%3A%20false%2C%0A%20%20%20%20%20%20%20%20%22maxNativeZoom%22%3A%2018%2C%0A%20%20%20%20%20%20%20%20%22maxZoom%22%3A%2018%2C%0A%20%20%20%20%20%20%20%20%22minZoom%22%3A%200%2C%0A%20%20%20%20%20%20%20%20%22noWrap%22%3A%20false%2C%0A%20%20%20%20%20%20%20%20%22opacity%22%3A%201%2C%0A%20%20%20%20%20%20%20%20%22subdomains%22%3A%20%22abc%22%2C%0A%20%20%20%20%20%20%20%20%22tms%22%3A%20false%0A%7D%29.addTo%28map_8fbd4eafe1f9488586c295d410c27a65%29%3B%0A%20%20%20%20var%20tile_layer_29d69713dbbf40828994fff27a89f978%20%3D%20L.tileLayer%28%0A%20%20%20%20%20%20%20%20%27https%3A//earthengine.googleapis.com/v1alpha/projects/earthengine-legacy/maps/e8d1911cdf9f7adf4b25d2cd158cccd9-0a831324114b82cf42560ab938e68729/tiles/%7Bz%7D/%7Bx%7D/%7By%7D%27%2C%0A%20%20%20%20%20%20%20%20%7B%0A%20%20%20%20%20%20%20%20%22attribution%22%3A%20%22Google%20Earth%20Engine%22%2C%0A%20%20%20%20%20%20%20%20%22detectRetina%22%3A%20false%2C%0A%20%20%20%20%20%20%20%20%22maxNativeZoom%22%3A%2018%2C%0A%20%20%20%20%20%20%20%20%22maxZoom%22%3A%2018%2C%0A%20%20%20%20%20%20%20%20%22minZoom%22%3A%200%2C%0A%20%20%20%20%20%20%20%20%22noWrap%22%3A%20false%2C%0A%20%20%20%20%20%20%20%20%22opacity%22%3A%201%2C%0A%20%20%20%20%20%20%20%20%22subdomains%22%3A%20%22abc%22%2C%0A%20%20%20%20%20%20%20%20%22tms%22%3A%20false%0A%7D%29.addTo%28map_8fbd4eafe1f9488586c295d410c27a65%29%3B%0A%3C/script%3E onload=\"this.contentDocument.open();this.contentDocument.write(    decodeURIComponent(this.getAttribute('data-html')));this.contentDocument.close();\" allowfullscreen webkitallowfullscreen mozallowfullscreen></iframe></div></div>"
            ],
            "text/plain": [
              "<folium.folium.Map at 0x7f05f83cce10>"
            ]
          },
          "metadata": {
            "tags": []
          },
          "execution_count": 88
        }
      ]
    },
    {
      "cell_type": "code",
      "metadata": {
        "colab": {
          "base_uri": "https://localhost:8080/"
        },
        "id": "8009gmPUO8QH",
        "outputId": "d3cbd284-416e-4fa2-bf48-7b6c4f72442b"
      },
      "source": [
        "original_image_path = \"./drive/MyDrive/tif\"\n",
        "!rm -rf original_image_path\n",
        "!mkdir original_image_path\n",
        "\n",
        "i = 1\n",
        "for image in images:\n",
        "  task = ee.batch.Export.image.toDrive(\n",
        "    image = image.imagen.select([\"vis-red\", \"vis-green\", \"vis-blue\"]),\n",
        "    description = (\"imagen\" + str(i)),\n",
        "    folder = 'tif',\n",
        "    region = image.region.getInfo()['coordinates'],\n",
        "    scale = 10,\n",
        "    fileFormat = 'GeoTIFF'\n",
        "  )\n",
        "\n",
        "  task.start()\n",
        "\n",
        "  # Block until the task completes.\n",
        "  print('Running image ' + str(i) + ' export to Google Drive...')\n",
        "  import time\n",
        "  while task.active():\n",
        "      time.sleep(30)\n",
        "\n",
        "  # Error condition\n",
        "  if task.status()['state'] != 'COMPLETED':\n",
        "      print('Error with image ' + str(i) + ' export.')\n",
        "  else:\n",
        "      print('Image ' + str(i) + ' export completed.')\n",
        "\n",
        "  i += 1"
      ],
      "id": "8009gmPUO8QH",
      "execution_count": null,
      "outputs": [
        {
          "output_type": "stream",
          "text": [
            "Running image 1 export to Google Drive...\n",
            "Image 1 export completed.\n",
            "Running image 2 export to Google Drive...\n",
            "Image 2 export completed.\n"
          ],
          "name": "stdout"
        }
      ]
    },
    {
      "cell_type": "code",
      "metadata": {
        "id": "r_71grOjVhuP"
      },
      "source": [
        "new_image_path = \"./drive/MyDrive/jpg\"\n",
        "#os.rmdir(new_image_path)\n",
        "#os.mkdir(new_image_path)"
      ],
      "id": "r_71grOjVhuP",
      "execution_count": null,
      "outputs": []
    },
    {
      "cell_type": "code",
      "metadata": {
        "colab": {
          "base_uri": "https://localhost:8080/"
        },
        "id": "SZqzhL2Fm1KZ",
        "outputId": "d17e0483-5db0-48e2-883c-323e4da08161"
      },
      "source": [
        "import cv2\n",
        "from PIL import Image\n",
        "\n",
        "for r, d, f in os.walk(original_image_path, topdown=False):\n",
        "    for i in f:\n",
        "      filename, file_extension = os.path.splitext(i)\n",
        "      if file_extension == '.tif':\n",
        "        im = Image.open(original_image_path + '/' + i)\n",
        "        print(\"Converting into jpeg the image %s\" % i)\n",
        "        im.thumbnail(im.size)\n",
        "        i = i.replace('.tif', '.jpg')\n",
        "        im.save(new_image_path + '/' + i, \"JPEG\", quality=100)"
      ],
      "id": "SZqzhL2Fm1KZ",
      "execution_count": null,
      "outputs": [
        {
          "output_type": "stream",
          "text": [
            "Converting into jpeg the image imagen1.tif\n",
            "Converting into jpeg the image imagen2.tif\n"
          ],
          "name": "stdout"
        }
      ]
    },
    {
      "cell_type": "code",
      "metadata": {
        "colab": {
          "base_uri": "https://localhost:8080/"
        },
        "id": "Ajg28mGPnY55",
        "outputId": "d2a17234-8c96-4c02-9207-08042fc62019"
      },
      "source": [
        "import numpy as np\n",
        "\n",
        "IMG_HEIGHT = 224\n",
        "IMG_WIDTH = 224\n",
        "\n",
        "def predictionTif():\n",
        "  predicciones = []\n",
        "  probs = []\n",
        "\n",
        "  for r, d, f in os.walk(new_image_path, topdown=False):\n",
        "    for i in f:\n",
        "      filename, file_extension = os.path.splitext(i)\n",
        "      image_path = (new_image_path + \"/\" + i)\n",
        "      img = cv2.imread(image_path, cv2.COLOR_BGR2RGB)\n",
        "      img = cv2.resize(img, (IMG_HEIGHT, IMG_WIDTH), interpolation = cv2.INTER_AREA)\n",
        "      img = np.array(img)\n",
        "      img = img.astype('float32')\n",
        "      img /= 255 \n",
        "\n",
        "      x = []\n",
        "      x.append(img)\n",
        "\n",
        "      x_array = np.array(x, np.float32)\n",
        "\n",
        "      pred = model.predict(x_array)\n",
        "\n",
        "      predicciones.append(np.argmax(pred[0]))\n",
        "      probs.append(pred[0][np.argmax(pred[0])])\n",
        "\n",
        "  return predicciones, probs\n",
        "\n",
        "[predicciones, probs] = predictionTif()\n",
        "print(predicciones)\n",
        "print(probs)"
      ],
      "id": "Ajg28mGPnY55",
      "execution_count": null,
      "outputs": [
        {
          "output_type": "stream",
          "text": [
            "[2, 27]\n",
            "[0.9976713, 0.9992994]\n"
          ],
          "name": "stdout"
        }
      ]
    },
    {
      "cell_type": "code",
      "metadata": {
        "id": "HxnS1fa5451a"
      },
      "source": [
        "imagesWithPrediction = []\n",
        "i = 0\n",
        "\n",
        "for img in images:\n",
        "  imagesWithPrediction.append(img.imagen.addBands(ee.Image(int(predicciones[i])).clip(img.region)))\n",
        "  i += 1"
      ],
      "id": "HxnS1fa5451a",
      "execution_count": null,
      "outputs": []
    },
    {
      "cell_type": "code",
      "metadata": {
        "colab": {
          "base_uri": "https://localhost:8080/",
          "height": 685
        },
        "id": "0PLnSCDOvYVv",
        "outputId": "d9df9e4b-d18e-4c82-e100-73385e033486"
      },
      "source": [
        "# Use folium to visualize the input imagery and the predictions.\n",
        "map = folium.Map(location=[Latitude, Longitude], zoom_start=5)\n",
        "\n",
        "landCoverVis = {\n",
        "    'bands': ['constant'], \n",
        "    'min': 0, \n",
        "    'max': 27, \n",
        "    'palette': ['696969', '006400', '808000', '483d8b', \n",
        "                'b22222', '008b8b', '9acd32', '00008b', \n",
        "                '7f007f', '8fbc8f', 'b03060', 'ff0000',\n",
        "                'ff8c00', 'ffd700', '7cfc00', '8a2be2',\n",
        "                '00ffff', '00bfff', '0000ff', 'da70d6',\n",
        "                'ff00ff', '1e90ff', 'f0e68c', 'add8e6',\n",
        "                'ff1493', 'ffa07a', '98fb98', 'ffc0cb']\n",
        "}\n",
        "\n",
        "\n",
        "i = 0\n",
        "for img in imagesWithPrediction:\n",
        "  mapid = img.getMapId({'bands': ['vis-red', 'vis-green', 'vis-blue'], 'min': 0, 'max': 255, 'gamma': 1.4})\n",
        "  folium.TileLayer(\n",
        "      tiles=mapid['tile_fetcher'].url_format,\n",
        "      attr='Google Earth Engine',\n",
        "      overlay=True,\n",
        "      name=class_name[predicciones[i]],\n",
        "    ).add_to(map)\n",
        "\n",
        "  prediction = img.getMapId(landCoverVis)\n",
        "  folium.TileLayer(\n",
        "      tiles=prediction['tile_fetcher'].url_format,\n",
        "      attr='Google Earth Engine',\n",
        "      overlay=True,\n",
        "      name=class_name[predicciones[i]],\n",
        "    ).add_to(map)\n",
        "\n",
        "  i += 1\n",
        "\n",
        "map.add_child(folium.LayerControl())\n",
        "map"
      ],
      "id": "0PLnSCDOvYVv",
      "execution_count": null,
      "outputs": [
        {
          "output_type": "execute_result",
          "data": {
            "text/html": [
              "<div style=\"width:100%;\"><div style=\"position:relative;width:100%;height:0;padding-bottom:60%;\"><span style=\"color:#565656\">Make this Notebook Trusted to load map: File -> Trust Notebook</span><iframe src=\"about:blank\" style=\"position:absolute;width:100%;height:100%;left:0;top:0;border:none !important;\" data-html=%3C%21DOCTYPE%20html%3E%0A%3Chead%3E%20%20%20%20%0A%20%20%20%20%3Cmeta%20http-equiv%3D%22content-type%22%20content%3D%22text/html%3B%20charset%3DUTF-8%22%20/%3E%0A%20%20%20%20%3Cscript%3EL_PREFER_CANVAS%3Dfalse%3B%20L_NO_TOUCH%3Dfalse%3B%20L_DISABLE_3D%3Dfalse%3B%3C/script%3E%0A%20%20%20%20%3Cscript%20src%3D%22https%3A//cdn.jsdelivr.net/npm/leaflet%401.4.0/dist/leaflet.js%22%3E%3C/script%3E%0A%20%20%20%20%3Cscript%20src%3D%22https%3A//code.jquery.com/jquery-1.12.4.min.js%22%3E%3C/script%3E%0A%20%20%20%20%3Cscript%20src%3D%22https%3A//maxcdn.bootstrapcdn.com/bootstrap/3.2.0/js/bootstrap.min.js%22%3E%3C/script%3E%0A%20%20%20%20%3Cscript%20src%3D%22https%3A//cdnjs.cloudflare.com/ajax/libs/Leaflet.awesome-markers/2.0.2/leaflet.awesome-markers.js%22%3E%3C/script%3E%0A%20%20%20%20%3Clink%20rel%3D%22stylesheet%22%20href%3D%22https%3A//cdn.jsdelivr.net/npm/leaflet%401.4.0/dist/leaflet.css%22/%3E%0A%20%20%20%20%3Clink%20rel%3D%22stylesheet%22%20href%3D%22https%3A//maxcdn.bootstrapcdn.com/bootstrap/3.2.0/css/bootstrap.min.css%22/%3E%0A%20%20%20%20%3Clink%20rel%3D%22stylesheet%22%20href%3D%22https%3A//maxcdn.bootstrapcdn.com/bootstrap/3.2.0/css/bootstrap-theme.min.css%22/%3E%0A%20%20%20%20%3Clink%20rel%3D%22stylesheet%22%20href%3D%22https%3A//maxcdn.bootstrapcdn.com/font-awesome/4.6.3/css/font-awesome.min.css%22/%3E%0A%20%20%20%20%3Clink%20rel%3D%22stylesheet%22%20href%3D%22https%3A//cdnjs.cloudflare.com/ajax/libs/Leaflet.awesome-markers/2.0.2/leaflet.awesome-markers.css%22/%3E%0A%20%20%20%20%3Clink%20rel%3D%22stylesheet%22%20href%3D%22https%3A//rawcdn.githack.com/python-visualization/folium/master/folium/templates/leaflet.awesome.rotate.css%22/%3E%0A%20%20%20%20%3Cstyle%3Ehtml%2C%20body%20%7Bwidth%3A%20100%25%3Bheight%3A%20100%25%3Bmargin%3A%200%3Bpadding%3A%200%3B%7D%3C/style%3E%0A%20%20%20%20%3Cstyle%3E%23map%20%7Bposition%3Aabsolute%3Btop%3A0%3Bbottom%3A0%3Bright%3A0%3Bleft%3A0%3B%7D%3C/style%3E%0A%20%20%20%20%0A%20%20%20%20%3Cmeta%20name%3D%22viewport%22%20content%3D%22width%3Ddevice-width%2C%0A%20%20%20%20%20%20%20%20initial-scale%3D1.0%2C%20maximum-scale%3D1.0%2C%20user-scalable%3Dno%22%20/%3E%0A%20%20%20%20%3Cstyle%3E%23map_3ad96afc15b144238472dc4c4b598a45%20%7B%0A%20%20%20%20%20%20%20%20position%3A%20relative%3B%0A%20%20%20%20%20%20%20%20width%3A%20100.0%25%3B%0A%20%20%20%20%20%20%20%20height%3A%20100.0%25%3B%0A%20%20%20%20%20%20%20%20left%3A%200.0%25%3B%0A%20%20%20%20%20%20%20%20top%3A%200.0%25%3B%0A%20%20%20%20%20%20%20%20%7D%0A%20%20%20%20%3C/style%3E%0A%3C/head%3E%0A%3Cbody%3E%20%20%20%20%0A%20%20%20%20%0A%20%20%20%20%3Cdiv%20class%3D%22folium-map%22%20id%3D%22map_3ad96afc15b144238472dc4c4b598a45%22%20%3E%3C/div%3E%0A%3C/body%3E%0A%3Cscript%3E%20%20%20%20%0A%20%20%20%20%0A%20%20%20%20%0A%20%20%20%20%20%20%20%20var%20bounds%20%3D%20null%3B%0A%20%20%20%20%0A%0A%20%20%20%20var%20map_3ad96afc15b144238472dc4c4b598a45%20%3D%20L.map%28%0A%20%20%20%20%20%20%20%20%27map_3ad96afc15b144238472dc4c4b598a45%27%2C%20%7B%0A%20%20%20%20%20%20%20%20center%3A%20%5B36.18%2C%20-2.42%5D%2C%0A%20%20%20%20%20%20%20%20zoom%3A%205%2C%0A%20%20%20%20%20%20%20%20maxBounds%3A%20bounds%2C%0A%20%20%20%20%20%20%20%20layers%3A%20%5B%5D%2C%0A%20%20%20%20%20%20%20%20worldCopyJump%3A%20false%2C%0A%20%20%20%20%20%20%20%20crs%3A%20L.CRS.EPSG3857%2C%0A%20%20%20%20%20%20%20%20zoomControl%3A%20true%2C%0A%20%20%20%20%20%20%20%20%7D%29%3B%0A%0A%0A%20%20%20%20%0A%20%20%20%20var%20tile_layer_05ef6c98abe44801878c68a35ee66fa5%20%3D%20L.tileLayer%28%0A%20%20%20%20%20%20%20%20%27https%3A//%7Bs%7D.tile.openstreetmap.org/%7Bz%7D/%7Bx%7D/%7By%7D.png%27%2C%0A%20%20%20%20%20%20%20%20%7B%0A%20%20%20%20%20%20%20%20%22attribution%22%3A%20null%2C%0A%20%20%20%20%20%20%20%20%22detectRetina%22%3A%20false%2C%0A%20%20%20%20%20%20%20%20%22maxNativeZoom%22%3A%2018%2C%0A%20%20%20%20%20%20%20%20%22maxZoom%22%3A%2018%2C%0A%20%20%20%20%20%20%20%20%22minZoom%22%3A%200%2C%0A%20%20%20%20%20%20%20%20%22noWrap%22%3A%20false%2C%0A%20%20%20%20%20%20%20%20%22opacity%22%3A%201%2C%0A%20%20%20%20%20%20%20%20%22subdomains%22%3A%20%22abc%22%2C%0A%20%20%20%20%20%20%20%20%22tms%22%3A%20false%0A%7D%29.addTo%28map_3ad96afc15b144238472dc4c4b598a45%29%3B%0A%20%20%20%20var%20tile_layer_91f240c202f440c38ed35180b9efa491%20%3D%20L.tileLayer%28%0A%20%20%20%20%20%20%20%20%27https%3A//earthengine.googleapis.com/v1alpha/projects/earthengine-legacy/maps/9f4c85b995a4e6f977bcf6f822145475-5779c3da3a0615e7ded68f9fe1ce24af/tiles/%7Bz%7D/%7Bx%7D/%7By%7D%27%2C%0A%20%20%20%20%20%20%20%20%7B%0A%20%20%20%20%20%20%20%20%22attribution%22%3A%20%22Google%20Earth%20Engine%22%2C%0A%20%20%20%20%20%20%20%20%22detectRetina%22%3A%20false%2C%0A%20%20%20%20%20%20%20%20%22maxNativeZoom%22%3A%2018%2C%0A%20%20%20%20%20%20%20%20%22maxZoom%22%3A%2018%2C%0A%20%20%20%20%20%20%20%20%22minZoom%22%3A%200%2C%0A%20%20%20%20%20%20%20%20%22noWrap%22%3A%20false%2C%0A%20%20%20%20%20%20%20%20%22opacity%22%3A%201%2C%0A%20%20%20%20%20%20%20%20%22subdomains%22%3A%20%22abc%22%2C%0A%20%20%20%20%20%20%20%20%22tms%22%3A%20false%0A%7D%29.addTo%28map_3ad96afc15b144238472dc4c4b598a45%29%3B%0A%20%20%20%20var%20tile_layer_77e77b9fc74c4061b9404f4b6c23bbd6%20%3D%20L.tileLayer%28%0A%20%20%20%20%20%20%20%20%27https%3A//earthengine.googleapis.com/v1alpha/projects/earthengine-legacy/maps/a40c45612b03ec4a9759d781576d1264-cffe71fe89353548ef24af5826534b4d/tiles/%7Bz%7D/%7Bx%7D/%7By%7D%27%2C%0A%20%20%20%20%20%20%20%20%7B%0A%20%20%20%20%20%20%20%20%22attribution%22%3A%20%22Google%20Earth%20Engine%22%2C%0A%20%20%20%20%20%20%20%20%22detectRetina%22%3A%20false%2C%0A%20%20%20%20%20%20%20%20%22maxNativeZoom%22%3A%2018%2C%0A%20%20%20%20%20%20%20%20%22maxZoom%22%3A%2018%2C%0A%20%20%20%20%20%20%20%20%22minZoom%22%3A%200%2C%0A%20%20%20%20%20%20%20%20%22noWrap%22%3A%20false%2C%0A%20%20%20%20%20%20%20%20%22opacity%22%3A%201%2C%0A%20%20%20%20%20%20%20%20%22subdomains%22%3A%20%22abc%22%2C%0A%20%20%20%20%20%20%20%20%22tms%22%3A%20false%0A%7D%29.addTo%28map_3ad96afc15b144238472dc4c4b598a45%29%3B%0A%20%20%20%20var%20tile_layer_268768c9362f46cc8905704d84542961%20%3D%20L.tileLayer%28%0A%20%20%20%20%20%20%20%20%27https%3A//earthengine.googleapis.com/v1alpha/projects/earthengine-legacy/maps/655d106a668a65c80356d3ffe1fc31b5-acea63b2af5c049a7ca03c7f4db4934a/tiles/%7Bz%7D/%7Bx%7D/%7By%7D%27%2C%0A%20%20%20%20%20%20%20%20%7B%0A%20%20%20%20%20%20%20%20%22attribution%22%3A%20%22Google%20Earth%20Engine%22%2C%0A%20%20%20%20%20%20%20%20%22detectRetina%22%3A%20false%2C%0A%20%20%20%20%20%20%20%20%22maxNativeZoom%22%3A%2018%2C%0A%20%20%20%20%20%20%20%20%22maxZoom%22%3A%2018%2C%0A%20%20%20%20%20%20%20%20%22minZoom%22%3A%200%2C%0A%20%20%20%20%20%20%20%20%22noWrap%22%3A%20false%2C%0A%20%20%20%20%20%20%20%20%22opacity%22%3A%201%2C%0A%20%20%20%20%20%20%20%20%22subdomains%22%3A%20%22abc%22%2C%0A%20%20%20%20%20%20%20%20%22tms%22%3A%20false%0A%7D%29.addTo%28map_3ad96afc15b144238472dc4c4b598a45%29%3B%0A%20%20%20%20var%20tile_layer_aaabbf74de314dd6ac09149afa07521f%20%3D%20L.tileLayer%28%0A%20%20%20%20%20%20%20%20%27https%3A//earthengine.googleapis.com/v1alpha/projects/earthengine-legacy/maps/2c98d7fc6a1afcc174a038fff5f2c15c-d22e78de4eb602ca2cf667ff701267cd/tiles/%7Bz%7D/%7Bx%7D/%7By%7D%27%2C%0A%20%20%20%20%20%20%20%20%7B%0A%20%20%20%20%20%20%20%20%22attribution%22%3A%20%22Google%20Earth%20Engine%22%2C%0A%20%20%20%20%20%20%20%20%22detectRetina%22%3A%20false%2C%0A%20%20%20%20%20%20%20%20%22maxNativeZoom%22%3A%2018%2C%0A%20%20%20%20%20%20%20%20%22maxZoom%22%3A%2018%2C%0A%20%20%20%20%20%20%20%20%22minZoom%22%3A%200%2C%0A%20%20%20%20%20%20%20%20%22noWrap%22%3A%20false%2C%0A%20%20%20%20%20%20%20%20%22opacity%22%3A%201%2C%0A%20%20%20%20%20%20%20%20%22subdomains%22%3A%20%22abc%22%2C%0A%20%20%20%20%20%20%20%20%22tms%22%3A%20false%0A%7D%29.addTo%28map_3ad96afc15b144238472dc4c4b598a45%29%3B%0A%20%20%20%20%0A%20%20%20%20%20%20%20%20%20%20%20%20var%20layer_control_7ae317ccc83845c9ac597299c717ebf8%20%3D%20%7B%0A%20%20%20%20%20%20%20%20%20%20%20%20%20%20%20%20base_layers%20%3A%20%7B%20%22openstreetmap%22%20%3A%20tile_layer_05ef6c98abe44801878c68a35ee66fa5%2C%20%7D%2C%0A%20%20%20%20%20%20%20%20%20%20%20%20%20%20%20%20overlays%20%3A%20%7B%20%22Continental_Water%22%20%3A%20tile_layer_77e77b9fc74c4061b9404f4b6c23bbd6%2C%22Urban%22%20%3A%20tile_layer_aaabbf74de314dd6ac09149afa07521f%2C%20%7D%0A%20%20%20%20%20%20%20%20%20%20%20%20%20%20%20%20%7D%3B%0A%20%20%20%20%20%20%20%20%20%20%20%20L.control.layers%28%0A%20%20%20%20%20%20%20%20%20%20%20%20%20%20%20%20layer_control_7ae317ccc83845c9ac597299c717ebf8.base_layers%2C%0A%20%20%20%20%20%20%20%20%20%20%20%20%20%20%20%20layer_control_7ae317ccc83845c9ac597299c717ebf8.overlays%2C%0A%20%20%20%20%20%20%20%20%20%20%20%20%20%20%20%20%7Bposition%3A%20%27topright%27%2C%0A%20%20%20%20%20%20%20%20%20%20%20%20%20%20%20%20%20collapsed%3A%20true%2C%0A%20%20%20%20%20%20%20%20%20%20%20%20%20%20%20%20%20autoZIndex%3A%20true%0A%20%20%20%20%20%20%20%20%20%20%20%20%20%20%20%20%7D%29.addTo%28map_3ad96afc15b144238472dc4c4b598a45%29%3B%0A%20%20%20%20%20%20%20%20%20%20%20%20%0A%20%20%20%20%20%20%20%20%0A%3C/script%3E onload=\"this.contentDocument.open();this.contentDocument.write(    decodeURIComponent(this.getAttribute('data-html')));this.contentDocument.close();\" allowfullscreen webkitallowfullscreen mozallowfullscreen></iframe></div></div>"
            ],
            "text/plain": [
              "<folium.folium.Map at 0x7f350a6ba910>"
            ]
          },
          "metadata": {
            "tags": []
          },
          "execution_count": 143
        }
      ]
    }
  ]
}