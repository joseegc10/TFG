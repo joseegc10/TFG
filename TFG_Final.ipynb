{
 "cells": [
  {
   "cell_type": "code",
   "execution_count": 1,
   "metadata": {},
   "outputs": [],
   "source": [
    "import os\n",
    "os.environ[\"CUDA_DEVICE_ORDER\"]=\"PCI_BUS_ID\"\n",
    "os.environ[\"CUDA_VISIBLE_DEVICES\"]=\"4\""
   ]
  },
  {
   "cell_type": "code",
   "execution_count": 2,
   "metadata": {
    "id": "exFJkZt8GdEU"
   },
   "outputs": [],
   "source": [
    "from __future__ import absolute_import, division, print_function, unicode_literals\n",
    "try:\n",
    "  # %tensorflow_version only exists in Colab.\n",
    "  %tensorflow_version 2.x\n",
    "except Exception:\n",
    "  pass\n",
    "import tensorflow as tf\n",
    "from tensorflow.keras.models import Sequential\n",
    "from tensorflow.keras.layers import Dense, Conv2D, Flatten, Dropout, MaxPooling2D\n",
    "from tensorflow.keras.preprocessing.image import ImageDataGenerator\n",
    "\n",
    "import os\n",
    "import numpy as np\n",
    "import matplotlib.pyplot as plt\n",
    "from tensorflow.keras import backend as K\n",
    "from sklearn.model_selection import KFold"
   ]
  },
  {
   "cell_type": "code",
   "execution_count": 3,
   "metadata": {
    "id": "DTt1rNQsGoc0"
   },
   "outputs": [],
   "source": [
    "batch_size = 128\n",
    "epochs = 1\n",
    "IMG_HEIGHT = 224\n",
    "IMG_WIDTH = 224\n",
    "total_train = 22400\n",
    "epochs_fine = 10\n",
    "num_folds = 5\n",
    "IMG_SHAPE = (IMG_HEIGHT, IMG_WIDTH, 3)\n",
    "K.clear_session()"
   ]
  },
  {
   "cell_type": "code",
   "execution_count": 4,
   "metadata": {},
   "outputs": [],
   "source": [
    "# Leemos datos y etiquetas de memoria\n",
    "x_array = np.load('datos.npy')\n",
    "y_array = np.load('etiquetas.npy')"
   ]
  },
  {
   "cell_type": "code",
   "execution_count": 5,
   "metadata": {
    "scrolled": true
   },
   "outputs": [
    {
     "name": "stdout",
     "output_type": "stream",
     "text": [
      "------------------------------------------------------------------\n",
      "Ejecutando fold 1\n",
      "Ejecutando transfer learning\n",
      "175/175 [==============================] - 64s 239ms/step - loss: 2.2395 - accuracy: 0.4197\n",
      "Ejecutando fine tuning\n",
      "Epoch 1/10\n",
      "175/175 [==============================] - 158s 737ms/step - loss: 3.3336 - accuracy: 0.4088\n",
      "Epoch 2/10\n",
      "175/175 [==============================] - 122s 697ms/step - loss: 0.4239 - accuracy: 0.8929\n",
      "Epoch 3/10\n",
      "175/175 [==============================] - 122s 695ms/step - loss: 0.2214 - accuracy: 0.9406\n",
      "Epoch 4/10\n",
      "175/175 [==============================] - 123s 702ms/step - loss: 0.1402 - accuracy: 0.9591\n",
      "Epoch 5/10\n",
      "175/175 [==============================] - 121s 691ms/step - loss: 0.1001 - accuracy: 0.9750\n",
      "Epoch 6/10\n",
      "175/175 [==============================] - 118s 676ms/step - loss: 0.0692 - accuracy: 0.9825\n",
      "Epoch 7/10\n",
      "175/175 [==============================] - 120s 685ms/step - loss: 0.0479 - accuracy: 0.9908\n",
      "Epoch 8/10\n",
      "175/175 [==============================] - 119s 677ms/step - loss: 0.0361 - accuracy: 0.9945\n",
      "Epoch 9/10\n",
      "175/175 [==============================] - 118s 676ms/step - loss: 0.0277 - accuracy: 0.9955\n",
      "Epoch 10/10\n",
      "175/175 [==============================] - 117s 666ms/step - loss: 0.0218 - accuracy: 0.9965\n",
      "fold=1: perdida=0.09778350591659546 - accuracy=96.78571224212646%\n",
      "------------------------------------------------------------------\n",
      "Ejecutando fold 2\n",
      "Ejecutando transfer learning\n",
      "175/175 [==============================] - 44s 178ms/step - loss: 2.2826 - accuracy: 0.4095\n",
      "Ejecutando fine tuning\n",
      "Epoch 1/10\n",
      "175/175 [==============================] - 150s 698ms/step - loss: 3.6601 - accuracy: 0.3789\n",
      "Epoch 2/10\n",
      "175/175 [==============================] - 120s 683ms/step - loss: 0.4577 - accuracy: 0.8845\n",
      "Epoch 3/10\n",
      "175/175 [==============================] - 117s 670ms/step - loss: 0.2345 - accuracy: 0.9367\n",
      "Epoch 4/10\n",
      "175/175 [==============================] - 114s 652ms/step - loss: 0.1541 - accuracy: 0.9579\n",
      "Epoch 5/10\n",
      "175/175 [==============================] - 115s 660ms/step - loss: 0.1059 - accuracy: 0.9712\n",
      "Epoch 6/10\n",
      "175/175 [==============================] - 115s 658ms/step - loss: 0.0739 - accuracy: 0.9819\n",
      "Epoch 7/10\n",
      "175/175 [==============================] - 116s 661ms/step - loss: 0.0557 - accuracy: 0.9866\n",
      "Epoch 8/10\n",
      "175/175 [==============================] - 114s 652ms/step - loss: 0.0414 - accuracy: 0.9919\n",
      "Epoch 9/10\n",
      "175/175 [==============================] - 114s 652ms/step - loss: 0.0309 - accuracy: 0.9950\n",
      "Epoch 10/10\n",
      "175/175 [==============================] - 116s 661ms/step - loss: 0.0254 - accuracy: 0.9963\n",
      "fold=2: perdida=0.08569685369729996 - accuracy=97.03571200370789%\n",
      "------------------------------------------------------------------\n",
      "Ejecutando fold 3\n",
      "Ejecutando transfer learning\n",
      "175/175 [==============================] - 42s 173ms/step - loss: 2.2348 - accuracy: 0.4388\n",
      "Ejecutando fine tuning\n",
      "Epoch 1/10\n",
      "175/175 [==============================] - 145s 691ms/step - loss: 3.6037 - accuracy: 0.3834\n",
      "Epoch 2/10\n",
      "175/175 [==============================] - 118s 672ms/step - loss: 0.4554 - accuracy: 0.8847\n",
      "Epoch 3/10\n",
      "175/175 [==============================] - 116s 664ms/step - loss: 0.2460 - accuracy: 0.9329\n",
      "Epoch 4/10\n",
      "175/175 [==============================] - 116s 660ms/step - loss: 0.1540 - accuracy: 0.9578\n",
      "Epoch 5/10\n",
      "175/175 [==============================] - 114s 650ms/step - loss: 0.1111 - accuracy: 0.9692\n",
      "Epoch 6/10\n",
      "175/175 [==============================] - 114s 650ms/step - loss: 0.0752 - accuracy: 0.9827\n",
      "Epoch 7/10\n",
      "175/175 [==============================] - 116s 661ms/step - loss: 0.0588 - accuracy: 0.9866\n",
      "Epoch 8/10\n",
      "175/175 [==============================] - 114s 654ms/step - loss: 0.0441 - accuracy: 0.9914\n",
      "Epoch 9/10\n",
      "175/175 [==============================] - 114s 651ms/step - loss: 0.0353 - accuracy: 0.9934\n",
      "Epoch 10/10\n",
      "175/175 [==============================] - 114s 649ms/step - loss: 0.0266 - accuracy: 0.9958\n",
      "fold=3: perdida=0.08476965129375458 - accuracy=97.0714271068573%\n",
      "------------------------------------------------------------------\n",
      "Ejecutando fold 4\n",
      "Ejecutando transfer learning\n",
      "175/175 [==============================] - 41s 175ms/step - loss: 2.2221 - accuracy: 0.4254\n",
      "Ejecutando fine tuning\n",
      "Epoch 1/10\n",
      "175/175 [==============================] - 136s 663ms/step - loss: 3.3864 - accuracy: 0.4135\n",
      "Epoch 2/10\n",
      "175/175 [==============================] - 115s 660ms/step - loss: 0.4323 - accuracy: 0.8914\n",
      "Epoch 3/10\n",
      "175/175 [==============================] - 116s 661ms/step - loss: 0.2343 - accuracy: 0.9348\n",
      "Epoch 4/10\n",
      "175/175 [==============================] - 114s 651ms/step - loss: 0.1512 - accuracy: 0.9566\n",
      "Epoch 5/10\n",
      "175/175 [==============================] - 115s 659ms/step - loss: 0.0983 - accuracy: 0.9739\n",
      "Epoch 6/10\n",
      "175/175 [==============================] - 114s 651ms/step - loss: 0.0762 - accuracy: 0.9808\n",
      "Epoch 7/10\n",
      "175/175 [==============================] - 113s 647ms/step - loss: 0.0545 - accuracy: 0.9882\n",
      "Epoch 8/10\n",
      "175/175 [==============================] - 113s 648ms/step - loss: 0.0408 - accuracy: 0.9929\n",
      "Epoch 9/10\n",
      "175/175 [==============================] - 113s 647ms/step - loss: 0.0297 - accuracy: 0.9961\n",
      "Epoch 10/10\n",
      "175/175 [==============================] - 115s 655ms/step - loss: 0.0253 - accuracy: 0.9962\n",
      "fold=4: perdida=0.09240531921386719 - accuracy=97.17857241630554%\n",
      "------------------------------------------------------------------\n",
      "Ejecutando fold 5\n",
      "Ejecutando transfer learning\n",
      "175/175 [==============================] - 42s 175ms/step - loss: 2.2349 - accuracy: 0.4223\n",
      "Ejecutando fine tuning\n",
      "Epoch 1/10\n",
      "175/175 [==============================] - 138s 664ms/step - loss: 3.5470 - accuracy: 0.3894\n",
      "Epoch 2/10\n",
      "175/175 [==============================] - 116s 663ms/step - loss: 0.4425 - accuracy: 0.8887\n",
      "Epoch 3/10\n",
      "175/175 [==============================] - 115s 656ms/step - loss: 0.2447 - accuracy: 0.9339\n",
      "Epoch 4/10\n",
      "175/175 [==============================] - 115s 655ms/step - loss: 0.1559 - accuracy: 0.9569\n",
      "Epoch 5/10\n",
      "175/175 [==============================] - 114s 651ms/step - loss: 0.1057 - accuracy: 0.9720\n",
      "Epoch 6/10\n",
      "175/175 [==============================] - 114s 649ms/step - loss: 0.0763 - accuracy: 0.9809\n",
      "Epoch 7/10\n",
      "175/175 [==============================] - 114s 651ms/step - loss: 0.0574 - accuracy: 0.9879\n",
      "Epoch 8/10\n",
      "175/175 [==============================] - 116s 663ms/step - loss: 0.0422 - accuracy: 0.9917\n",
      "Epoch 9/10\n",
      "175/175 [==============================] - 115s 656ms/step - loss: 0.0320 - accuracy: 0.9946\n",
      "Epoch 10/10\n",
      "175/175 [==============================] - 113s 648ms/step - loss: 0.0239 - accuracy: 0.9967\n",
      "fold=5: perdida=0.09146340936422348 - accuracy=97.23165035247803%\n"
     ]
    }
   ],
   "source": [
    "# Creamos la clase que nos va a dividir los datos\n",
    "kfold = KFold(n_splits=num_folds, shuffle=True)\n",
    "\n",
    "# Variable para almacenar el número de fold por el que vamos\n",
    "num_fold = 1\n",
    "\n",
    "# Variables donde almacenar la accuracy y la pérdida de cada fold\n",
    "accuracies = []\n",
    "losses = []\n",
    "\n",
    "# Realizamos la validacion cruzada\n",
    "for train, test in kfold.split(x_array, y_array): \n",
    "    # Obtenemos datos y etiquetas de entrenamiento\n",
    "    datos_train = x_array[train]\n",
    "    etiquetas_train = y_array[train]\n",
    "    \n",
    "    # Obtenemos datos y etiquetas de test\n",
    "    datos_test = x_array[test]\n",
    "    etiquetas_test = y_array[test]\n",
    "\n",
    "    # Create el modelo base\n",
    "    base_model = tf.keras.applications.DenseNet201(input_shape=IMG_SHAPE,\n",
    "                                                   include_top=False,\n",
    "                                                   weights='imagenet')\n",
    "    base_model.trainable = False\n",
    "    \n",
    "    global_average_layer = tf.keras.layers.GlobalAveragePooling2D()\n",
    "    prediction_layer = tf.keras.layers.Dense(28, activation='softmax')\n",
    "\n",
    "    model = tf.keras.Sequential([\n",
    "      base_model,\n",
    "      global_average_layer,\n",
    "      prediction_layer\n",
    "    ])\n",
    "    \n",
    "    model.compile(optimizer=tf.keras.optimizers.Adam(),\n",
    "              loss=tf.keras.losses.SparseCategoricalCrossentropy(from_logits=True),\n",
    "              metrics=['accuracy'])\n",
    "\n",
    "    print('------------------------------------------------------------------')\n",
    "    print(f'Ejecutando fold {num_fold}')\n",
    "    \n",
    "    print(f'Ejecutando transfer learning')\n",
    "    \n",
    "    history = model.fit(\n",
    "        x=datos_train, \n",
    "        y=etiquetas_train, \n",
    "        batch_size=batch_size,\n",
    "        epochs=epochs)\n",
    "    \n",
    "    base_model.trainable = True\n",
    "\n",
    "    model.compile(\n",
    "        optimizer=tf.keras.optimizers.Adam(1e-5),  \n",
    "        loss=tf.keras.losses.SparseCategoricalCrossentropy(from_logits=True,),\n",
    "        metrics=['accuracy']\n",
    "    )\n",
    "    \n",
    "    print(f'Ejecutando fine tuning')\n",
    "    \n",
    "    history = model.fit(\n",
    "        x=datos_train, \n",
    "        y=etiquetas_train, \n",
    "        batch_size=batch_size,\n",
    "        epochs=epochs_fine)\n",
    "\n",
    "    # Evaluamos el modelo con los datos de test\n",
    "    scores = model.evaluate(datos_test, etiquetas_test, verbose=0)\n",
    "    \n",
    "    print(f'fold={num_fold}: perdida={scores[0]} - accuracy={scores[1]*100}%')\n",
    "    \n",
    "    accuracies.append(scores[1] * 100)\n",
    "    losses.append(scores[0])\n",
    "    \n",
    "    K.clear_session()\n",
    "\n",
    "    # Pasamos el siguiente fold\n",
    "    num_fold = num_fold + 1"
   ]
  },
  {
   "cell_type": "code",
   "execution_count": 6,
   "metadata": {},
   "outputs": [
    {
     "name": "stdout",
     "output_type": "stream",
     "text": [
      "-------------------------------------------------------------------\n",
      "Fold 1: Loss=0.09778350591659546 - Accuracy=96.78571224212646%\n",
      "-------------------------------------------------------------------\n",
      "Fold 2: Loss=0.08569685369729996 - Accuracy=97.03571200370789%\n",
      "-------------------------------------------------------------------\n",
      "Fold 3: Loss=0.08476965129375458 - Accuracy=97.0714271068573%\n",
      "-------------------------------------------------------------------\n",
      "Fold 4: Loss=0.09240531921386719 - Accuracy=97.17857241630554%\n",
      "-------------------------------------------------------------------\n",
      "Fold 5: Loss=0.09146340936422348 - Accuracy=97.23165035247803%\n",
      "-------------------------------------------------------------------\n",
      "Final: Loss=0.09042374789714813 - Accuracy=97.06061482429504% (+- 0.15458048455358253)\n"
     ]
    }
   ],
   "source": [
    "# Mostramos los resultados\n",
    "for i in range(len(accuracies)):\n",
    "    print('-------------------------------------------------------------------')\n",
    "    print(f'Fold {i+1}: Loss={losses[i]} - Accuracy={accuracies[i]}%')\n",
    "    \n",
    "print('-------------------------------------------------------------------')\n",
    "print(f'Final: Loss={np.mean(losses)} - Accuracy={np.mean(accuracies)}% (+- {np.std(accuracies)})')"
   ]
  },
  {
   "cell_type": "code",
   "execution_count": null,
   "metadata": {},
   "outputs": [],
   "source": [
    "model_name = 'modeloFinalReal.h5'"
   ]
  },
  {
   "cell_type": "code",
   "execution_count": 16,
   "metadata": {},
   "outputs": [],
   "source": [
    "model.save(model_name)"
   ]
  },
  {
   "cell_type": "code",
   "execution_count": 6,
   "metadata": {},
   "outputs": [],
   "source": [
    "new_model = tf.keras.models.load_model(model_name)"
   ]
  },
  {
   "cell_type": "code",
   "execution_count": 18,
   "metadata": {},
   "outputs": [],
   "source": [
    "pred = new_model.predict(x_array)"
   ]
  },
  {
   "cell_type": "code",
   "execution_count": 27,
   "metadata": {},
   "outputs": [
    {
     "data": {
      "text/plain": [
       "array([3.52496536e-05, 4.26581028e-05, 4.83288964e-10, 1.47379169e-05,\n",
       "       2.89587064e-07, 1.05237192e-03, 3.27298039e-04, 1.22638352e-01,\n",
       "       2.08580673e-06, 4.47910224e-06, 8.05806984e-12, 1.22808362e-03,\n",
       "       8.22458730e-07, 1.09876972e-04, 8.63652458e-05, 8.70499253e-01,\n",
       "       4.27346735e-04, 1.09955067e-06, 4.80066582e-08, 1.93857122e-05,\n",
       "       1.19256205e-08, 5.21227194e-04, 2.02319073e-03, 6.92204367e-06,\n",
       "       1.17451680e-04, 6.79058721e-04, 1.11104591e-05, 1.51252694e-04],\n",
       "      dtype=float32)"
      ]
     },
     "execution_count": 27,
     "metadata": {},
     "output_type": "execute_result"
    }
   ],
   "source": [
    "pred[0]"
   ]
  },
  {
   "cell_type": "code",
   "execution_count": 36,
   "metadata": {},
   "outputs": [
    {
     "data": {
      "text/plain": [
       "True"
      ]
     },
     "execution_count": 36,
     "metadata": {},
     "output_type": "execute_result"
    }
   ],
   "source": [
    "num = 5\n",
    "np.argmax(pred[num]) == y_array[num]"
   ]
  },
  {
   "cell_type": "code",
   "execution_count": 20,
   "metadata": {},
   "outputs": [
    {
     "name": "stdout",
     "output_type": "stream",
     "text": [
      "Score: loss of 0.09432641416788101; accuracy of 96.910160779953%\n"
     ]
    }
   ],
   "source": [
    "new_scores = new_model.evaluate(datos_test, etiquetas_test, verbose=0)\n",
    "print(f'Score: {new_model.metrics_names[0]} of {new_scores[0]}; {new_model.metrics_names[1]} of {new_scores[1]*100}%')"
   ]
  }
 ],
 "metadata": {
  "colab": {
   "collapsed_sections": [],
   "name": "TFG2.ipynb",
   "provenance": []
  },
  "kernelspec": {
   "display_name": "Python 3",
   "language": "python",
   "name": "python3"
  },
  "language_info": {
   "codemirror_mode": {
    "name": "ipython",
    "version": 3
   },
   "file_extension": ".py",
   "mimetype": "text/x-python",
   "name": "python",
   "nbconvert_exporter": "python",
   "pygments_lexer": "ipython3",
   "version": "3.7.10"
  }
 },
 "nbformat": 4,
 "nbformat_minor": 1
}
