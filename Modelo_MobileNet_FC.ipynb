{
 "cells": [
  {
   "cell_type": "code",
   "execution_count": 1,
   "metadata": {},
   "outputs": [],
   "source": [
    "import os\n",
    "os.environ[\"CUDA_DEVICE_ORDER\"]=\"PCI_BUS_ID\"\n",
    "os.environ[\"CUDA_VISIBLE_DEVICES\"]=\"1\""
   ]
  },
  {
   "cell_type": "code",
   "execution_count": 2,
   "metadata": {
    "id": "exFJkZt8GdEU"
   },
   "outputs": [],
   "source": [
    "from __future__ import absolute_import, division, print_function, unicode_literals\n",
    "try:\n",
    "  # %tensorflow_version only exists in Colab.\n",
    "  %tensorflow_version 2.x\n",
    "except Exception:\n",
    "  pass\n",
    "import tensorflow as tf\n",
    "from tensorflow.keras.models import Sequential\n",
    "from tensorflow.keras.layers import Dense, Conv2D, Flatten, Dropout, MaxPooling2D\n",
    "from tensorflow.keras.preprocessing.image import ImageDataGenerator\n",
    "\n",
    "import os\n",
    "import numpy as np\n",
    "import matplotlib.pyplot as plt\n",
    "import cv2\n",
    "from tensorflow.keras import backend as K\n",
    "from sklearn.model_selection import KFold"
   ]
  },
  {
   "cell_type": "code",
   "execution_count": 3,
   "metadata": {
    "id": "DTt1rNQsGoc0"
   },
   "outputs": [],
   "source": [
    "batch_size = 128\n",
    "epochs = 10\n",
    "IMG_HEIGHT = 224\n",
    "IMG_WIDTH = 224\n",
    "total_train = 22400\n",
    "#epochs_fine = 10\n",
    "num_folds = 5\n",
    "IMG_SHAPE = (IMG_HEIGHT, IMG_WIDTH, 3)\n",
    "K.clear_session()"
   ]
  },
  {
   "cell_type": "code",
   "execution_count": 4,
   "metadata": {},
   "outputs": [],
   "source": [
    "# Leemos datos y etiquetas de memoria\n",
    "x_array = np.load('datos.npy')\n",
    "y_array = np.load('etiquetas.npy')"
   ]
  },
  {
   "cell_type": "code",
   "execution_count": 5,
   "metadata": {
    "scrolled": true
   },
   "outputs": [
    {
     "name": "stdout",
     "output_type": "stream",
     "text": [
      "------------------------------------------------------------------\n",
      "Ejecutando fold 1\n",
      "Epoch 1/10\n",
      "175/175 [==============================] - 124s 131ms/step - loss: 2.0477 - accuracy: 0.4396\n",
      "Epoch 2/10\n",
      "175/175 [==============================] - 23s 130ms/step - loss: 1.0087 - accuracy: 0.7104\n",
      "Epoch 3/10\n",
      "175/175 [==============================] - 25s 143ms/step - loss: 0.8394 - accuracy: 0.7565\n",
      "Epoch 4/10\n",
      "175/175 [==============================] - 25s 142ms/step - loss: 0.7420 - accuracy: 0.7880\n",
      "Epoch 5/10\n",
      "175/175 [==============================] - 23s 129ms/step - loss: 0.6796 - accuracy: 0.7994\n",
      "Epoch 6/10\n",
      "175/175 [==============================] - 25s 143ms/step - loss: 0.6372 - accuracy: 0.8125\n",
      "Epoch 7/10\n",
      "175/175 [==============================] - 26s 149ms/step - loss: 0.5942 - accuracy: 0.8211\n",
      "Epoch 8/10\n",
      "175/175 [==============================] - 23s 130ms/step - loss: 0.5648 - accuracy: 0.8339\n",
      "Epoch 9/10\n",
      "175/175 [==============================] - 24s 139ms/step - loss: 0.5348 - accuracy: 0.8418\n",
      "Epoch 10/10\n",
      "175/175 [==============================] - 22s 129ms/step - loss: 0.5159 - accuracy: 0.8461\n",
      "fold=1: perdida=0.5999035239219666 - accuracy=81.35714530944824%\n",
      "------------------------------------------------------------------\n",
      "Ejecutando fold 2\n",
      "Epoch 1/10\n",
      "175/175 [==============================] - 22s 111ms/step - loss: 2.0308 - accuracy: 0.4362\n",
      "Epoch 2/10\n",
      "175/175 [==============================] - 23s 132ms/step - loss: 1.0131 - accuracy: 0.7124\n",
      "Epoch 3/10\n",
      "175/175 [==============================] - 23s 129ms/step - loss: 0.8296 - accuracy: 0.7587\n",
      "Epoch 4/10\n",
      "175/175 [==============================] - 20s 114ms/step - loss: 0.7431 - accuracy: 0.7821\n",
      "Epoch 5/10\n",
      "175/175 [==============================] - 22s 123ms/step - loss: 0.6877 - accuracy: 0.7977\n",
      "Epoch 6/10\n",
      "175/175 [==============================] - 20s 111ms/step - loss: 0.6317 - accuracy: 0.8126\n",
      "Epoch 7/10\n",
      "175/175 [==============================] - 20s 115ms/step - loss: 0.6047 - accuracy: 0.8227\n",
      "Epoch 8/10\n",
      "175/175 [==============================] - 20s 114ms/step - loss: 0.5716 - accuracy: 0.8311\n",
      "Epoch 9/10\n",
      "175/175 [==============================] - 22s 128ms/step - loss: 0.5370 - accuracy: 0.8404\n",
      "Epoch 10/10\n",
      "175/175 [==============================] - 20s 112ms/step - loss: 0.5285 - accuracy: 0.8427\n",
      "fold=2: perdida=0.5771652460098267 - accuracy=82.41071701049805%\n",
      "------------------------------------------------------------------\n",
      "Ejecutando fold 3\n",
      "Epoch 1/10\n",
      "175/175 [==============================] - 22s 111ms/step - loss: 1.9955 - accuracy: 0.4412\n",
      "Epoch 2/10\n",
      "175/175 [==============================] - 20s 113ms/step - loss: 1.0132 - accuracy: 0.7133\n",
      "Epoch 3/10\n",
      "175/175 [==============================] - 20s 112ms/step - loss: 0.8210 - accuracy: 0.7635\n",
      "Epoch 4/10\n",
      "175/175 [==============================] - 22s 125ms/step - loss: 0.7518 - accuracy: 0.7829\n",
      "Epoch 5/10\n",
      "175/175 [==============================] - 20s 115ms/step - loss: 0.6638 - accuracy: 0.8039\n",
      "Epoch 6/10\n",
      "175/175 [==============================] - 20s 114ms/step - loss: 0.6213 - accuracy: 0.8166\n",
      "Epoch 7/10\n",
      "175/175 [==============================] - 20s 116ms/step - loss: 0.5946 - accuracy: 0.8233\n",
      "Epoch 8/10\n",
      "175/175 [==============================] - 21s 119ms/step - loss: 0.5559 - accuracy: 0.8357\n",
      "Epoch 9/10\n",
      "175/175 [==============================] - 21s 121ms/step - loss: 0.5271 - accuracy: 0.8404\n",
      "Epoch 10/10\n",
      "175/175 [==============================] - 22s 123ms/step - loss: 0.5158 - accuracy: 0.8455\n",
      "fold=3: perdida=0.6006560921669006 - accuracy=81.8928599357605%\n",
      "------------------------------------------------------------------\n",
      "Ejecutando fold 4\n",
      "Epoch 1/10\n",
      "175/175 [==============================] - 22s 110ms/step - loss: 2.0931 - accuracy: 0.4238\n",
      "Epoch 2/10\n",
      "175/175 [==============================] - 22s 125ms/step - loss: 0.9933 - accuracy: 0.7188\n",
      "Epoch 3/10\n",
      "175/175 [==============================] - 19s 111ms/step - loss: 0.8294 - accuracy: 0.7610\n",
      "Epoch 4/10\n",
      "175/175 [==============================] - 20s 113ms/step - loss: 0.7410 - accuracy: 0.7855\n",
      "Epoch 5/10\n",
      "175/175 [==============================] - 20s 115ms/step - loss: 0.6812 - accuracy: 0.7979\n",
      "Epoch 6/10\n",
      "175/175 [==============================] - 21s 118ms/step - loss: 0.6362 - accuracy: 0.8100\n",
      "Epoch 7/10\n",
      "175/175 [==============================] - 21s 118ms/step - loss: 0.5951 - accuracy: 0.8246\n",
      "Epoch 8/10\n",
      "175/175 [==============================] - 23s 131ms/step - loss: 0.5649 - accuracy: 0.8313\n",
      "Epoch 9/10\n",
      "175/175 [==============================] - 20s 112ms/step - loss: 0.5391 - accuracy: 0.8417\n",
      "Epoch 10/10\n",
      "175/175 [==============================] - 20s 113ms/step - loss: 0.5238 - accuracy: 0.8450\n",
      "fold=4: perdida=0.614635169506073 - accuracy=81.21428489685059%\n",
      "------------------------------------------------------------------\n",
      "Ejecutando fold 5\n",
      "Epoch 1/10\n",
      "175/175 [==============================] - 25s 111ms/step - loss: 1.9604 - accuracy: 0.4550\n",
      "Epoch 2/10\n",
      "175/175 [==============================] - 20s 114ms/step - loss: 0.9857 - accuracy: 0.7238\n",
      "Epoch 3/10\n",
      "175/175 [==============================] - 20s 113ms/step - loss: 0.8291 - accuracy: 0.7634\n",
      "Epoch 4/10\n",
      "175/175 [==============================] - 20s 116ms/step - loss: 0.7356 - accuracy: 0.7872\n",
      "Epoch 5/10\n",
      "175/175 [==============================] - 20s 114ms/step - loss: 0.6852 - accuracy: 0.7986\n",
      "Epoch 6/10\n",
      "175/175 [==============================] - 20s 113ms/step - loss: 0.6373 - accuracy: 0.8146\n",
      "Epoch 7/10\n",
      "175/175 [==============================] - 20s 112ms/step - loss: 0.6010 - accuracy: 0.8224\n",
      "Epoch 8/10\n",
      "175/175 [==============================] - 20s 116ms/step - loss: 0.5598 - accuracy: 0.8354\n",
      "Epoch 9/10\n",
      "175/175 [==============================] - 21s 118ms/step - loss: 0.5415 - accuracy: 0.8359\n",
      "Epoch 10/10\n",
      "175/175 [==============================] - 20s 117ms/step - loss: 0.5170 - accuracy: 0.8478\n",
      "fold=5: perdida=0.595603346824646 - accuracy=81.03232979774475%\n"
     ]
    }
   ],
   "source": [
    "# Creamos la clase que nos va a dividir los datos\n",
    "kfold = KFold(n_splits=num_folds, shuffle=True)\n",
    "\n",
    "# Variable para almacenar el número de fold por el que vamos\n",
    "num_fold = 1\n",
    "\n",
    "# Variables donde almacenar la accuracy y la pérdida de cada fold\n",
    "accuracies = []\n",
    "losses = []\n",
    "\n",
    "# Realizamos la validacion cruzada\n",
    "for train, test in kfold.split(x_array, y_array): \n",
    "    # Obtenemos datos y etiquetas de entrenamiento\n",
    "    datos_train = x_array[train]\n",
    "    etiquetas_train = y_array[train]\n",
    "    \n",
    "    # Obtenemos datos y etiquetas de test\n",
    "    datos_test = x_array[test]\n",
    "    etiquetas_test = y_array[test]\n",
    "\n",
    "    # Create el modelo base\n",
    "    base_model = tf.keras.applications.MobileNetV2(input_shape=IMG_SHAPE,\n",
    "                                                   include_top=False,\n",
    "                                                   weights='imagenet')\n",
    "    base_model.trainable = False\n",
    "    \n",
    "    global_average_layer = tf.keras.layers.GlobalAveragePooling2D()\n",
    "    prediction_layer = tf.keras.layers.Dense(28)\n",
    "\n",
    "    model = tf.keras.Sequential([\n",
    "      base_model,\n",
    "      global_average_layer,\n",
    "      prediction_layer\n",
    "    ])\n",
    "    \n",
    "    model.compile(optimizer=tf.keras.optimizers.Adam(),\n",
    "              loss=tf.keras.losses.SparseCategoricalCrossentropy(from_logits=True),\n",
    "              metrics=['accuracy'])\n",
    "\n",
    "    print('------------------------------------------------------------------')\n",
    "    print(f'Ejecutando fold {num_fold}')\n",
    "    \n",
    "    history = model.fit(\n",
    "        x=datos_train, \n",
    "        y=etiquetas_train, \n",
    "        batch_size=batch_size,\n",
    "        epochs=epochs)\n",
    "\n",
    "    # Evaluamos el modelo con los datos de test\n",
    "    scores = model.evaluate(datos_test, etiquetas_test, verbose=0)\n",
    "    \n",
    "    print(f'fold={num_fold}: perdida={scores[0]} - accuracy={scores[1]*100}%')\n",
    "    \n",
    "    accuracies.append(scores[1] * 100)\n",
    "    losses.append(scores[0])\n",
    "    \n",
    "    K.clear_session()\n",
    "\n",
    "    # Pasamos el siguiente fold\n",
    "    num_fold = num_fold + 1"
   ]
  },
  {
   "cell_type": "code",
   "execution_count": 6,
   "metadata": {},
   "outputs": [
    {
     "name": "stdout",
     "output_type": "stream",
     "text": [
      "-------------------------------------------------------------------\n",
      "Fold 1: Loss=0.5999035239219666 - Accuracy=81.35714530944824%\n",
      "-------------------------------------------------------------------\n",
      "Fold 2: Loss=0.5771652460098267 - Accuracy=82.41071701049805%\n",
      "-------------------------------------------------------------------\n",
      "Fold 3: Loss=0.6006560921669006 - Accuracy=81.8928599357605%\n",
      "-------------------------------------------------------------------\n",
      "Fold 4: Loss=0.614635169506073 - Accuracy=81.21428489685059%\n",
      "-------------------------------------------------------------------\n",
      "Fold 5: Loss=0.595603346824646 - Accuracy=81.03232979774475%\n",
      "-------------------------------------------------------------------\n",
      "Final: Loss=0.5975926756858826 - Accuracy=81.58146739006042% (+- 0.5042451239184648)\n"
     ]
    }
   ],
   "source": [
    "# Mostramos los resultados\n",
    "for i in range(len(accuracies)):\n",
    "    print('-------------------------------------------------------------------')\n",
    "    print(f'Fold {i+1}: Loss={losses[i]} - Accuracy={accuracies[i]}%')\n",
    "    \n",
    "print('-------------------------------------------------------------------')\n",
    "print(f'Final: Loss={np.mean(losses)} - Accuracy={np.mean(accuracies)}% (+- {np.std(accuracies)})')"
   ]
  },
  {
   "cell_type": "code",
   "execution_count": null,
   "metadata": {},
   "outputs": [],
   "source": [
    "model_name = 'modeloFinalTransferLearning.h5'"
   ]
  },
  {
   "cell_type": "code",
   "execution_count": 16,
   "metadata": {},
   "outputs": [],
   "source": [
    "model.save(model_name)"
   ]
  },
  {
   "cell_type": "code",
   "execution_count": 6,
   "metadata": {},
   "outputs": [],
   "source": [
    "new_model = tf.keras.models.load_model(model_name)"
   ]
  },
  {
   "cell_type": "code",
   "execution_count": 18,
   "metadata": {},
   "outputs": [],
   "source": [
    "pred = new_model.predict(x_array)"
   ]
  },
  {
   "cell_type": "code",
   "execution_count": 27,
   "metadata": {},
   "outputs": [
    {
     "data": {
      "text/plain": [
       "array([3.52496536e-05, 4.26581028e-05, 4.83288964e-10, 1.47379169e-05,\n",
       "       2.89587064e-07, 1.05237192e-03, 3.27298039e-04, 1.22638352e-01,\n",
       "       2.08580673e-06, 4.47910224e-06, 8.05806984e-12, 1.22808362e-03,\n",
       "       8.22458730e-07, 1.09876972e-04, 8.63652458e-05, 8.70499253e-01,\n",
       "       4.27346735e-04, 1.09955067e-06, 4.80066582e-08, 1.93857122e-05,\n",
       "       1.19256205e-08, 5.21227194e-04, 2.02319073e-03, 6.92204367e-06,\n",
       "       1.17451680e-04, 6.79058721e-04, 1.11104591e-05, 1.51252694e-04],\n",
       "      dtype=float32)"
      ]
     },
     "execution_count": 27,
     "metadata": {},
     "output_type": "execute_result"
    }
   ],
   "source": [
    "pred[0]"
   ]
  },
  {
   "cell_type": "code",
   "execution_count": 36,
   "metadata": {},
   "outputs": [
    {
     "data": {
      "text/plain": [
       "True"
      ]
     },
     "execution_count": 36,
     "metadata": {},
     "output_type": "execute_result"
    }
   ],
   "source": [
    "num = 5\n",
    "np.argmax(pred[num]) == y_array[num]"
   ]
  },
  {
   "cell_type": "code",
   "execution_count": 20,
   "metadata": {},
   "outputs": [
    {
     "name": "stdout",
     "output_type": "stream",
     "text": [
      "Score: loss of 0.09432641416788101; accuracy of 96.910160779953%\n"
     ]
    }
   ],
   "source": [
    "new_scores = new_model.evaluate(datos_test, etiquetas_test, verbose=0)\n",
    "print(f'Score: {new_model.metrics_names[0]} of {new_scores[0]}; {new_model.metrics_names[1]} of {new_scores[1]*100}%')"
   ]
  }
 ],
 "metadata": {
  "colab": {
   "collapsed_sections": [],
   "name": "TFG2.ipynb",
   "provenance": []
  },
  "kernelspec": {
   "display_name": "Python 3",
   "language": "python",
   "name": "python3"
  },
  "language_info": {
   "codemirror_mode": {
    "name": "ipython",
    "version": 3
   },
   "file_extension": ".py",
   "mimetype": "text/x-python",
   "name": "python",
   "nbconvert_exporter": "python",
   "pygments_lexer": "ipython3",
   "version": "3.8.5"
  }
 },
 "nbformat": 4,
 "nbformat_minor": 1
}
