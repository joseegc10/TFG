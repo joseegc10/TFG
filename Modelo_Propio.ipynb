{
 "cells": [
  {
   "cell_type": "code",
   "execution_count": 1,
   "metadata": {},
   "outputs": [],
   "source": [
    "import os\n",
    "os.environ[\"CUDA_DEVICE_ORDER\"]=\"PCI_BUS_ID\"\n",
    "os.environ[\"CUDA_VISIBLE_DEVICES\"]=\"1\""
   ]
  },
  {
   "cell_type": "code",
   "execution_count": 2,
   "metadata": {
    "id": "exFJkZt8GdEU"
   },
   "outputs": [],
   "source": [
    "from __future__ import absolute_import, division, print_function, unicode_literals\n",
    "try:\n",
    "  # %tensorflow_version only exists in Colab.\n",
    "  %tensorflow_version 2.x\n",
    "except Exception:\n",
    "  pass\n",
    "import tensorflow as tf\n",
    "from tensorflow.keras.models import Sequential\n",
    "from tensorflow.keras.layers import Dense, Conv2D, Flatten, Dropout, MaxPooling2D\n",
    "from tensorflow.keras.preprocessing.image import ImageDataGenerator\n",
    "\n",
    "import os\n",
    "import numpy as np\n",
    "import matplotlib.pyplot as plt\n",
    "import cv2\n",
    "from tensorflow.keras import backend as K\n",
    "from sklearn.model_selection import KFold"
   ]
  },
  {
   "cell_type": "code",
   "execution_count": 3,
   "metadata": {
    "id": "DTt1rNQsGoc0"
   },
   "outputs": [],
   "source": [
    "batch_size = 128\n",
    "epochs = 10\n",
    "IMG_HEIGHT = 224\n",
    "IMG_WIDTH = 224\n",
    "total_train = 22400\n",
    "#epochs_fine = 10\n",
    "num_folds = 5\n",
    "IMG_SHAPE = (IMG_HEIGHT, IMG_WIDTH, 3)\n",
    "K.clear_session()"
   ]
  },
  {
   "cell_type": "code",
   "execution_count": 4,
   "metadata": {},
   "outputs": [],
   "source": [
    "# Leemos datos y etiquetas de memoria\n",
    "x_array = np.load('datos.npy')\n",
    "y_array = np.load('etiquetas.npy')"
   ]
  },
  {
   "cell_type": "code",
   "execution_count": 5,
   "metadata": {
    "scrolled": true
   },
   "outputs": [
    {
     "name": "stdout",
     "output_type": "stream",
     "text": [
      "------------------------------------------------------------------\n",
      "Ejecutando fold 1\n",
      "Epoch 1/10\n",
      "175/175 [==============================] - 263s 86ms/step - loss: 2.1610 - accuracy: 0.3315\n",
      "Epoch 2/10\n",
      "175/175 [==============================] - 15s 85ms/step - loss: 0.8603 - accuracy: 0.7044\n",
      "Epoch 3/10\n",
      "175/175 [==============================] - 14s 82ms/step - loss: 0.7066 - accuracy: 0.7598\n",
      "Epoch 4/10\n",
      "175/175 [==============================] - 14s 80ms/step - loss: 0.6311 - accuracy: 0.7791\n",
      "Epoch 5/10\n",
      "175/175 [==============================] - 14s 82ms/step - loss: 0.5464 - accuracy: 0.8098\n",
      "Epoch 6/10\n",
      "175/175 [==============================] - 14s 80ms/step - loss: 0.4629 - accuracy: 0.8406\n",
      "Epoch 7/10\n",
      "175/175 [==============================] - 14s 78ms/step - loss: 0.4393 - accuracy: 0.8486\n",
      "Epoch 8/10\n",
      "175/175 [==============================] - 14s 80ms/step - loss: 0.3736 - accuracy: 0.8746\n",
      "Epoch 9/10\n",
      "175/175 [==============================] - 14s 80ms/step - loss: 0.3028 - accuracy: 0.8974\n",
      "Epoch 10/10\n",
      "175/175 [==============================] - 14s 78ms/step - loss: 0.3544 - accuracy: 0.8833\n",
      "fold=1: perdida=0.4470352232456207 - accuracy=86.01785898208618%\n",
      "------------------------------------------------------------------\n",
      "Ejecutando fold 2\n",
      "Epoch 1/10\n",
      "175/175 [==============================] - 15s 72ms/step - loss: 2.1146 - accuracy: 0.3622\n",
      "Epoch 2/10\n",
      "175/175 [==============================] - 13s 72ms/step - loss: 0.8526 - accuracy: 0.7084\n",
      "Epoch 3/10\n",
      "175/175 [==============================] - 14s 77ms/step - loss: 0.6795 - accuracy: 0.7677\n",
      "Epoch 4/10\n",
      "175/175 [==============================] - 14s 77ms/step - loss: 0.5691 - accuracy: 0.8070\n",
      "Epoch 5/10\n",
      "175/175 [==============================] - 14s 79ms/step - loss: 0.5034 - accuracy: 0.8311\n",
      "Epoch 6/10\n",
      "175/175 [==============================] - 14s 78ms/step - loss: 0.5700 - accuracy: 0.8086\n",
      "Epoch 7/10\n",
      "175/175 [==============================] - 13s 74ms/step - loss: 0.3794 - accuracy: 0.8746\n",
      "Epoch 8/10\n",
      "175/175 [==============================] - 13s 74ms/step - loss: 0.3426 - accuracy: 0.8873\n",
      "Epoch 9/10\n",
      "175/175 [==============================] - 13s 75ms/step - loss: 0.2784 - accuracy: 0.9100\n",
      "Epoch 10/10\n",
      "175/175 [==============================] - 14s 79ms/step - loss: 0.2333 - accuracy: 0.9228\n",
      "fold=2: perdida=0.4138098657131195 - accuracy=86.89285516738892%\n",
      "------------------------------------------------------------------\n",
      "Ejecutando fold 3\n",
      "Epoch 1/10\n",
      "175/175 [==============================] - 14s 75ms/step - loss: 2.5994 - accuracy: 0.2505\n",
      "Epoch 2/10\n",
      "175/175 [==============================] - 13s 75ms/step - loss: 0.9968 - accuracy: 0.6608\n",
      "Epoch 3/10\n",
      "175/175 [==============================] - 13s 76ms/step - loss: 0.8773 - accuracy: 0.7017\n",
      "Epoch 4/10\n",
      "175/175 [==============================] - 14s 79ms/step - loss: 0.7083 - accuracy: 0.7559\n",
      "Epoch 5/10\n",
      "175/175 [==============================] - 13s 77ms/step - loss: 0.6440 - accuracy: 0.7808\n",
      "Epoch 6/10\n",
      "175/175 [==============================] - 14s 78ms/step - loss: 0.5750 - accuracy: 0.8034\n",
      "Epoch 7/10\n",
      "175/175 [==============================] - 14s 80ms/step - loss: 0.5699 - accuracy: 0.8038\n",
      "Epoch 8/10\n",
      "175/175 [==============================] - 14s 80ms/step - loss: 0.5123 - accuracy: 0.8241\n",
      "Epoch 9/10\n",
      "175/175 [==============================] - 14s 78ms/step - loss: 0.4607 - accuracy: 0.8467\n",
      "Epoch 10/10\n",
      "175/175 [==============================] - 14s 77ms/step - loss: 0.4170 - accuracy: 0.8601\n",
      "fold=3: perdida=0.5591713190078735 - accuracy=80.78571557998657%\n",
      "------------------------------------------------------------------\n",
      "Ejecutando fold 4\n",
      "Epoch 1/10\n",
      "175/175 [==============================] - 14s 78ms/step - loss: 2.1595 - accuracy: 0.3312\n",
      "Epoch 2/10\n",
      "175/175 [==============================] - 13s 76ms/step - loss: 0.9151 - accuracy: 0.6826\n",
      "Epoch 3/10\n",
      "175/175 [==============================] - 13s 76ms/step - loss: 0.7634 - accuracy: 0.7341\n",
      "Epoch 4/10\n",
      "175/175 [==============================] - 13s 77ms/step - loss: 0.6489 - accuracy: 0.7722\n",
      "Epoch 5/10\n",
      "175/175 [==============================] - 13s 77ms/step - loss: 0.5684 - accuracy: 0.8042\n",
      "Epoch 6/10\n",
      "175/175 [==============================] - 14s 79ms/step - loss: 0.4871 - accuracy: 0.8366\n",
      "Epoch 7/10\n",
      "175/175 [==============================] - 14s 80ms/step - loss: 0.4231 - accuracy: 0.8574\n",
      "Epoch 8/10\n",
      "175/175 [==============================] - 14s 80ms/step - loss: 0.3758 - accuracy: 0.8730\n",
      "Epoch 9/10\n",
      "175/175 [==============================] - 14s 79ms/step - loss: 0.3584 - accuracy: 0.8815\n",
      "Epoch 10/10\n",
      "175/175 [==============================] - 14s 78ms/step - loss: 0.3560 - accuracy: 0.8768\n",
      "fold=4: perdida=0.6393643617630005 - accuracy=80.67857027053833%\n",
      "------------------------------------------------------------------\n",
      "Ejecutando fold 5\n",
      "Epoch 1/10\n",
      "175/175 [==============================] - 14s 75ms/step - loss: 2.1996 - accuracy: 0.3309\n",
      "Epoch 2/10\n",
      "175/175 [==============================] - 13s 76ms/step - loss: 0.9563 - accuracy: 0.6749\n",
      "Epoch 3/10\n",
      "175/175 [==============================] - 14s 79ms/step - loss: 0.7907 - accuracy: 0.7281\n",
      "Epoch 4/10\n",
      "175/175 [==============================] - 14s 78ms/step - loss: 0.6774 - accuracy: 0.7688\n",
      "Epoch 5/10\n",
      "175/175 [==============================] - 14s 77ms/step - loss: 0.6407 - accuracy: 0.7763\n",
      "Epoch 6/10\n",
      "175/175 [==============================] - 14s 78ms/step - loss: 0.6211 - accuracy: 0.7856\n",
      "Epoch 7/10\n",
      "175/175 [==============================] - 14s 80ms/step - loss: 0.5698 - accuracy: 0.8054\n",
      "Epoch 8/10\n",
      "175/175 [==============================] - 14s 81ms/step - loss: 0.5078 - accuracy: 0.8272\n",
      "Epoch 9/10\n",
      "175/175 [==============================] - 14s 80ms/step - loss: 0.4896 - accuracy: 0.8333\n",
      "Epoch 10/10\n",
      "175/175 [==============================] - 14s 80ms/step - loss: 0.4019 - accuracy: 0.8610\n",
      "fold=5: perdida=0.5047323107719421 - accuracy=82.9433798789978%\n"
     ]
    }
   ],
   "source": [
    "# Creamos la clase que nos va a dividir los datos\n",
    "kfold = KFold(n_splits=num_folds, shuffle=True)\n",
    "\n",
    "# Variable para almacenar el número de fold por el que vamos\n",
    "num_fold = 1\n",
    "\n",
    "# Variables donde almacenar la accuracy y la pérdida de cada fold\n",
    "accuracies = []\n",
    "losses = []\n",
    "\n",
    "# Realizamos la validacion cruzada\n",
    "for train, test in kfold.split(x_array, y_array): \n",
    "    # Obtenemos datos y etiquetas de entrenamiento\n",
    "    datos_train = x_array[train]\n",
    "    etiquetas_train = y_array[train]\n",
    "    \n",
    "    # Obtenemos datos y etiquetas de test\n",
    "    datos_test = x_array[test]\n",
    "    etiquetas_test = y_array[test]\n",
    "\n",
    "    model = Sequential([\n",
    "        Conv2D(16, 3, padding='same', activation='relu', input_shape=(IMG_HEIGHT, IMG_WIDTH , 3)),\n",
    "        MaxPooling2D(),\n",
    "        Conv2D(32, 3, padding='same', activation='relu'),\n",
    "        MaxPooling2D(),\n",
    "        Conv2D(64, 3, padding='same', activation='relu'),\n",
    "        MaxPooling2D(),\n",
    "        Flatten(),\n",
    "        Dense(512, activation='relu'),\n",
    "        Dense(28)\n",
    "    ])\n",
    "    \n",
    "    model.compile(optimizer=tf.keras.optimizers.Adam(),\n",
    "              loss=tf.keras.losses.SparseCategoricalCrossentropy(from_logits=True),\n",
    "              metrics=['accuracy'])\n",
    "\n",
    "    print('------------------------------------------------------------------')\n",
    "    print(f'Ejecutando fold {num_fold}')\n",
    "    \n",
    "    history = model.fit(\n",
    "        x=datos_train, \n",
    "        y=etiquetas_train, \n",
    "        batch_size=batch_size,\n",
    "        epochs=epochs)\n",
    "\n",
    "    # Evaluamos el modelo con los datos de test\n",
    "    scores = model.evaluate(datos_test, etiquetas_test, verbose=0)\n",
    "    \n",
    "    print(f'fold={num_fold}: perdida={scores[0]} - accuracy={scores[1]*100}%')\n",
    "    \n",
    "    accuracies.append(scores[1] * 100)\n",
    "    losses.append(scores[0])\n",
    "    \n",
    "    K.clear_session()\n",
    "\n",
    "    # Pasamos el siguiente fold\n",
    "    num_fold = num_fold + 1"
   ]
  },
  {
   "cell_type": "code",
   "execution_count": 6,
   "metadata": {},
   "outputs": [
    {
     "name": "stdout",
     "output_type": "stream",
     "text": [
      "-------------------------------------------------------------------\n",
      "Fold 1: Loss=0.4470352232456207 - Accuracy=86.01785898208618%\n",
      "-------------------------------------------------------------------\n",
      "Fold 2: Loss=0.4138098657131195 - Accuracy=86.89285516738892%\n",
      "-------------------------------------------------------------------\n",
      "Fold 3: Loss=0.5591713190078735 - Accuracy=80.78571557998657%\n",
      "-------------------------------------------------------------------\n",
      "Fold 4: Loss=0.6393643617630005 - Accuracy=80.67857027053833%\n",
      "-------------------------------------------------------------------\n",
      "Fold 5: Loss=0.5047323107719421 - Accuracy=82.9433798789978%\n",
      "-------------------------------------------------------------------\n",
      "Final: Loss=0.5128226161003113 - Accuracy=83.46367597579956% (+- 2.5877447500478654)\n"
     ]
    }
   ],
   "source": [
    "# Mostramos los resultados\n",
    "for i in range(len(accuracies)):\n",
    "    print('-------------------------------------------------------------------')\n",
    "    print(f'Fold {i+1}: Loss={losses[i]} - Accuracy={accuracies[i]}%')\n",
    "    \n",
    "print('-------------------------------------------------------------------')\n",
    "print(f'Final: Loss={np.mean(losses)} - Accuracy={np.mean(accuracies)}% (+- {np.std(accuracies)})')"
   ]
  },
  {
   "cell_type": "code",
   "execution_count": null,
   "metadata": {},
   "outputs": [],
   "source": [
    "model_name = 'modeloFinalInicio.h5'"
   ]
  },
  {
   "cell_type": "code",
   "execution_count": 16,
   "metadata": {},
   "outputs": [],
   "source": [
    "model.save(model_name)"
   ]
  },
  {
   "cell_type": "code",
   "execution_count": 6,
   "metadata": {},
   "outputs": [],
   "source": [
    "new_model = tf.keras.models.load_model(model_name)"
   ]
  },
  {
   "cell_type": "code",
   "execution_count": 18,
   "metadata": {},
   "outputs": [],
   "source": [
    "pred = new_model.predict(x_array)"
   ]
  },
  {
   "cell_type": "code",
   "execution_count": 27,
   "metadata": {},
   "outputs": [
    {
     "data": {
      "text/plain": [
       "array([3.52496536e-05, 4.26581028e-05, 4.83288964e-10, 1.47379169e-05,\n",
       "       2.89587064e-07, 1.05237192e-03, 3.27298039e-04, 1.22638352e-01,\n",
       "       2.08580673e-06, 4.47910224e-06, 8.05806984e-12, 1.22808362e-03,\n",
       "       8.22458730e-07, 1.09876972e-04, 8.63652458e-05, 8.70499253e-01,\n",
       "       4.27346735e-04, 1.09955067e-06, 4.80066582e-08, 1.93857122e-05,\n",
       "       1.19256205e-08, 5.21227194e-04, 2.02319073e-03, 6.92204367e-06,\n",
       "       1.17451680e-04, 6.79058721e-04, 1.11104591e-05, 1.51252694e-04],\n",
       "      dtype=float32)"
      ]
     },
     "execution_count": 27,
     "metadata": {},
     "output_type": "execute_result"
    }
   ],
   "source": [
    "pred[0]"
   ]
  },
  {
   "cell_type": "code",
   "execution_count": 36,
   "metadata": {},
   "outputs": [
    {
     "data": {
      "text/plain": [
       "True"
      ]
     },
     "execution_count": 36,
     "metadata": {},
     "output_type": "execute_result"
    }
   ],
   "source": [
    "num = 5\n",
    "np.argmax(pred[num]) == y_array[num]"
   ]
  },
  {
   "cell_type": "code",
   "execution_count": 20,
   "metadata": {},
   "outputs": [
    {
     "name": "stdout",
     "output_type": "stream",
     "text": [
      "Score: loss of 0.09432641416788101; accuracy of 96.910160779953%\n"
     ]
    }
   ],
   "source": [
    "new_scores = new_model.evaluate(datos_test, etiquetas_test, verbose=0)\n",
    "print(f'Score: {new_model.metrics_names[0]} of {new_scores[0]}; {new_model.metrics_names[1]} of {new_scores[1]*100}%')"
   ]
  }
 ],
 "metadata": {
  "colab": {
   "collapsed_sections": [],
   "name": "TFG2.ipynb",
   "provenance": []
  },
  "kernelspec": {
   "display_name": "Python 3",
   "language": "python",
   "name": "python3"
  },
  "language_info": {
   "codemirror_mode": {
    "name": "ipython",
    "version": 3
   },
   "file_extension": ".py",
   "mimetype": "text/x-python",
   "name": "python",
   "nbconvert_exporter": "python",
   "pygments_lexer": "ipython3",
   "version": "3.8.5"
  }
 },
 "nbformat": 4,
 "nbformat_minor": 1
}
