{
 "cells": [
  {
   "cell_type": "code",
   "execution_count": 1,
   "id": "unexpected-alliance",
   "metadata": {},
   "outputs": [],
   "source": [
    "import os\n",
    "os.environ[\"CUDA_DEVICE_ORDER\"]=\"PCI_BUS_ID\"\n",
    "os.environ[\"CUDA_VISIBLE_DEVICES\"]=\"1\""
   ]
  },
  {
   "cell_type": "code",
   "execution_count": 2,
   "id": "upset-leisure",
   "metadata": {},
   "outputs": [],
   "source": [
    "from __future__ import absolute_import, division, print_function, unicode_literals\n",
    "import os\n",
    "import numpy as np\n",
    "import matplotlib.pyplot as plt\n",
    "import cv2"
   ]
  },
  {
   "cell_type": "code",
   "execution_count": null,
   "id": "dangerous-requirement",
   "metadata": {},
   "outputs": [],
   "source": [
    "PATH = \"./LOCATE_jpeg\"\n",
    "\n",
    "def create_dataset(img_folder):\n",
    "    img_data_array=[]\n",
    "    class_name=[]\n",
    "   \n",
    "    for dir1 in os.listdir(img_folder):\n",
    "        for file in os.listdir(os.path.join(img_folder, dir1)):\n",
    "       \n",
    "            image_path = os.path.join(img_folder, dir1,  file)\n",
    "            image = cv2.imread( image_path, cv2.COLOR_BGR2RGB)\n",
    "            image = cv2.resize(image, (IMG_HEIGHT, IMG_WIDTH), interpolation = cv2.INTER_AREA)\n",
    "            image = np.array(image)\n",
    "            image = image.astype('float32')\n",
    "            image /= 255 \n",
    "            \n",
    "            img_data_array.append(image)\n",
    "            class_name.append(dir1)\n",
    "            \n",
    "    return img_data_array, class_name\n",
    "\n",
    "x, y = create_dataset(PATH)"
   ]
  },
  {
   "cell_type": "code",
   "execution_count": null,
   "id": "blessed-reaction",
   "metadata": {},
   "outputs": [],
   "source": [
    "y_dict = {k: v for v, k in enumerate(np.unique(y))}\n",
    "y_dict"
   ]
  },
  {
   "cell_type": "code",
   "execution_count": null,
   "id": "beautiful-mortgage",
   "metadata": {},
   "outputs": [],
   "source": [
    "y_val = [y_dict[y[i]] for i in range(len(y))]"
   ]
  },
  {
   "cell_type": "code",
   "execution_count": null,
   "id": "divided-surprise",
   "metadata": {},
   "outputs": [],
   "source": [
    "x_array = np.array(x, np.float32)\n",
    "y_array = np.array(list(map(int,y_val)), np.float32)"
   ]
  },
  {
   "cell_type": "code",
   "execution_count": null,
   "id": "actual-logging",
   "metadata": {},
   "outputs": [],
   "source": [
    "np.save('datos.npy', x_array)\n",
    "np.save('etiquetas.npy', y_array)"
   ]
  }
 ],
 "metadata": {
  "kernelspec": {
   "display_name": "Python 3",
   "language": "python",
   "name": "python3"
  },
  "language_info": {
   "codemirror_mode": {
    "name": "ipython",
    "version": 3
   },
   "file_extension": ".py",
   "mimetype": "text/x-python",
   "name": "python",
   "nbconvert_exporter": "python",
   "pygments_lexer": "ipython3",
   "version": "3.7.10"
  }
 },
 "nbformat": 4,
 "nbformat_minor": 5
}
